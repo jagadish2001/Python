{
 "cells": [
  {
   "cell_type": "code",
   "execution_count": 1,
   "id": "0aad621f",
   "metadata": {},
   "outputs": [],
   "source": [
    "import time\n",
    "from time import time"
   ]
  },
  {
   "cell_type": "code",
   "execution_count": 2,
   "id": "f86bdf74",
   "metadata": {},
   "outputs": [
    {
     "name": "stdout",
     "output_type": "stream",
     "text": [
      "Enter a name: jagadish\n",
      "Bed two\n",
      "9.255048274993896\n"
     ]
    }
   ],
   "source": [
    "start = time()\n",
    "\n",
    "room = input(\"Enter a name: \")\n",
    "if room.lower() == 'shanmukh':\n",
    "    print(\"Bed one\")\n",
    "if room.lower() == 'jagadish':\n",
    "    print(\"Bed two\")\n",
    "elif room.lower() == 'durga':\n",
    "    print(\"Bed three\")\n",
    "elif room.lower() == 'krishna':\n",
    "    print(\"Bed four\")\n",
    "else:\n",
    "    print(\"Try to enter a correct name\")\n",
    "    \n",
    "end = time()\n",
    "print(end-start)"
   ]
  },
  {
   "cell_type": "code",
   "execution_count": 2,
   "id": "a3166a74",
   "metadata": {},
   "outputs": [],
   "source": [
    "import time\n",
    "from time import time"
   ]
  },
  {
   "cell_type": "code",
   "execution_count": 3,
   "id": "43bf8113",
   "metadata": {},
   "outputs": [
    {
     "name": "stdout",
     "output_type": "stream",
     "text": [
      "Enter a marks: 40\n",
      "Fail\n",
      "4.74982762336731\n"
     ]
    }
   ],
   "source": [
    "start = time()\n",
    "marks = int(input(\"Enter a marks: \"))\n",
    "if marks > 90:\n",
    "    print('Grade A')\n",
    "if marks >= 80 and marks < 90:\n",
    "    print('Grade B')\n",
    "elif marks >= 70 and marks < 80:\n",
    "    print('Grade c')\n",
    "elif marks >= 60 and marks < 70:\n",
    "    print('Grade D')\n",
    "elif marks < 50:\n",
    "    print(\"Fail\")\n",
    "end = time()\n",
    "print(end-start)"
   ]
  },
  {
   "cell_type": "code",
   "execution_count": 4,
   "id": "e608cb07",
   "metadata": {},
   "outputs": [],
   "source": [
    "import time\n",
    "from time import time"
   ]
  },
  {
   "cell_type": "code",
   "execution_count": 5,
   "id": "c6f657df",
   "metadata": {},
   "outputs": [
    {
     "name": "stdout",
     "output_type": "stream",
     "text": [
      "Enter a number: 24\n",
      "Enter a char: i\n",
      "even and vowel\n",
      "14.821122407913208\n"
     ]
    }
   ],
   "source": [
    "start = time()\n",
    "number = int(input(\"Enter a number: \"))\n",
    "char = input(\"Enter a char: \")\n",
    "vowel = \"aieou\"\n",
    "if number % 2 ==0:\n",
    "    if char in vowel:\n",
    "        print(\"even and vowel\")\n",
    "    elif char not in vowel:\n",
    "        print(\"even and not vowel\")\n",
    "end = time()\n",
    "print(end-start)"
   ]
  },
  {
   "cell_type": "code",
   "execution_count": null,
   "id": "4f9322be",
   "metadata": {},
   "outputs": [],
   "source": []
  }
 ],
 "metadata": {
  "kernelspec": {
   "display_name": "Python 3 (ipykernel)",
   "language": "python",
   "name": "python3"
  },
  "language_info": {
   "codemirror_mode": {
    "name": "ipython",
    "version": 3
   },
   "file_extension": ".py",
   "mimetype": "text/x-python",
   "name": "python",
   "nbconvert_exporter": "python",
   "pygments_lexer": "ipython3",
   "version": "3.11.3"
  }
 },
 "nbformat": 4,
 "nbformat_minor": 5
}
