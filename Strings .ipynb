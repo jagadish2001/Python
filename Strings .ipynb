{
 "cells": [
  {
   "cell_type": "code",
   "execution_count": 6,
   "id": "f7ac00c1",
   "metadata": {},
   "outputs": [
    {
     "data": {
      "text/plain": [
       "'Im An Indian'"
      ]
     },
     "execution_count": 6,
     "metadata": {},
     "output_type": "execute_result"
    }
   ],
   "source": [
    "# Slicing\n",
    "# slice(start, end, step)\n",
    "\n",
    "str1 = \"Im An Indian\"\n",
    "str1[0: :1]"
   ]
  },
  {
   "cell_type": "code",
   "execution_count": 4,
   "id": "0d99fbe5",
   "metadata": {},
   "outputs": [
    {
     "data": {
      "text/plain": [
       "'Vungarala hsidagaJ'"
      ]
     },
     "execution_count": 4,
     "metadata": {},
     "output_type": "execute_result"
    }
   ],
   "source": [
    "str = \"Vungarala Jagadish\"\n",
    "a = str[0:10:1]\n",
    "b = str[-1:-9:-1]\n",
    "a+b"
   ]
  },
  {
   "cell_type": "code",
   "execution_count": 3,
   "id": "59456b87",
   "metadata": {},
   "outputs": [
    {
     "data": {
      "text/plain": [
       "True"
      ]
     },
     "execution_count": 3,
     "metadata": {},
     "output_type": "execute_result"
    }
   ],
   "source": [
    "str1 = \"Im An Indian\"\n",
    "'Im' in str1"
   ]
  },
  {
   "cell_type": "code",
   "execution_count": 1,
   "id": "1d7ab5a7",
   "metadata": {},
   "outputs": [
    {
     "name": "stdout",
     "output_type": "stream",
     "text": [
      "Im An Indian\n",
      "IM AN INDIAN\n"
     ]
    }
   ],
   "source": [
    "# uppercase()\n",
    "# uppercase method is return a copy of the string and converted to uppercase\n",
    "\n",
    "str1 = \"Im An Indian\"\n",
    "\n",
    "str2 = \"Im An Indian\"\n",
    "print(str1,str2.upper(),sep=\"\\n\")"
   ]
  },
  {
   "cell_type": "code",
   "execution_count": 2,
   "id": "1c28e796",
   "metadata": {},
   "outputs": [
    {
     "name": "stdout",
     "output_type": "stream",
     "text": [
      "Im An Indian\n",
      "im an indian\n"
     ]
    }
   ],
   "source": [
    "# lowercase()\n",
    "# lowercase method is return a copy of the string and converted to uppercase\n",
    "\n",
    "str1 = \"Im An Indian\"\n",
    "\n",
    "str2 = \"Im An Indian\"\n",
    "print(str1,str2.lower(),sep=\"\\n\")"
   ]
  },
  {
   "cell_type": "code",
   "execution_count": 3,
   "id": "f1e5b798",
   "metadata": {},
   "outputs": [
    {
     "name": "stdout",
     "output_type": "stream",
     "text": [
      "im an indian\n",
      "Im An Indian\n"
     ]
    }
   ],
   "source": [
    "# Title\n",
    "# words start with uppercased characters and all remaining cased characters have lower case.\n",
    "\n",
    "str1 = \"im an indian\"\n",
    "\n",
    "str2 = \"Im An Indian\"\n",
    "print(str1,str2.title(),sep=\"\\n\")"
   ]
  },
  {
   "cell_type": "code",
   "execution_count": 4,
   "id": "2f41178c",
   "metadata": {},
   "outputs": [
    {
     "name": "stdout",
     "output_type": "stream",
     "text": [
      "Im An Indian\n",
      "Im an indian\n"
     ]
    }
   ],
   "source": [
    "# capitalize\n",
    "# the first character have upper case and the rest lowercase\n",
    "\n",
    "str1 = \"Im An Indian\"\n",
    "\n",
    "str2 = \"Im An Indian\"\n",
    "print(str1,str2.capitalize(),sep=\"\\n\")"
   ]
  },
  {
   "cell_type": "code",
   "execution_count": 5,
   "id": "2eb2ab67",
   "metadata": {},
   "outputs": [
    {
     "name": "stdout",
     "output_type": "stream",
     "text": [
      "Im An Indian\n",
      "iM aN iNDIAN\n"
     ]
    }
   ],
   "source": [
    "# swapcase\n",
    "# Convert uppercase characters to lowercase and lowercase characters to uppercase.\n",
    "str1 = \"Im An Indian\"\n",
    "\n",
    "str2 = \"Im An Indian\"\n",
    "print(str1,str2.swapcase(),sep=\"\\n\")"
   ]
  },
  {
   "cell_type": "code",
   "execution_count": 6,
   "id": "921d3162",
   "metadata": {},
   "outputs": [
    {
     "name": "stdout",
     "output_type": "stream",
     "text": [
      "Im An Indian\n",
      "ss im an indian\n"
     ]
    }
   ],
   "source": [
    "# casefold\n",
    "# Return a version of the string suitable for caseless comparisons.\n",
    "str1 = \"Im An Indian\"\n",
    "\n",
    "str2 = \"ß Im An Indian\"\n",
    "print(str1,str2.casefold(),sep=\"\\n\")"
   ]
  },
  {
   "cell_type": "code",
   "execution_count": null,
   "id": "52b009c3",
   "metadata": {},
   "outputs": [],
   "source": []
  }
 ],
 "metadata": {
  "kernelspec": {
   "display_name": "Python 3 (ipykernel)",
   "language": "python",
   "name": "python3"
  },
  "language_info": {
   "codemirror_mode": {
    "name": "ipython",
    "version": 3
   },
   "file_extension": ".py",
   "mimetype": "text/x-python",
   "name": "python",
   "nbconvert_exporter": "python",
   "pygments_lexer": "ipython3",
   "version": "3.11.3"
  }
 },
 "nbformat": 4,
 "nbformat_minor": 5
}
