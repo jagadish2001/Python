{
 "cells": [
  {
   "cell_type": "markdown",
   "id": "1a4111fb",
   "metadata": {},
   "source": [
    "### 1.Create a function that takes a base number and an exponent number and returns the calculation.\n",
    "#### Example\n",
    "    - calculate_exponent(3, 3) ➞ 27\n"
   ]
  },
  {
   "cell_type": "code",
   "execution_count": 6,
   "id": "a11ed101",
   "metadata": {},
   "outputs": [
    {
     "name": "stdout",
     "output_type": "stream",
     "text": [
      "3^3 = 27\n"
     ]
    }
   ],
   "source": [
    "# Input base and exponent numbers\n",
    "base = 3\n",
    "exponent = 3\n",
    "\n",
    "# Initialize the result to 1\n",
    "result = 1\n",
    "\n",
    "# Check if the exponent is negative\n",
    "if exponent < 0:\n",
    "    base = 1 / base\n",
    "\n",
    "# Calculate the result using a for loop\n",
    "for i in range(exponent):\n",
    "    result *= base\n",
    "\n",
    "# Print the result\n",
    "print(f\"{base}^{exponent} = {result}\")\n",
    "\n"
   ]
  },
  {
   "cell_type": "code",
   "execution_count": 2,
   "id": "4b8e6100",
   "metadata": {},
   "outputs": [
    {
     "name": "stdout",
     "output_type": "stream",
     "text": [
      "3\n",
      "3\n",
      "3^3 = 27\n"
     ]
    }
   ],
   "source": [
    "base = int(input())\n",
    "exp = int(input())\n",
    "result=1\n",
    "i=0\n",
    "while i < exp:\n",
    "    result*=base\n",
    "    i+=1\n",
    "print(f\"{base}^{exp} = {result}\")"
   ]
  },
  {
   "cell_type": "markdown",
   "id": "aca9fe7e",
   "metadata": {},
   "source": [
    "###  2.Create a function that takes a list of numbers. Return the largest number in the list.\n",
    "#### Example:-\n",
    "    - Large_Num_in_list([4, 5, 1, 3]) ➞ 5\n",
    "\n",
    "\n"
   ]
  },
  {
   "cell_type": "code",
   "execution_count": 13,
   "id": "fe51d7d3",
   "metadata": {},
   "outputs": [
    {
     "name": "stdout",
     "output_type": "stream",
     "text": [
      "largest number in the list is: 42\n"
     ]
    }
   ],
   "source": [
    "n = [2,12,22,5,32,42]\n",
    "if not n:\n",
    "    print(\"the list is empty\")\n",
    "else:\n",
    "    largest=n[0]\n",
    "    for i in n:\n",
    "        if i > largest:\n",
    "            largest = i\n",
    "    print(\"largest number in the list is:\",largest)\n"
   ]
  },
  {
   "cell_type": "code",
   "execution_count": 8,
   "id": "3182f2b7",
   "metadata": {},
   "outputs": [
    {
     "name": "stdout",
     "output_type": "stream",
     "text": [
      "largest number in this list is: 42\n"
     ]
    }
   ],
   "source": [
    "n = [2,12,22,5,32,42]\n",
    "largest = 0\n",
    "i=0\n",
    "while i < len(n):\n",
    "    if n[i]>largest:\n",
    "        largest=n[i]\n",
    "    i+=1\n",
    "print(\"largest number in this list is:\",largest)"
   ]
  },
  {
   "cell_type": "markdown",
   "id": "b7b8e081",
   "metadata": {},
   "source": [
    "###  3.Create a function that takes a list of numbers. Return the smallest number in the list.\n",
    "### Example:-\n",
    "    - small_Num_in_list([4, 5, 1, 3]) ➞ 1\n"
   ]
  },
  {
   "cell_type": "code",
   "execution_count": 14,
   "id": "4284b72b",
   "metadata": {},
   "outputs": [
    {
     "name": "stdout",
     "output_type": "stream",
     "text": [
      "smallest number in the list is: 2\n"
     ]
    }
   ],
   "source": [
    "n = [22,32,2,42,52]\n",
    "if not n:\n",
    "    print(\"the list is empty\")\n",
    "else:\n",
    "    smallest=n[0]\n",
    "    for i in n:\n",
    "        if i<smallest:\n",
    "            smallest=i\n",
    "    print(\"smallest number in the list is:\",smallest)"
   ]
  },
  {
   "cell_type": "code",
   "execution_count": 12,
   "id": "5ff43569",
   "metadata": {},
   "outputs": [
    {
     "name": "stdout",
     "output_type": "stream",
     "text": [
      "smallest number in the list is: 2\n"
     ]
    }
   ],
   "source": [
    "n = [22,32,2,42,52]\n",
    "smallest = n[0]\n",
    "i = 1\n",
    "while i < len(n):\n",
    "    if n[i]<smallest:\n",
    "        smallest=n[i]\n",
    "    i+=1\n",
    "print(\"smallest number in the list is:\",smallest)"
   ]
  },
  {
   "cell_type": "markdown",
   "id": "d479b580",
   "metadata": {},
   "source": [
    "### 4.Create a function that takes a list and returns the sum of all numbers in the list.\n",
    "#### Example:-\n",
    "    - sum[1,3,6,9] --> 19"
   ]
  },
  {
   "cell_type": "code",
   "execution_count": 30,
   "id": "6399e5f8",
   "metadata": {},
   "outputs": [
    {
     "name": "stdout",
     "output_type": "stream",
     "text": [
      "20\n"
     ]
    }
   ],
   "source": [
    "number = [1,3,7,9]\n",
    "sum = 0\n",
    "for ele in number:\n",
    "    sum = sum + ele\n",
    "print(sum)"
   ]
  },
  {
   "cell_type": "code",
   "execution_count": 3,
   "id": "24ca386f",
   "metadata": {},
   "outputs": [
    {
     "name": "stdout",
     "output_type": "stream",
     "text": [
      "20\n"
     ]
    }
   ],
   "source": [
    "num = [1,3,7,9]\n",
    "sum = 0\n",
    "i=0\n",
    "while i<len(num):\n",
    "    sum+=num[i]\n",
    "    i+=1\n",
    "print(sum)"
   ]
  },
  {
   "cell_type": "markdown",
   "id": "f269f513",
   "metadata": {},
   "source": [
    "### 5.Create a function that returns the last value of the last item in a list or string.\n",
    "#### Example:-\n",
    "    last_element=\"jagadish\" --> h"
   ]
  },
  {
   "cell_type": "code",
   "execution_count": 44,
   "id": "1a969f64",
   "metadata": {},
   "outputs": [
    {
     "name": "stdout",
     "output_type": "stream",
     "text": [
      "h\n"
     ]
    }
   ],
   "source": [
    "l = 'jagadish'\n",
    "for i in l:\n",
    "    y=l[-1]\n",
    "print(y)"
   ]
  },
  {
   "cell_type": "code",
   "execution_count": 4,
   "id": "e9806cda",
   "metadata": {},
   "outputs": [
    {
     "name": "stdout",
     "output_type": "stream",
     "text": [
      "1\n"
     ]
    }
   ],
   "source": [
    "l = [2,3,4,5,1]\n",
    "for i in l:\n",
    "    last_item=l[-1]\n",
    "print(last_item)\n"
   ]
  },
  {
   "cell_type": "markdown",
   "id": "c0a9144d",
   "metadata": {},
   "source": [
    "### 6.Create a function which returns the total of all odd numbers up to and including n. n will be given as an odd number.\n",
    "#### Example:-\n",
    "    a = [1,3,5]--> 9\n"
   ]
  },
  {
   "cell_type": "code",
   "execution_count": 2,
   "id": "d19dc1e1",
   "metadata": {},
   "outputs": [
    {
     "name": "stdout",
     "output_type": "stream",
     "text": [
      "9 "
     ]
    }
   ],
   "source": [
    "sum = 0\n",
    "for i in range(6):\n",
    "    if i%2!=0:\n",
    "        sum = sum +i\n",
    "print(sum,end=\" \")"
   ]
  },
  {
   "cell_type": "code",
   "execution_count": 13,
   "id": "e3d69424",
   "metadata": {},
   "outputs": [
    {
     "name": "stdout",
     "output_type": "stream",
     "text": [
      "9\n"
     ]
    }
   ],
   "source": [
    "odd = 5\n",
    "sum=0\n",
    "i=1\n",
    "while i <= odd:\n",
    "        sum+=i\n",
    "        i+=2\n",
    "print(sum)"
   ]
  },
  {
   "cell_type": "markdown",
   "id": "a0823022",
   "metadata": {},
   "source": [
    "### 7.Create a function that takes two parameters (start, stop), and returns the sum of all even numbers in the range.\n",
    "#### Example:-\n",
    "    sum_even_nums_in_range(10, 22) ➞ 90\n"
   ]
  },
  {
   "cell_type": "code",
   "execution_count": 2,
   "id": "bfb77d2e",
   "metadata": {},
   "outputs": [
    {
     "name": "stdout",
     "output_type": "stream",
     "text": [
      "90 "
     ]
    }
   ],
   "source": [
    "sum = 0\n",
    "for ele in range(10,22):\n",
    "    if ele%2==0:\n",
    "        sum = sum +ele\n",
    "print(sum,end=\" \")"
   ]
  },
  {
   "cell_type": "code",
   "execution_count": 21,
   "id": "3e0ebf45",
   "metadata": {},
   "outputs": [
    {
     "name": "stdout",
     "output_type": "stream",
     "text": [
      "9\n"
     ]
    }
   ],
   "source": [
    "n = 5\n",
    "sum = 0\n",
    "i=1\n",
    "while i <= n:\n",
    "        sum+=i\n",
    "        i+=2\n",
    "print(sum)"
   ]
  },
  {
   "cell_type": "markdown",
   "id": "3fe2dfce",
   "metadata": {},
   "source": [
    "### 8.Create a function that takes two strings as arguments and returns the number of times the first string (the single character) is found in the second string.\n",
    "#### Example:-\n",
    "    char_count(\"a\", \"edabit\") ➞ 1\n",
    "\n"
   ]
  },
  {
   "cell_type": "code",
   "execution_count": 4,
   "id": "054b8145",
   "metadata": {},
   "outputs": [
    {
     "data": {
      "text/plain": [
       "[5]"
      ]
     },
     "execution_count": 4,
     "metadata": {},
     "output_type": "execute_result"
    }
   ],
   "source": [
    "l = [\"jagadeesh vungarala\"]\n",
    "b = [ele.count('a') for ele in l]\n",
    "b"
   ]
  },
  {
   "cell_type": "code",
   "execution_count": null,
   "id": "260a28e5",
   "metadata": {},
   "outputs": [],
   "source": []
  },
  {
   "cell_type": "markdown",
   "id": "c55f995b",
   "metadata": {},
   "source": [
    "### 9.Create a function which returns the length of a string, without using len().\n",
    "#### Example:-\n",
    "    length(\"wash your hands!\") ➞ 16\n"
   ]
  },
  {
   "cell_type": "code",
   "execution_count": 30,
   "id": "56006d62",
   "metadata": {},
   "outputs": [
    {
     "name": "stdout",
     "output_type": "stream",
     "text": [
      "jagadish\n",
      "length of the string: 8\n"
     ]
    }
   ],
   "source": [
    "l= input()\n",
    "#l = \"jagadish vungarala\"\n",
    "count = 0\n",
    "for i in l:\n",
    "    count+=1\n",
    "print(\"length of the string:\",count)"
   ]
  },
  {
   "cell_type": "code",
   "execution_count": 29,
   "id": "2a4d73ad",
   "metadata": {},
   "outputs": [
    {
     "name": "stdout",
     "output_type": "stream",
     "text": [
      "length of the string: 9\n"
     ]
    }
   ],
   "source": [
    "l = (\"jagadeesh\")\n",
    "i=0\n",
    "count=0\n",
    "while i < len(l):\n",
    "    i+=1\n",
    "    count=i\n",
    "print(\"length of the string:\",count)"
   ]
  },
  {
   "cell_type": "markdown",
   "id": "58995506",
   "metadata": {},
   "source": [
    "### 10.Create a function that takes a number n and returns the sum of all square numbers up to and including n.\n",
    "#### Example:-\n",
    "    - squares_sum(3) ➞ 14\n",
    "      * 1² + 2² + 3² =\n",
    "      * 1 + 4 + 9 =\n",
    "      * 14"
   ]
  },
  {
   "cell_type": "code",
   "execution_count": 35,
   "id": "3d9beb1c",
   "metadata": {},
   "outputs": [
    {
     "name": "stdout",
     "output_type": "stream",
     "text": [
      "Enter a square:5\n",
      "55 "
     ]
    }
   ],
   "source": [
    "l = int(input(\"Enter a square:\"))\n",
    "t=0\n",
    "for i in range(1,l+1):\n",
    "    t+=i**2\n",
    "print(t,end=\" \")"
   ]
  },
  {
   "cell_type": "code",
   "execution_count": 38,
   "id": "55ea5d7b",
   "metadata": {},
   "outputs": [
    {
     "name": "stdout",
     "output_type": "stream",
     "text": [
      "Enter a square:5\n",
      "55\n"
     ]
    }
   ],
   "source": [
    "l = int(input(\"Enter a square:\"))\n",
    "t=0\n",
    "i=0\n",
    "while i<=l:\n",
    "        t+=i**2\n",
    "        i+=1\n",
    "print(t)"
   ]
  },
  {
   "cell_type": "markdown",
   "id": "95759e6f",
   "metadata": {},
   "source": [
    "### 11.A palindrome is a word that is identical forward and backwards.\n",
    "#### Example\n",
    "    mom\n",
    "    racecar\n",
    "    kayak\n",
    "Given a word, create a function that checks whether it is a palindrome.\n",
    "\n",
    "Examples\n",
    "    is_palindrome(\"mom\") ➞ True\n"
   ]
  },
  {
   "cell_type": "code",
   "execution_count": 12,
   "id": "45b149e0",
   "metadata": {},
   "outputs": [
    {
     "name": "stdout",
     "output_type": "stream",
     "text": [
      "Enter a string:121\n",
      "it is a palindrome\n"
     ]
    }
   ],
   "source": [
    "str = input(\"Enter a string:\")\n",
    "r = ''\n",
    "for char in str:\n",
    "    r=char+r\n",
    "if str==r:\n",
    "    print(\"it is a palindrome\")\n",
    "else:\n",
    "    print(\"it is not a palindrome\")"
   ]
  },
  {
   "cell_type": "code",
   "execution_count": 40,
   "id": "b7860953",
   "metadata": {},
   "outputs": [
    {
     "name": "stdout",
     "output_type": "stream",
     "text": [
      "Enter the string : 121\n",
      "palindrome\n"
     ]
    }
   ],
   "source": [
    "x=input('Enter the string : ')\n",
    "if (x==x[::-1]):\n",
    "    print('palindrome')\n",
    "else:\n",
    "    print('not a palindrome')"
   ]
  },
  {
   "cell_type": "markdown",
   "id": "8b1d5f9b",
   "metadata": {},
   "source": [
    "### 12.Implement a function that returns a list containing all the consecutive numbers in ascendant order from the given value low up to the given value high (bounds included).\n",
    "#### Examples\n",
    "    get_sequence(1, 5) ➞ [1, 2, 3, 4, 5]\n"
   ]
  },
  {
   "cell_type": "code",
   "execution_count": 13,
   "id": "087af240",
   "metadata": {},
   "outputs": [
    {
     "name": "stdout",
     "output_type": "stream",
     "text": [
      "Enter the low value: 1\n",
      "Enter the high value: 10\n",
      "Consecutive numbers: [1, 2, 3, 4, 5, 6, 7, 8, 9, 10]\n"
     ]
    }
   ],
   "source": [
    "low = int(input(\"Enter the low value: \"))\n",
    "high = int(input(\"Enter the high value: \"))\n",
    "\n",
    "numbers = []\n",
    "\n",
    "for num in range(low, high + 1):\n",
    "    numbers.append(num)\n",
    "\n",
    "print(\"Consecutive numbers:\", numbers)\n"
   ]
  },
  {
   "cell_type": "code",
   "execution_count": 41,
   "id": "2497379e",
   "metadata": {},
   "outputs": [
    {
     "name": "stdout",
     "output_type": "stream",
     "text": [
      "[0, 1, 2, 3, 4, 5]\n"
     ]
    }
   ],
   "source": [
    "low = 1\n",
    "high = 5\n",
    "numbers=[]\n",
    "i=0\n",
    "while i<=high:\n",
    "    numbers.append(i)\n",
    "    i+=1\n",
    "print(numbers)"
   ]
  },
  {
   "cell_type": "markdown",
   "id": "11114286",
   "metadata": {},
   "source": [
    "### 13.Create a function that takes a list and returns the difference between the biggest and smallest numbers.\n",
    "\n",
    "#### Examples\n",
    "difference_max_min([10, 4, 1, 4, -10, -50, 32, 21]) ➞ 82\n",
    " - Smallest number is -50, biggest is 32.\n"
   ]
  },
  {
   "cell_type": "code",
   "execution_count": 41,
   "id": "65d20a58",
   "metadata": {},
   "outputs": [
    {
     "name": "stdout",
     "output_type": "stream",
     "text": [
      "difference between the largest and smallest: 86\n"
     ]
    }
   ],
   "source": [
    "x=[44,32,86,19]\n",
    "largest=0\n",
    "smallest=0\n",
    "for i in x:\n",
    "    if i < smallest:\n",
    "        smallest=i\n",
    "    elif i > largest:\n",
    "        largest = i\n",
    "\n",
    "difference = largest - smallest\n",
    "print(f'difference between the largest and smallest:',difference)"
   ]
  },
  {
   "cell_type": "code",
   "execution_count": 42,
   "id": "c7be7cff",
   "metadata": {},
   "outputs": [
    {
     "name": "stdout",
     "output_type": "stream",
     "text": [
      "difference between the largest and smallest: 86\n"
     ]
    }
   ],
   "source": [
    "num=[44,32,86,19]\n",
    "largest=0\n",
    "smallest=0\n",
    "difference=0\n",
    "i=0\n",
    "while i < len(num):\n",
    "    if num[i] < smallest:\n",
    "        smallest=num[i]\n",
    "    elif num[i] > largest:\n",
    "        largest = num[i]\n",
    "    i+=1\n",
    "    difference=largest-smallest\n",
    "print(f'difference between the largest and smallest:',difference)"
   ]
  },
  {
   "cell_type": "markdown",
   "id": "c3c988c8",
   "metadata": {},
   "source": [
    "### 14.Mubashir created an infinite loop! Help him by fixing the code in the code tab to pass this challenge. Look at the examples below to get an idea of what the function should do.\n",
    "\n",
    "Examples:\n",
    "\n",
    "print_list(1) ➞ [1]\n",
    "\n",
    "print_list(3) ➞ [1, 2, 3]"
   ]
  },
  {
   "cell_type": "code",
   "execution_count": 7,
   "id": "f786de00",
   "metadata": {},
   "outputs": [
    {
     "name": "stdout",
     "output_type": "stream",
     "text": [
      "Enter a number:3\n",
      "The Buggy code: [1, 2, 3]\n"
     ]
    }
   ],
   "source": [
    "n = int(input(\"Enter a number:\"))\n",
    "m = []\n",
    "i = 1\n",
    "while i <= n:\n",
    "    m.append(i)\n",
    "    i +=1\n",
    "print(\"The Buggy code:\",m)"
   ]
  },
  {
   "cell_type": "code",
   "execution_count": 42,
   "id": "9746c10b",
   "metadata": {},
   "outputs": [
    {
     "name": "stdout",
     "output_type": "stream",
     "text": [
      "Enter a number:5\n",
      "[1, 2, 3, 4, 5]\n"
     ]
    }
   ],
   "source": [
    "n = int(input(\"Enter a number:\"))\n",
    "m = []\n",
    "for i in range(1,n+1):\n",
    "    m.append(i)\n",
    "print(m)\n"
   ]
  },
  {
   "cell_type": "markdown",
   "id": "9854f5b7",
   "metadata": {},
   "source": [
    "### 15.Create a function that takes a number (from 1 - 60) and returns a corresponding string of hyphens.\n",
    "\n",
    "Examples\n",
    "num_to_dashes(1) ➞ \"-\"\n",
    "\n",
    "num_to_dashes(5) ➞ \"-----\"\n",
    "\n",
    "num_to_dashes(3) ➞ \"---\""
   ]
  },
  {
   "cell_type": "code",
   "execution_count": 11,
   "id": "21442950",
   "metadata": {},
   "outputs": [
    {
     "name": "stdout",
     "output_type": "stream",
     "text": [
      "4\n",
      "\"----\"\n"
     ]
    }
   ],
   "source": [
    "n = int(input(\"\"))\n",
    "i=0\n",
    "y=''\n",
    "while i<n:\n",
    "    y+='-'\n",
    "    i+=1\n",
    "print(f'\"{y}\"')"
   ]
  },
  {
   "cell_type": "markdown",
   "id": "91535929",
   "metadata": {},
   "source": [
    "### 16.Write a function that takes an integer and returns a string with the given number of \"a\"s in Edabit.\n",
    "\n",
    "Examples\n",
    "\n",
    "how_many_times(5) ➞ \"Edaaaaabit\""
   ]
  },
  {
   "cell_type": "code",
   "execution_count": 43,
   "id": "7f35ae30",
   "metadata": {},
   "outputs": [
    {
     "name": "stdout",
     "output_type": "stream",
     "text": [
      "Enter a num:8\n",
      "Eaaaaaaaabit\n"
     ]
    }
   ],
   "source": [
    "name = int(input(\"Enter a str:\"))\n",
    "result=''\n",
    "\n",
    "while num >=1:\n",
    "    result = \"a\" +result\n",
    "    num-=1\n",
    "\n",
    "result=\"E\" + result + \"bit\"\n",
    "print(result)"
   ]
  },
  {
   "cell_type": "code",
   "execution_count": 27,
   "id": "3901e89f",
   "metadata": {},
   "outputs": [
    {
     "name": "stdout",
     "output_type": "stream",
     "text": [
      "Enter a str:6\n",
      "edaaaaaabit\n"
     ]
    }
   ],
   "source": [
    "name = int(input(\"Enter a str:\"))\n",
    "result=''\n",
    "for i in range(name):\n",
    "    result+='a'\n",
    "    \n",
    "print('ed'+result+'bit')"
   ]
  },
  {
   "cell_type": "markdown",
   "id": "523d071a",
   "metadata": {},
   "source": [
    "### 17. Create a function that returns True if all parameters are truthy, and False otherwise.\n",
    "\n",
    "Examples\n",
    "\n",
    "all_truthy(True, True, True) ➞ True\n",
    "\n",
    "all_truthy(True, False, True) ➞ False\n",
    "\n",
    "all_truthy(5, 4, 3, 2, 1, 0) ➞ False"
   ]
  },
  {
   "cell_type": "code",
   "execution_count": 39,
   "id": "c5a46811",
   "metadata": {},
   "outputs": [
    {
     "name": "stdout",
     "output_type": "stream",
     "text": [
      "True\n"
     ]
    }
   ],
   "source": [
    "num = (1,1,1) \n",
    "result=True\n",
    "for i in num:\n",
    "    if i in num:\n",
    "        result=True\n",
    "        break\n",
    "print(result)"
   ]
  },
  {
   "cell_type": "code",
   "execution_count": 40,
   "id": "83e290f0",
   "metadata": {},
   "outputs": [
    {
     "name": "stdout",
     "output_type": "stream",
     "text": [
      "True\n"
     ]
    }
   ],
   "source": [
    "x = [True,True,True]\n",
    "result=True\n",
    "i=0\n",
    "while i<len(x):\n",
    "    if not x[i]:\n",
    "        result= False\n",
    "        break\n",
    "    i+=1\n",
    "print(result)\n",
    "    \n",
    "    "
   ]
  },
  {
   "cell_type": "markdown",
   "id": "adb1c3cd",
   "metadata": {},
   "source": [
    "## 18. Scientists have discovered that in four decades, the world will EXPLODE! It will also take three decades to make a spaceship to travel to a new planet that can hold the entire world population.\n",
    "\n",
    "You must calculate the number of people there will be in three decades from now.\n",
    "\n",
    "The variable P is the world population now.\n",
    "\n",
    "    Assume that every month, someone gives birth to more people nP.\n",
    "    Return the number of people there will be when the spaceship is complete.\n"
   ]
  },
  {
   "cell_type": "code",
   "execution_count": 48,
   "id": "96e667d7",
   "metadata": {},
   "outputs": [
    {
     "name": "stdout",
     "output_type": "stream",
     "text": [
      "Enter a population:1500\n",
      "Enter the birth every month:500\n",
      "6000\n"
     ]
    }
   ],
   "source": [
    "p = int(input(\"Enter a population:\"))\n",
    "np = int(input(\"Enter the birth every month:\"))\n",
    "decades =  3\n",
    "months_per_decade = 12\n",
    "\n",
    "for i in range(decades):\n",
    "    birth = np*months_per_decade  \n",
    "print(birth)"
   ]
  },
  {
   "cell_type": "markdown",
   "id": "1e206473",
   "metadata": {},
   "source": [
    "19.  Word Numbers! Create a function that returns a number, based on the string provided. Here is a list of all digits:\n",
    "\n",
    "String Number\n",
    "\"one\" 1\n",
    "\"two\" 2\n",
    "\"three\" 3\n",
    "\"four\" 4\n",
    "\"five\" 5\n",
    "\"six\" 6\n",
    "\"seven\" 7\n",
    "\"eight\" 8\n",
    "\"nine\" 9\n",
    "\"zero\" 0\n",
    "Examples word(\"one\") ➞ 1\n",
    "\n",
    "word(\"two\") ➞ 2\n",
    "\n",
    "word(\"nine\") ➞ 9 "
   ]
  },
  {
   "cell_type": "code",
   "execution_count": 51,
   "id": "b14bb294",
   "metadata": {},
   "outputs": [
    {
     "name": "stdout",
     "output_type": "stream",
     "text": [
      "0\n"
     ]
    }
   ],
   "source": [
    "word_number = {\n",
    "    \"one\": 1,\n",
    "    \"two\": 2,\n",
    "    \"three\": 3,\n",
    "    \"four\": 4,\n",
    "    \"five\": 5,\n",
    "    \"six\": 6,\n",
    "    \"seven\": 7,\n",
    "    \"eight\": 8,\n",
    "    \"nine\": 9,\n",
    "    \"zero\": 0\n",
    "}\n",
    "word = \"zero\"\n",
    "result= None\n",
    "\n",
    "for key, value in word_number.items():\n",
    "    if key == word:\n",
    "        result = value\n",
    "        break\n",
    "print(result)"
   ]
  },
  {
   "cell_type": "markdown",
   "id": "665f94f5",
   "metadata": {},
   "source": [
    "## 20. Find the Index Create a function that takes a list and a string as arguments and returns the index of the string.\n",
    "\n",
    "Examples find_index([\"hi\", \"edabit\", \"fgh\", \"abc\"], \"fgh\") ➞ 2\n",
    "\n",
    "find_index([\"Red\", \"blue\", \"Blue\", \"Green\"], \"blue\") ➞ 1\n",
    "\n",
    "find_index([\"a\", \"g\", \"y\", \"d\"], \"d\") ➞ 3\n",
    "\n",
    "find_index([\"Pineapple\", \"Orange\", \"Grape\", \"Apple\"], \"Pineapple\") ➞ 0"
   ]
  },
  {
   "cell_type": "code",
   "execution_count": 65,
   "id": "eddef469",
   "metadata": {},
   "outputs": [
    {
     "name": "stdout",
     "output_type": "stream",
     "text": [
      "3\n"
     ]
    }
   ],
   "source": [
    "list=[\"hi\", \"edabit\", \"fgh\", \"abc\"] \n",
    "string=\"abc\"\n",
    "\n",
    "index = None\n",
    "\n",
    "for i in range(len(list)):\n",
    "    if list[i] == string:\n",
    "        l = i\n",
    "        break\n",
    "        \n",
    "print(l)\n",
    "\n"
   ]
  },
  {
   "cell_type": "code",
   "execution_count": 1,
   "id": "35afc774",
   "metadata": {},
   "outputs": [
    {
     "name": "stdout",
     "output_type": "stream",
     "text": [
      "3\n"
     ]
    }
   ],
   "source": [
    "list=[\"hi\", \"edabit\", \"fgh\", \"abc\"] \n",
    "string = \"abc\"\n",
    "i = 0\n",
    "\n",
    "while i < len(list):\n",
    "    if list[i]==string:\n",
    "        print(i)\n",
    "        break\n",
    "    i+=1\n"
   ]
  },
  {
   "cell_type": "markdown",
   "id": "1abe3e73",
   "metadata": {},
   "source": [
    "## 21. Sum of Minimums Create a function that takes a 2D list lst and returns the sum of the minimum value in each row.\n",
    "\n",
    "Examples sum_minimums([ [1, 2, 3, 4, 5], [5, 6, 7, 8, 9], [20, 21, 34, 56, 100] ]) ➞ 26\n",
    "\n",
    "minimum value of the first row is 1 minimum value of the second row is 5 minimum value of the third row is 20"
   ]
  },
  {
   "cell_type": "code",
   "execution_count": 4,
   "id": "66e5c5ce",
   "metadata": {},
   "outputs": [
    {
     "name": "stdout",
     "output_type": "stream",
     "text": [
      "26\n"
     ]
    }
   ],
   "source": [
    "list=[ [1, 2, 3, 4, 5], [5, 6, 7, 8, 9], [20, 21, 34, 56, 100] ]\n",
    "sum_min = 0\n",
    "for i in list:\n",
    "    min_value=min(i)\n",
    "    sum_min+=min_value\n",
    "print(sum_min)\n"
   ]
  },
  {
   "cell_type": "markdown",
   "id": "1f23504a",
   "metadata": {},
   "source": [
    "## 22. Factors of a Given Number Create a function that finds each factor of a given number n. Your solution should return a list of the number(s) that meet this criteria.\n",
    "\n",
    "Examples find_factors(9) ➞ [1, 3, 9] 9 has three factors 1, 3 and 9\n",
    "\n",
    "find_factors(12) ➞ [1, 2, 3, 4, 6, 12]\n",
    "\n",
    "find_factors(20) ➞ [1, 2, 4, 5, 10, 20]\n",
    "\n",
    "find_factors(0) ➞ [] 0 has no factors"
   ]
  },
  {
   "cell_type": "code",
   "execution_count": 16,
   "id": "c23ef035",
   "metadata": {},
   "outputs": [
    {
     "name": "stdout",
     "output_type": "stream",
     "text": [
      "Enter a number:20\n",
      "[1, 2, 4, 5, 10, 20]\n"
     ]
    }
   ],
   "source": [
    "num =int(input(\"Enter a number:\"))\n",
    "factors=[]\n",
    "for i in range(1,num+1):\n",
    "    if num % i==0:\n",
    "        factors.append(i)\n",
    "print(factors)"
   ]
  },
  {
   "cell_type": "code",
   "execution_count": 17,
   "id": "1e27c949",
   "metadata": {},
   "outputs": [
    {
     "name": "stdout",
     "output_type": "stream",
     "text": [
      "Enter a number:20\n",
      "[1, 2, 4, 5, 10, 20]\n"
     ]
    }
   ],
   "source": [
    "num=int(input(\"Enter a number:\"))\n",
    "factors=[]\n",
    "i=1\n",
    "while i<=num:\n",
    "    if num % i ==0:\n",
    "        factors.append(i)\n",
    "    i+=1\n",
    "print(factors)"
   ]
  },
  {
   "cell_type": "markdown",
   "id": "2be4b337",
   "metadata": {},
   "source": [
    "## 23. Reverse the Case Given a string, create a function to reverse the case. All lower-cased letters should be upper-cased, and vice versa.\n",
    "\n",
    "Examples reverse_case(\"Happy Birthday\") ➞ \"hAPPY bIRTHDAY\"\n",
    "\n",
    "reverse_case(\"MANY THANKS\") ➞ \"many thanks\"\n",
    "\n",
    "reverse_case(\"sPoNtAnEoUs\") ➞ \"SpOnTaNeOuS\""
   ]
  },
  {
   "cell_type": "code",
   "execution_count": 19,
   "id": "ae3bf1e2",
   "metadata": {},
   "outputs": [
    {
     "name": "stdout",
     "output_type": "stream",
     "text": [
      "enter a name:JaGaDiSh\n",
      "jAgAdIsH\n"
     ]
    }
   ],
   "source": [
    "y = input(\"enter a name:\")\n",
    "z=\"\"\n",
    "for i in y:\n",
    "    if i.islower():\n",
    "        z+=i.upper()\n",
    "        \n",
    "    if i.isupper():\n",
    "        z+=i.lower()\n",
    "        \n",
    "print(z)\n"
   ]
  },
  {
   "cell_type": "code",
   "execution_count": 21,
   "id": "7bc7e332",
   "metadata": {},
   "outputs": [
    {
     "name": "stdout",
     "output_type": "stream",
     "text": [
      "enter a name:jAgAdIsH\n",
      "JaGaDiSh\n"
     ]
    }
   ],
   "source": [
    "y = input(\"enter a name:\")\n",
    "i=0\n",
    "while i<len(y):\n",
    "    z=y.swapcase()\n",
    "    i+=1\n",
    "print(z)\n",
    "    "
   ]
  },
  {
   "cell_type": "markdown",
   "id": "791404fc",
   "metadata": {},
   "source": [
    "## 24.  Even and Odd Strings Given a one word lowercase string txt, return another string such that even-indexed and odd-indexed characters are grouped and groups are space-separated.\n",
    "\n",
    "Examples even_odd_string(\"mubashir\") ➞ \"mbsi uahr\" Letters at even indexes = \"mbsi\" Letters at odd indexes = \"uahr\" Join both strings with a space\n",
    "\n",
    "even_odd_string(\"edabit\") ➞ \"eai dbt\"\n",
    "\n",
    "even_odd_string(\"airforce\") ➞ \"aroc ifre\""
   ]
  },
  {
   "cell_type": "code",
   "execution_count": 3,
   "id": "992def21",
   "metadata": {},
   "outputs": [
    {
     "name": "stdout",
     "output_type": "stream",
     "text": [
      "enter a string: jagadish\n",
      "jgds aaih\n"
     ]
    }
   ],
   "source": [
    "name = input('enter a string: ')\n",
    "\n",
    "even_chars = \"\"\n",
    "odd_chars = \"\"\n",
    "\n",
    "for i in range(len(name)):\n",
    "    if i % 2 == 0:\n",
    "        even_chars += name[i]\n",
    "    else:\n",
    "        odd_chars += name[i]\n",
    "\n",
    "result = even_chars + \" \" + odd_chars\n",
    "print(result)"
   ]
  },
  {
   "cell_type": "code",
   "execution_count": 4,
   "id": "eac86523",
   "metadata": {},
   "outputs": [
    {
     "name": "stdout",
     "output_type": "stream",
     "text": [
      "enter a string: jagadish\n",
      "jgdsaaih\n"
     ]
    }
   ],
   "source": [
    "x = input('enter a string: ')\n",
    "y = \"\" #even char\n",
    "z = \"\" #odd char\n",
    "i = 0\n",
    "while i < len(x):\n",
    "    if i%2==0:\n",
    "        y+=x[i]\n",
    "    else:\n",
    "        z+=x[i]\n",
    "    i+=1\n",
    "a = y+z\n",
    "print(a)"
   ]
  },
  {
   "cell_type": "markdown",
   "id": "7f270154",
   "metadata": {},
   "source": [
    "## 25. Negate the List of Numbers Given a list of numbers, negate all elements contained within.\n",
    "\n",
    "Negating a positive value -+n will return -n, because all +'s are removed. Negating a negative value --n will return n, because the first - turns the second minus into a +. Examples negate([1, 2, 3, 4]) ➞ [-1, -2, -3, -4]\n",
    "\n",
    "negate([-1, 2, -3, 4]) ➞ [1, -2, 3, -4]\n",
    "\n",
    "negate([]) ➞ [] "
   ]
  },
  {
   "cell_type": "code",
   "execution_count": 10,
   "id": "245058e5",
   "metadata": {},
   "outputs": [
    {
     "name": "stdout",
     "output_type": "stream",
     "text": [
      "[-1, -2, -3, -4, -5]\n"
     ]
    }
   ],
   "source": [
    "numbers = list()\n",
    "z = []\n",
    "for i in range(1,6):\n",
    "    z.append(-i)\n",
    "    \n",
    "print(z)"
   ]
  },
  {
   "cell_type": "code",
   "execution_count": 19,
   "id": "13c48a1b",
   "metadata": {},
   "outputs": [
    {
     "name": "stdout",
     "output_type": "stream",
     "text": [
      "[-1, -2, -3, -4]\n"
     ]
    }
   ],
   "source": [
    "numbers = [1,2,3,4]\n",
    "\n",
    "z=[]\n",
    "i=1\n",
    "while i <= len(numbers):\n",
    "    z.append(-i)\n",
    "    i+=1\n",
    "print(z)"
   ]
  },
  {
   "cell_type": "markdown",
   "id": "3e792b35",
   "metadata": {},
   "source": [
    "## 26. Additive Inverse A number added with its additive inverse equals zero. Create a function that returns a list of additive inverses.\n",
    "\n",
    "Examples additive_inverse([5, -7, 8, 3]) ➞ [-5, 7, -8, -3]\n",
    "\n",
    "additive_inverse([1, 1, 1, 1, 1]) ➞ [-1, -1, -1, -1, -1]\n",
    "\n",
    "additive_inverse([-5, -25, 35]) ➞ [5, 25, -35]"
   ]
  },
  {
   "cell_type": "code",
   "execution_count": 21,
   "id": "17320544",
   "metadata": {},
   "outputs": [
    {
     "name": "stdout",
     "output_type": "stream",
     "text": [
      "[-5, 7, -8, -3]\n"
     ]
    }
   ],
   "source": [
    "num = [5, -7, 8, 3]  \n",
    "\n",
    "inverses = []\n",
    "i = 0\n",
    "\n",
    "while i < len(num):\n",
    "    inverses.append(-num[i])\n",
    "    i += 1\n",
    "\n",
    "print(inverses)"
   ]
  },
  {
   "cell_type": "code",
   "execution_count": 1,
   "id": "a66528e3",
   "metadata": {},
   "outputs": [
    {
     "name": "stdout",
     "output_type": "stream",
     "text": [
      "[-5, 7, -8, -3]\n"
     ]
    }
   ],
   "source": [
    "num = [5, -7, 8, 3]  \n",
    "inverses=[]\n",
    "for i in num:\n",
    "    inverses.append(-i)\n",
    "    \n",
    "print(inverses)"
   ]
  },
  {
   "cell_type": "markdown",
   "id": "39b57aad",
   "metadata": {},
   "source": [
    "## 27 Add a Consecutive List of Numbers Write a function that takes the last number of a consecutive list of numbers and returns the total of all numbers up to and including it.\n",
    "\n",
    "Examples add_up_to(3) ➞ 6\n",
    "1 + 2 + 3 = 6\n",
    "\n",
    "add_up_to(10) ➞ 55\n",
    "1 + 2 + 3 + ... + 10 = 55\n",
    "\n",
    "add_up_to(7) ➞ 28\n",
    "1 + 2 + 3 + ... + 7 = 28"
   ]
  },
  {
   "cell_type": "code",
   "execution_count": 1,
   "id": "50de7817",
   "metadata": {},
   "outputs": [
    {
     "name": "stdout",
     "output_type": "stream",
     "text": [
      "enter a num: 3\n",
      "6\n"
     ]
    }
   ],
   "source": [
    "x = int(input('enter a num: '))\n",
    "total = 0\n",
    "num = 1\n",
    "while num <=x:\n",
    "    total+=num\n",
    "    num+=1\n",
    "print(total)"
   ]
  },
  {
   "cell_type": "code",
   "execution_count": 2,
   "id": "6dda99ba",
   "metadata": {},
   "outputs": [
    {
     "name": "stdout",
     "output_type": "stream",
     "text": [
      "enter a num:3\n",
      "6\n"
     ]
    }
   ],
   "source": [
    "x=int(input(\"enter a num:\"))\n",
    "total=0\n",
    "for i in range(1,x+1):\n",
    "    total+=i\n",
    "print(total)  "
   ]
  },
  {
   "cell_type": "markdown",
   "id": "dd468d97",
   "metadata": {},
   "source": [
    "## 28. Find the Index (Part 1) Create a function that finds the index of a given item.\n",
    "\n",
    "Examples search([1, 5, 3], 5) ➞ 1\n",
    "\n",
    "search([9, 8, 3], 3) ➞ 2\n",
    "\n",
    "search([1, 2, 3], 4) ➞ -1"
   ]
  },
  {
   "cell_type": "code",
   "execution_count": 3,
   "id": "8cfdbef9",
   "metadata": {},
   "outputs": [
    {
     "name": "stdout",
     "output_type": "stream",
     "text": [
      "3\n",
      "2\n"
     ]
    }
   ],
   "source": [
    "lst = [1, 5, 3]  # Replace with the desired list\n",
    "item = int(input())       # Replace with the desired item to search for\n",
    "\n",
    "\n",
    "\n",
    "for i in range(len(lst)):\n",
    "    if lst[i] == item:\n",
    "        index = i\n",
    "        break\n",
    "\n",
    "print(i)"
   ]
  },
  {
   "cell_type": "code",
   "execution_count": 4,
   "id": "6bd12c4d",
   "metadata": {},
   "outputs": [
    {
     "name": "stdout",
     "output_type": "stream",
     "text": [
      "2\n"
     ]
    }
   ],
   "source": [
    "x = [1, 5, 3]\n",
    "search = 3\n",
    "index =-1\n",
    "i = 0\n",
    "while i < len(x):\n",
    "    if x[i] == search:\n",
    "        index = i\n",
    "        break\n",
    "    i += 1\n",
    "print(index)  \n",
    "\n",
    "    "
   ]
  },
  {
   "cell_type": "markdown",
   "id": "a8095336",
   "metadata": {},
   "source": [
    "## 29. Count the Capital Letters Given a string of letters, how many capital letters are there?\n",
    "\n",
    "Examples capital_letters(\"fvLzpxmgXSDrobbgMVrc\") ➞ 6\n",
    "\n",
    "capital_letters(\"JMZWCneOTFLWYwBWxyFw\") ➞ 14\n",
    "\n",
    "capital_letters(\"mqeytbbjwqemcdrdsyvq\") ➞ 0"
   ]
  },
  {
   "cell_type": "code",
   "execution_count": 1,
   "id": "e6d2d00f",
   "metadata": {},
   "outputs": [
    {
     "name": "stdout",
     "output_type": "stream",
     "text": [
      "6\n"
     ]
    }
   ],
   "source": [
    "s = \"fvLzpxmgXSDrobbgMVrc\"\n",
    "count = 0\n",
    "index = 0\n",
    "\n",
    "while index < len(s):\n",
    "    if s[index].isupper():\n",
    "        count += 1\n",
    "    index += 1\n",
    "\n",
    "print(count)"
   ]
  },
  {
   "cell_type": "code",
   "execution_count": 2,
   "id": "3b4aeabc",
   "metadata": {},
   "outputs": [
    {
     "name": "stdout",
     "output_type": "stream",
     "text": [
      "enter a string: fvLzpxmgXSDrobbgMVrc\n",
      "6\n"
     ]
    }
   ],
   "source": [
    "string = input('enter a string: ')\n",
    "\n",
    "capital_count = 0\n",
    "\n",
    "for char in string:\n",
    "    if char.isupper():\n",
    "        capital_count += 1\n",
    "\n",
    "print(capital_count)"
   ]
  },
  {
   "cell_type": "markdown",
   "id": "b3269ec8",
   "metadata": {},
   "source": [
    "## 30. .Create a function that finds the index of a given item.\n",
    "Examples\n",
    "\n",
    "    search([1, 5, 3], 5) ➞ 1\n",
    "\n",
    "    search([9, 8, 3], 3) ➞ 2\n",
    "\n",
    "    search([1, 2, 3], 4) ➞ -1\n",
    " "
   ]
  },
  {
   "cell_type": "code",
   "execution_count": 1,
   "id": "c561fc04",
   "metadata": {},
   "outputs": [
    {
     "data": {
      "text/plain": [
       "1"
      ]
     },
     "execution_count": 1,
     "metadata": {},
     "output_type": "execute_result"
    }
   ],
   "source": [
    "list=[1,5,3]\n",
    "y=list.index(5)\n",
    "y"
   ]
  },
  {
   "cell_type": "code",
   "execution_count": 10,
   "id": "3eeb6ce1",
   "metadata": {},
   "outputs": [
    {
     "name": "stdout",
     "output_type": "stream",
     "text": [
      "1\n"
     ]
    }
   ],
   "source": [
    "list = [9,8,3]\n",
    "search = 8\n",
    "i = 0\n",
    "while i < len(list):\n",
    "    if list[i] == search:\n",
    "        index=i\n",
    "        break\n",
    "    i+=1\n",
    "print(index)"
   ]
  },
  {
   "cell_type": "markdown",
   "id": "7f93cdf8",
   "metadata": {},
   "source": [
    "### 31. Create a function that takes a number num and returns the first 10 multiples of num with 1 added to it, separated by commas.\n",
    "\n",
    "Examples\n",
    "\n",
    "n_tables_plus_one(7) ➞ \"8,15,22,29,36,43,50,57,64,71\"\n",
    "\n",
    "n_tables_plus_one(1) ➞ \"2,3,4,5,6,7,8,9,10,11\"\n",
    "\n",
    "n_tables_plus_one(3) ➞ \"4,7,10,13,16,19,22,25,28,31\""
   ]
  },
  {
   "cell_type": "code",
   "execution_count": 19,
   "id": "335ef83b",
   "metadata": {},
   "outputs": [
    {
     "name": "stdout",
     "output_type": "stream",
     "text": [
      "8,15,22,29,36,43,50,57,64,71\n"
     ]
    }
   ],
   "source": [
    "n = 7\n",
    "result = []\n",
    "\n",
    "for i in range(1, 11):\n",
    "    result.append(str(n * i + 1))\n",
    "\n",
    "output = \",\".join(result)\n",
    "print(output)  "
   ]
  },
  {
   "cell_type": "code",
   "execution_count": 20,
   "id": "41506631",
   "metadata": {},
   "outputs": [
    {
     "name": "stdout",
     "output_type": "stream",
     "text": [
      "8,15,22,29,36,43,50,57,64,71\n"
     ]
    }
   ],
   "source": [
    "n = 7\n",
    "result = []\n",
    "i = 1\n",
    "while i <= 10:\n",
    "    result.append(str(n * i + 1))\n",
    "    i += 1\n",
    "output = \",\".join(result)\n",
    "print(output)"
   ]
  },
  {
   "cell_type": "markdown",
   "id": "180d6eae",
   "metadata": {},
   "source": [
    "### 32. Create a function that adds a string ending to each member in a list.\n",
    "\n",
    "Examples\n",
    "\n",
    "add_ending([\"clever\", \"meek\", \"hurried\", \"nice\"], \"ly\") ➞ [\"cleverly\", \"meekly\", \"hurriedly\", \"nicely\"]\n",
    "\n",
    "add_ending([\"new\", \"pander\", \"scoop\"], \"er\") ➞ [\"newer\", \"panderer\", \"scooper\"]\n",
    "\n",
    "add_ending([\"bend\", \"sharpen\", \"mean\"], \"ing\") ➞ [\"bending\", \"sharpening\", \"meaning\"]"
   ]
  },
  {
   "cell_type": "code",
   "execution_count": 5,
   "id": "e709eda8",
   "metadata": {},
   "outputs": [
    {
     "name": "stdout",
     "output_type": "stream",
     "text": [
      "enter a ending word:ing\n",
      "['bending', 'sharpening', 'meaning']\n"
     ]
    }
   ],
   "source": [
    "words=[\"bend\", \"sharpen\", \"mean\"]\n",
    "ending=input(\"enter a ending word:\")\n",
    "for i in words:\n",
    "    add = [word + ending for word in words]\n",
    "print(add)"
   ]
  },
  {
   "cell_type": "code",
   "execution_count": null,
   "id": "b094a7c2",
   "metadata": {},
   "outputs": [],
   "source": []
  },
  {
   "cell_type": "markdown",
   "id": "03ce70e9",
   "metadata": {},
   "source": [
    "### 33. Create a function that takes a list of numbers and returns the sum of its cubes.\n",
    "\n",
    "Examples\n",
    "\n",
    "sum_of_cubes([1, 5, 9]) ➞ 855\n",
    "Since 1^3 + 5^3 + 9^3 = 1 + 125 + 729 = 855\n",
    "\n",
    "sum_of_cubes([3, 4, 5]) ➞ 216\n",
    "\n",
    "sum_of_cubes([2]) ➞ 8\n",
    "\n",
    "sum_of_cubes([]) ➞ 0"
   ]
  },
  {
   "cell_type": "code",
   "execution_count": 25,
   "id": "2823b29c",
   "metadata": {},
   "outputs": [
    {
     "name": "stdout",
     "output_type": "stream",
     "text": [
      "855\n"
     ]
    }
   ],
   "source": [
    "s=[1,5,9]\n",
    "sum_of_cubes=0\n",
    "for num in s:\n",
    "    sum_of_cubes+=num**3\n",
    "print(sum_of_cubes)"
   ]
  },
  {
   "cell_type": "code",
   "execution_count": 26,
   "id": "0776e387",
   "metadata": {},
   "outputs": [
    {
     "name": "stdout",
     "output_type": "stream",
     "text": [
      "216\n"
     ]
    }
   ],
   "source": [
    "s=[3, 4, 5]\n",
    "sum_of_cubes=0\n",
    "i=0\n",
    "while i<len(s):\n",
    "    sum_of_cubes+=s[i]**3\n",
    "    i+=1\n",
    "print(sum_of_cubes)"
   ]
  },
  {
   "cell_type": "markdown",
   "id": "89b709a5",
   "metadata": {},
   "source": [
    "### 34. Create a function that takes a number as an argument and returns a list of numbers counting down from this number to zero.\n",
    "\n",
    "Examples\n",
    "\n",
    "countdown(5) ➞ [5, 4, 3, 2, 1, 0]\n",
    "\n",
    "countdown(1) ➞ [1, 0]\n",
    "\n",
    "countdown(0) ➞ [0]"
   ]
  },
  {
   "cell_type": "code",
   "execution_count": 6,
   "id": "388318a9",
   "metadata": {},
   "outputs": [
    {
     "name": "stdout",
     "output_type": "stream",
     "text": [
      "Enter a number:4\n",
      "[4, 3, 2, 1, 0]\n"
     ]
    }
   ],
   "source": [
    "n = int(input(\"Enter a number:\"))\n",
    "c_l = []\n",
    "\n",
    "while n >= 0:\n",
    "    c_l.append(n)\n",
    "    n -= 1\n",
    "\n",
    "print(c_l)"
   ]
  },
  {
   "cell_type": "code",
   "execution_count": 8,
   "id": "9791506d",
   "metadata": {},
   "outputs": [
    {
     "name": "stdout",
     "output_type": "stream",
     "text": [
      "Enter a number:8\n",
      "[8, 7, 6, 5, 4, 3, 2, 1, 0]\n"
     ]
    }
   ],
   "source": [
    "n = int(input(\"Enter a number:\"))\n",
    "c_l=[]\n",
    "for i in range(n+1):\n",
    "    c_l.append(n)\n",
    "    n-=1\n",
    "print(c_l)"
   ]
  },
  {
   "cell_type": "markdown",
   "id": "093593ff",
   "metadata": {},
   "source": [
    "### 35. You can assign variables from lists like this:\n",
    "\n",
    "first, _ , last = [1, 2, 8]\n",
    "\n",
    "first   = lst[0]\n",
    "\n",
    "_   = ignores second value (2)\n",
    "\n",
    "last   = lst[-1]\n",
    "\n",
    "print(first) ➞ outputs 1\n",
    "print(last) ➞ outputs 8"
   ]
  },
  {
   "cell_type": "code",
   "execution_count": 7,
   "id": "23ce5314",
   "metadata": {},
   "outputs": [
    {
     "name": "stdout",
     "output_type": "stream",
     "text": [
      "1\n",
      "8\n",
      "\n"
     ]
    }
   ],
   "source": [
    "numbers = [1, 2, 8]\n",
    "for value in numbers:\n",
    "    if value == numbers[0]:\n",
    "        first = value\n",
    "    elif value == numbers[-1]:\n",
    "        last = value\n",
    "print(first)\n",
    "print(last)\n",
    "print(_)"
   ]
  },
  {
   "cell_type": "markdown",
   "id": "41a73b53",
   "metadata": {},
   "source": [
    "### 36. Given a letter and a list of words, return whether the letter does not appear in any of the words.\n",
    "\n",
    "Examples\n",
    "forbidden_letter(\"r\", [\"rock\", \"paper\", \"scissors\"]) ➞ False\n",
    "\n",
    "forbidden_letter(\"a\", [\"spoon\", \"fork\", \"knife\"]) ➞ True\n",
    "\n",
    "forbidden_letter(\"m\", []) ➞ True"
   ]
  },
  {
   "cell_type": "code",
   "execution_count": 2,
   "id": "f6caf8da",
   "metadata": {},
   "outputs": [
    {
     "name": "stdout",
     "output_type": "stream",
     "text": [
      "enter a  letter:o\n",
      "false\n"
     ]
    }
   ],
   "source": [
    "l = input(\"enter a  letter:\")\n",
    "n = [\"spoon\",\"fork\",\"knife\"]\n",
    "i=0\n",
    "while i<len(n):\n",
    "    if l not in n[i]:\n",
    "        print('true')\n",
    "        break\n",
    "        i+=1\n",
    "    else:\n",
    "        print('false')\n",
    "        break"
   ]
  },
  {
   "cell_type": "code",
   "execution_count": 3,
   "id": "1dd9a3ec",
   "metadata": {},
   "outputs": [
    {
     "name": "stdout",
     "output_type": "stream",
     "text": [
      "enter a letter:o\n",
      "false\n"
     ]
    }
   ],
   "source": [
    "l = input(\"enter a letter:\")\n",
    "n = [\"spoon\",\"knife\",\"fork\"]\n",
    "for i in n:\n",
    "    if l not in i:\n",
    "        print('true')\n",
    "        break\n",
    "    else:\n",
    "        print('false')\n",
    "        break"
   ]
  },
  {
   "cell_type": "markdown",
   "id": "74ac5a49",
   "metadata": {},
   "source": [
    "### 37. Create a function that returns the number of hashes and pluses in a string.\n",
    "\n",
    "Examples\n",
    "hash_plus_count(\"###+\") ➞ [3, 1]\n",
    "\n",
    "hash_plus_count(\"##+++#\") ➞ [3, 3]\n",
    "\n",
    "hash_plus_count(\"#+++#+#++#\") ➞ [4, 6]\n",
    "\n",
    "hash_plus_count(\"\") ➞ [0, 0]"
   ]
  },
  {
   "cell_type": "code",
   "execution_count": 9,
   "id": "62d955a3",
   "metadata": {},
   "outputs": [
    {
     "name": "stdout",
     "output_type": "stream",
     "text": [
      "enter a string:++**++\n",
      "(2, 4)\n"
     ]
    }
   ],
   "source": [
    "s = input(\"enter a string:\")\n",
    "star_count=0\n",
    "plus_count=0\n",
    "for i in s:\n",
    "    if i == '*':\n",
    "        star_count+=1\n",
    "    elif i == '+':\n",
    "        plus_count+=1\n",
    "    \n",
    "result =(star_count,plus_count)\n",
    "print(result)\n"
   ]
  },
  {
   "cell_type": "code",
   "execution_count": 2,
   "id": "9d52de4b",
   "metadata": {},
   "outputs": [
    {
     "name": "stdout",
     "output_type": "stream",
     "text": [
      "enter a string**++**\n",
      "(4, 2)\n"
     ]
    }
   ],
   "source": [
    "s = input(\"enter a string\")\n",
    "star_count=0\n",
    "plus_count=0\n",
    "i=0\n",
    "while i < len(s):\n",
    "    if s[i] == '*':\n",
    "        star_count+=1\n",
    "    elif s[i] == '+':\n",
    "        plus_count+=1\n",
    "    i+=1\n",
    "        \n",
    "r=(star_count,plus_count)\n",
    "print(r)"
   ]
  },
  {
   "cell_type": "markdown",
   "id": "de95e25e",
   "metadata": {},
   "source": [
    "### 38. Write a function that takes the last number of a consecutive list of numbers and returns the total of all numbers up to and including it.\n",
    "\n",
    "Examples\n",
    "add_up_to(3) ➞ 6\n",
    "# 1 + 2 + 3 = 6\n",
    "\n",
    "add_up_to(10) ➞ 55\n",
    "# 1 + 2 + 3 + ... + 10 = 55\n",
    "\n",
    "add_up_to(7) ➞ 28\n",
    "# 1 + 2 + 3 + ... + 7 = 28"
   ]
  },
  {
   "cell_type": "code",
   "execution_count": 5,
   "id": "816b0ff8",
   "metadata": {},
   "outputs": [
    {
     "name": "stdout",
     "output_type": "stream",
     "text": [
      "enter a number:7\n",
      "28\n"
     ]
    }
   ],
   "source": [
    "n=int(input(\"enter a number:\"))\n",
    "add=0\n",
    "for i in range(1,n+1):\n",
    "    add+=i\n",
    "print(add)  "
   ]
  },
  {
   "cell_type": "code",
   "execution_count": 8,
   "id": "d029d059",
   "metadata": {},
   "outputs": [
    {
     "name": "stdout",
     "output_type": "stream",
     "text": [
      "enter a number:7\n",
      "28\n"
     ]
    }
   ],
   "source": [
    "n=int(input(\"enter a number:\"))\n",
    "add=0\n",
    "i=0\n",
    "while i <= n:\n",
    "    add+=i\n",
    "    i+=1\n",
    "print(add)"
   ]
  },
  {
   "cell_type": "markdown",
   "id": "b948920a",
   "metadata": {},
   "source": [
    "### 38. The insurance guy calls again. Apparently, they were informed by your spouse that some items were not stolen at all and you failed to mention this detail to them. This is a fraud attempt! You freeze and mumble something unintelligible. Find out what you said.\n",
    "\n",
    "Given a dictionary, return a string that concatenates all the values and adds the 2nd key at the end. Make sure you keep an empty space between them but not at the beginning or end of the string. Look at the examples for a clearer picture.\n",
    "\n",
    "Examples\n",
    "{ 1: \"Mommy\", 2: \"please\", 3: \"help\" } ➞ \"Mommy please help please\"\n",
    "\n",
    "{ 1: \"Me\", 2: \"innocent\", 3: \"is\" } ➞ \"Me innocent is innocent\"\n",
    "\n",
    "{ 1: \"Must\", 2: \"lawyer\", 3: \"call\" } ➞ \"Must lawyer call lawyer\""
   ]
  },
  {
   "cell_type": "code",
   "execution_count": 17,
   "id": "c9aad4f4",
   "metadata": {},
   "outputs": [
    {
     "name": "stdout",
     "output_type": "stream",
     "text": [
      "Mommy please help please\n"
     ]
    }
   ],
   "source": [
    "dic={ 1: \"Mommy\", 2: \"please\", 3: \"help\" }\n",
    "values = \" \".join(dic.values())\n",
    "result = f\"{values} {dic[2]}\"\n",
    "print(result) "
   ]
  },
  {
   "cell_type": "markdown",
   "id": "ddd61265",
   "metadata": {},
   "source": [
    "### 39. create a function that returns the minimum number of elements removed to make the sum of all elements in a list even.\n",
    "\n",
    "Examples\n",
    "minimum_removals([1, 2, 3, 4, 5]) ➞ 1\n",
    "\n",
    "minimum_removals([5, 7, 9, 11]) ➞ 0\n",
    "\n",
    "minimum_removals([5, 7, 9, 12]) ➞ 1"
   ]
  },
  {
   "cell_type": "code",
   "execution_count": 20,
   "id": "da25901c",
   "metadata": {},
   "outputs": [
    {
     "name": "stdout",
     "output_type": "stream",
     "text": [
      "1\n"
     ]
    }
   ],
   "source": [
    "list = [1, 2, 3, 4, 5]\n",
    "odd_count=0\n",
    "for n in list:\n",
    "    if n % 2!=0:\n",
    "        odd_count+=1\n",
    "        \n",
    "if odd_count %2==0:\n",
    "    print(0)\n",
    "else:\n",
    "    print(1)\n"
   ]
  },
  {
   "cell_type": "markdown",
   "id": "840aab49",
   "metadata": {},
   "source": [
    "### 40.Create a function that keeps only strings with repeating identical characters (in other words, it has a set size of 1).\n",
    "\n",
    "Examples\n",
    "identical_filter([\"aaaaaa\", \"bc\", \"d\", \"eeee\", \"xyz\"])\n",
    "➞ [\"aaaaaa\", \"d\", \"eeee\"]\n",
    "\n",
    "identical_filter([\"88\", \"999\", \"22\", \"545\", \"133\"])\n",
    "➞ [\"88\", \"999\", \"22\"]\n",
    "\n",
    "identical_filter([\"xxxxo\", \"oxo\", \"xox\", \"ooxxoo\", \"oxo\"])\n",
    "➞ []"
   ]
  },
  {
   "cell_type": "code",
   "execution_count": 23,
   "id": "52646efc",
   "metadata": {},
   "outputs": [
    {
     "name": "stdout",
     "output_type": "stream",
     "text": [
      "['aaa', 'bbbb', 'ccc']\n"
     ]
    }
   ],
   "source": [
    "l = [\"aaa\",\"bbbb\",\"abc\",\"ccc\"]\n",
    "filter = []\n",
    "for i in l:\n",
    "    if len(set(i)) == 1:\n",
    "        filter.append(i)\n",
    "        \n",
    "print(filter)"
   ]
  },
  {
   "cell_type": "markdown",
   "id": "e7e47d90",
   "metadata": {},
   "source": [
    "## Easy Questions"
   ]
  },
  {
   "cell_type": "markdown",
   "id": "22502a98",
   "metadata": {},
   "source": [
    "### 1. When resistors are connected together in series, the same current passes through each resistor in the chain and the total resistance, RT, of the circuit must be equal to the sum of all the individual resistors added together. That is:\n",
    "\n",
    "RT = R1 + R2 + R3 ...\n",
    "Create a function that takes an array of values resistance that are connected in series, and calculates the total resistance of the circuit in ohms. The ohm is the standard unit of electrical resistance in the International System of Units ( SI ).\n",
    "\n",
    "Examples\n",
    "series_resistance([1, 5, 6, 3]) ➞ \"15 ohms\"\n",
    "\n",
    "series_resistance([16, 3.5, 6]) ➞ \"25.5 ohms\"\n",
    "\n",
    "series_resistance([0.5, 0.5]) ➞ \"1.0 ohm\""
   ]
  },
  {
   "cell_type": "code",
   "execution_count": 1,
   "id": "4057ec4b",
   "metadata": {},
   "outputs": [
    {
     "name": "stdout",
     "output_type": "stream",
     "text": [
      "25.5 ohms\n"
     ]
    }
   ],
   "source": [
    "series_resistance=[16,3.5,6]\n",
    "sum_resistance = 0\n",
    "for i in series_resistance:\n",
    "    sum_resistance+=i\n",
    "print(f'{sum_resistance} ohms')"
   ]
  },
  {
   "cell_type": "code",
   "execution_count": 2,
   "id": "e21d48fb",
   "metadata": {},
   "outputs": [
    {
     "name": "stdout",
     "output_type": "stream",
     "text": [
      "10 ohms\n"
     ]
    }
   ],
   "source": [
    "series_resistance=[1,2,3,3]\n",
    "sum_resistance = 0\n",
    "i=0\n",
    "while i <= len(series_resistance):\n",
    "        sum_resistance+=i\n",
    "        i+=1\n",
    "print(f'{sum_resistance} ohms')    "
   ]
  },
  {
   "cell_type": "markdown",
   "id": "7c48be3b",
   "metadata": {},
   "source": [
    "## 2. Create a function which concatenates the number 7 to the end of every chord in a list. Ignore all chords which already end with 7.\n",
    "\n",
    "Examples\n",
    "jazzify([\"G\", \"F\", \"C\"]) ➞ [\"G7\", \"F7\", \"C7\"]\n",
    "\n",
    "jazzify([\"Dm\", \"G\", \"E\", \"A\"]) ➞ [\"Dm7\", \"G7\", \"E7\", \"A7\"]\n",
    "\n",
    "jazzify([\"F7\", \"E7\", \"A7\", \"Ab7\", \"Gm7\", \"C7\"]) ➞ [\"F7\", \"E7\", \"A7\", \"Ab7\", \"Gm7\", \"C7\"]\n",
    "\n",
    "jazzify([]) ➞ []"
   ]
  },
  {
   "cell_type": "code",
   "execution_count": 8,
   "id": "637ed5be",
   "metadata": {},
   "outputs": [
    {
     "name": "stdout",
     "output_type": "stream",
     "text": [
      "enter a ending word:7\n",
      "['G7', 'F7', 'C7']\n"
     ]
    }
   ],
   "source": [
    "words=[\"G\", \"F\", \"C\"]\n",
    "ending=(input(\"enter a ending word:\"))\n",
    "for i in words:\n",
    "    add = [word + ending for word in words]\n",
    "print(add)"
   ]
  },
  {
   "cell_type": "markdown",
   "id": "cab8da58",
   "metadata": {},
   "source": [
    "### 3. Create a function that takes a string and returns the number (count) of vowels contained within it.\n",
    "\n",
    "Examples\n",
    "count_vowels(\"Celebration\") ➞ 5\n",
    "\n",
    "count_vowels(\"Palm\") ➞ 1\n",
    "\n",
    "count_vowels(\"Prediction\") ➞ 4"
   ]
  },
  {
   "cell_type": "code",
   "execution_count": 24,
   "id": "d954ee0b",
   "metadata": {},
   "outputs": [
    {
     "name": "stdout",
     "output_type": "stream",
     "text": [
      "Enter a Name:Vungarala Jagadeesh\n",
      "8\n"
     ]
    }
   ],
   "source": [
    "list=input(\"Enter a Name:\")\n",
    "count_vowels=0\n",
    "vowels = \"AEIOUaeiou\"  # Both uppercase and lowercase vowels\n",
    "\n",
    "for i in list:\n",
    "    if i in vowels:\n",
    "        count_vowels+=1\n",
    "    \n",
    "print(count_vowels)"
   ]
  },
  {
   "cell_type": "code",
   "execution_count": 2,
   "id": "834c3337",
   "metadata": {},
   "outputs": [
    {
     "name": "stdout",
     "output_type": "stream",
     "text": [
      "Enter a Name:Jagadeesh Vungarala\n",
      "8\n"
     ]
    }
   ],
   "source": [
    "list=input(\"Enter a Name:\")\n",
    "count_vowels=0\n",
    "vowels = \"AEIOUaeiou\"  # Both uppercase and lowercase vowels\n",
    "\n",
    "i=0\n",
    "while i <len(list):\n",
    "    char = list[i]\n",
    "    if char in vowels:\n",
    "        count_vowels+=1\n",
    "    i+=1\n",
    "\n",
    "print(count_vowels)\n",
    "        "
   ]
  },
  {
   "cell_type": "markdown",
   "id": "c9b3dd08",
   "metadata": {},
   "source": [
    "### 4. Create a function that takes a list and finds the integer which appears an odd number of times.\n",
    "\n",
    "Examples\n",
    "find_odd([1, 1, 2, -2, 5, 2, 4, 4, -1, -2, 5]) ➞ -1\n",
    "\n",
    "find_odd([20, 1, 1, 2, 2, 3, 3, 5, 5, 4, 20, 4, 5]) ➞ 5\n",
    "\n",
    "find_odd([10]) ➞ 10"
   ]
  },
  {
   "cell_type": "code",
   "execution_count": 10,
   "id": "66fdf84c",
   "metadata": {},
   "outputs": [
    {
     "name": "stdout",
     "output_type": "stream",
     "text": [
      "The integer that appears an odd number of times is: 5\n"
     ]
    }
   ],
   "source": [
    "list = [1, 2, 2, 1, 3, 4, 4, 3, 5]\n",
    "\n",
    "# Initialize a variable to store the result\n",
    "result = None\n",
    "\n",
    "# Iterate through the list and count the occurrences of each integer\n",
    "for num in list:\n",
    "    count = list.count(num)\n",
    "    if count % 2 != 0:\n",
    "        result = num\n",
    "        break\n",
    "\n",
    "if result is not None:\n",
    "    print(f\"The integer that appears an odd number of times is: {result}\")\n",
    "else:\n",
    "    print(\"No integer with an odd number of occurrences found.\")\n"
   ]
  },
  {
   "cell_type": "code",
   "execution_count": 14,
   "id": "1d28dda0",
   "metadata": {},
   "outputs": [
    {
     "name": "stdout",
     "output_type": "stream",
     "text": [
      "The integer that appears an odd number of times is: 5\n"
     ]
    }
   ],
   "source": [
    "my_list = [1, 2, 2, 1, 3, 4, 4, 3, 5]\n",
    "\n",
    "# Initialize variables\n",
    "result = None\n",
    "index = 0\n",
    "\n",
    "# Iterate through the list using a while loop\n",
    "while index < len(my_list):\n",
    "    num = my_list[index]\n",
    "    count = my_list.count(num)\n",
    "    \n",
    "    if count % 2 != 0:\n",
    "        result = num\n",
    "        break\n",
    "    \n",
    "    index += 1\n",
    "\n",
    "if result is not None:\n",
    "    print(f\"The integer that appears an odd number of times is: {result}\")\n",
    "else:\n",
    "    print(\"No integer with an odd number of occurrences found.\")\n"
   ]
  },
  {
   "cell_type": "markdown",
   "id": "171f1e55",
   "metadata": {},
   "source": [
    "### 5. Create a function that returns a base-2 (binary) representation of a base-10 (decimal) string number. To convert is simple: ((2) means base-2 and (10) means base-10) 010101001(2) = 1 + 8 + 32 + 128.\n",
    "\n",
    "Going from right to left, the value of the most right bit is 1, now from that every bit to the left will be x2 the value, value of an 8 bit binary numbers are (256, 128, 64, 32, 16, 8, 4, 2, 1).\n",
    "\n",
    "Examples\n",
    "binary(1) ➞ \"1\"\n",
    "# 1*1 = 1\n",
    "\n",
    "binary(5) ➞ \"101\"\n",
    "# 1*1 + 1*4 = 5\n",
    "\n",
    "binary(10) ➞ \"1010\"\n",
    "# 1*2 + 1*8 = 10"
   ]
  },
  {
   "cell_type": "code",
   "execution_count": 7,
   "id": "f0e46b44",
   "metadata": {},
   "outputs": [
    {
     "name": "stdout",
     "output_type": "stream",
     "text": [
      "The binary representation of 4 is 100\n"
     ]
    }
   ],
   "source": [
    "decimal_str = \"4\"\n",
    "decimal_num = int(decimal_str)\n",
    "binary_representation = \"\"\n",
    "\n",
    "if decimal_num == 0:\n",
    "    binary_representation = \"0\"\n",
    "else:\n",
    "    while decimal_num > 0:\n",
    "        remainder = decimal_num % 2\n",
    "        binary_representation = str(remainder) + binary_representation\n",
    "        decimal_num = decimal_num // 2\n",
    "\n",
    "print(f\"The binary representation of {decimal_str} is {binary_representation}\")\n"
   ]
  },
  {
   "cell_type": "code",
   "execution_count": 8,
   "id": "c2b99575",
   "metadata": {},
   "outputs": [
    {
     "name": "stdout",
     "output_type": "stream",
     "text": [
      "The binary representation of 4 is 100\n"
     ]
    }
   ],
   "source": [
    "decimal_str=\"4\"\n",
    "decimal_num = int(decimal_str)\n",
    "binary_representation = \"\"\n",
    "\n",
    "if decimal_num == 0:\n",
    "    binary_representation = \"0\"\n",
    "else:\n",
    "    for i in  range(decimal_num.bit_length()):\n",
    "        remainder = decimal_num % 2\n",
    "        binary_representation = str(remainder) + binary_representation\n",
    "        decimal_num = decimal_num // 2\n",
    "        \n",
    "print(f\"The binary representation of {decimal_str} is {binary_representation}\")\n"
   ]
  },
  {
   "cell_type": "markdown",
   "id": "a171a192",
   "metadata": {},
   "source": [
    "### 6. Hamming distance is the number of characters that differ between two strings.\n",
    "\n",
    "To illustrate: String1: \"abcbba\" ,String2: \"abcbda\" Hamming Distance: 1 - \"b\" vs. \"d\" is the only difference.Create a function that computes the hamming distance between two strings. \n",
    "\n",
    "Examples hamming_distance(\"abcde\", \"bcdef\") ➞ 5"
   ]
  },
  {
   "cell_type": "code",
   "execution_count": 3,
   "id": "051d561e",
   "metadata": {},
   "outputs": [
    {
     "name": "stdout",
     "output_type": "stream",
     "text": [
      "Enter the first string: jaga\n",
      "Enter the second string: vung\n",
      "4\n"
     ]
    }
   ],
   "source": [
    "s1 = input(\"Enter the first string: \")\n",
    "s2 = input(\"Enter the second string: \")\n",
    "hamming_distance = 0\n",
    "i = 0\n",
    "\n",
    "while i < len(s1):\n",
    "    if s1[i] != s2[i]:\n",
    "        hamming_distance += 1\n",
    "    i+=1\n",
    "\n",
    "print(hamming_distance)"
   ]
  },
  {
   "cell_type": "markdown",
   "id": "8302d3c2",
   "metadata": {},
   "source": [
    "### 7. Create a function that takes a list of strings and integers, and filters out the list so that it returns a list of integers only loops not using function.\n",
    "\n",
    "mixed_list[\"apple\", 42, \"banana\", 7, \"cherry\", 100]--->[42,7,100]\n"
   ]
  },
  {
   "cell_type": "code",
   "execution_count": 24,
   "id": "f79c8d4c",
   "metadata": {},
   "outputs": [
    {
     "name": "stdout",
     "output_type": "stream",
     "text": [
      "[42, 7, 100]\n"
     ]
    }
   ],
   "source": [
    "mixed_list = [\"apple\", 42, \"banana\", 7, \"cherry\", 100]\n",
    "\n",
    "integers_only = []\n",
    "\n",
    "for item in mixed_list:\n",
    "    if type(item) == int: \n",
    "        integers_only.append(item)\n",
    "\n",
    "print(integers_only)\n"
   ]
  },
  {
   "cell_type": "markdown",
   "id": "d25a6e9c",
   "metadata": {},
   "source": [
    "### 8. Create a function which returns a list of booleans, from a given number. Iterating through the number one digit at a time, append True if the digit is 1 and False if it is 0.\n",
    "\n",
    "Examples\n",
    "integer_boolean(\"100101\") ➞ [True, False, False, True, False, True]\n",
    "\n",
    "integer_boolean(\"10\") ➞ [True, False]\n",
    "\n",
    "integer_boolean(\"001\") ➞ [False, False, True]"
   ]
  },
  {
   "cell_type": "code",
   "execution_count": 21,
   "id": "6f4c6c56",
   "metadata": {},
   "outputs": [
    {
     "name": "stdout",
     "output_type": "stream",
     "text": [
      "enter a numbers:1100111\n",
      "[True, True, False, False, True, True, True]\n"
     ]
    }
   ],
   "source": [
    "a = input(\"enter a numbers:\")\n",
    "boolean = []\n",
    "for digit in a:\n",
    "    if digit == '1':\n",
    "        boolean.append(True)\n",
    "    elif digit == '0':\n",
    "        boolean.append(False)\n",
    "        \n",
    "print(boolean)        \n"
   ]
  },
  {
   "cell_type": "markdown",
   "id": "a2878a77",
   "metadata": {},
   "source": [
    "### 9. In this exercise you will have to:\n",
    "\n",
    "Take a list of names.\n",
    "Add \"Hello\" to every name.\n",
    "Make one big string with all greetings.\n",
    "The solution should be one string with a comma in between every \"Hello (Name)\".\n",
    "\n",
    "Examples\n",
    "greet_people([\"Joe\"]) ➞ \"Hello Joe\"\n",
    "\n",
    "greet_people([\"Angela\", \"Joe\"]) ➞ \"Hello Angela, Hello Joe\""
   ]
  },
  {
   "cell_type": "code",
   "execution_count": 11,
   "id": "3a52cd76",
   "metadata": {},
   "outputs": [
    {
     "name": "stdout",
     "output_type": "stream",
     "text": [
      "Hello Jagadish\n"
     ]
    }
   ],
   "source": [
    "names = [\"Jagadish\"]\n",
    "\n",
    "greetings = \"\"\n",
    "for name in names:\n",
    "    greetings += \"Hello \" + name + \", \"\n",
    "\n",
    "greetings = greetings.rstrip(\", \")\n",
    "\n",
    "print(greetings)  \n"
   ]
  },
  {
   "cell_type": "markdown",
   "id": "1f8ba346",
   "metadata": {},
   "source": [
    "### 10. Create a function that takes a dictionary of student names and returns a list of student names in alphabetical order.\n",
    "\n",
    "Examples\n",
    "get_student_names({\n",
    "  \"Student 1\" : \"Steve\",\n",
    "  \"Student 2\" : \"Becky\",\n",
    "  \"Student 3\" : \"John\"\n",
    "}) ➞ [\"Becky\", \"John\", \"Steve\"]\n"
   ]
  },
  {
   "cell_type": "code",
   "execution_count": 18,
   "id": "a1def06b",
   "metadata": {},
   "outputs": [
    {
     "name": "stdout",
     "output_type": "stream",
     "text": [
      "['Becky', 'John', 'Steve']\n"
     ]
    }
   ],
   "source": [
    "student_dict = {\n",
    "  \"Student 1\" : \"Steve\",\n",
    "  \"Student 2\" : \"Becky\",\n",
    "  \"Student 3\" : \"John\"\n",
    "}\n",
    "\n",
    "student_names = []\n",
    "\n",
    "for student_numbers,student_name in student_dict.items():\n",
    "    student_names.append(student_name)\n",
    "\n",
    "student_names.sort()\n",
    "\n",
    "print(student_names) \n"
   ]
  },
  {
   "cell_type": "code",
   "execution_count": 20,
   "id": "8e381caf",
   "metadata": {},
   "outputs": [
    {
     "name": "stdout",
     "output_type": "stream",
     "text": [
      "['Becky', 'John', 'Steve']\n"
     ]
    }
   ],
   "source": [
    "student_dict = {\n",
    "  \"Student 1\" : \"Steve\",\n",
    "  \"Student 2\" : \"Becky\",\n",
    "  \"Student 3\" : \"John\"\n",
    "}\n",
    "\n",
    "student_names = []\n",
    "index = 0\n",
    "\n",
    "while index < len(student_dict):\n",
    "    student_name = list(student_dict.values())[index]\n",
    "    student_names.append(student_name)\n",
    "    index += 1\n",
    "\n",
    "student_names.sort()\n",
    "print(student_names)  \n"
   ]
  },
  {
   "cell_type": "code",
   "execution_count": null,
   "id": "0fcf64d5",
   "metadata": {},
   "outputs": [],
   "source": []
  }
 ],
 "metadata": {
  "kernelspec": {
   "display_name": "Python 3 (ipykernel)",
   "language": "python",
   "name": "python3"
  },
  "language_info": {
   "codemirror_mode": {
    "name": "ipython",
    "version": 3
   },
   "file_extension": ".py",
   "mimetype": "text/x-python",
   "name": "python",
   "nbconvert_exporter": "python",
   "pygments_lexer": "ipython3",
   "version": "3.11.3"
  }
 },
 "nbformat": 4,
 "nbformat_minor": 5
}
