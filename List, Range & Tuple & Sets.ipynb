{
 "cells": [
  {
   "cell_type": "markdown",
   "id": "27c6d963",
   "metadata": {},
   "source": [
    "### List\n",
    "    * List are sequential hetrogeneous dynamic containers which mutable in nature.\n",
    "    * Element of lists are enclosed within[' '].\n",
    "    * We can also use list() to typecast in iterator.\n",
    "    * Since lists are seq, we perform indexing and slicing."
   ]
  },
  {
   "cell_type": "code",
   "execution_count": 1,
   "id": "77d0972f",
   "metadata": {},
   "outputs": [
    {
     "name": "stdout",
     "output_type": "stream",
     "text": [
      "['hii', 2, (2+3j), True, 1.0]\n",
      "<class 'list'>\n"
     ]
    }
   ],
   "source": [
    "l = [\"hii\",2,2+3j,True,1.0]\n",
    "print(l,type(l),sep=\"\\n\")"
   ]
  },
  {
   "cell_type": "markdown",
   "id": "f9aaae29",
   "metadata": {},
   "source": [
    "## Slicing in List\n",
    "    * positive and negative slicing in List.\n"
   ]
  },
  {
   "cell_type": "code",
   "execution_count": 2,
   "id": "de8d6dd6",
   "metadata": {},
   "outputs": [
    {
     "name": "stdout",
     "output_type": "stream",
     "text": [
      "['hii', 2, (2+3j), True, 1.0]\n"
     ]
    }
   ],
   "source": [
    "# postive slicing\n",
    "l = [\"hii\",2,2+3j,True,1.0]\n",
    "print(l[0:5])"
   ]
  },
  {
   "cell_type": "code",
   "execution_count": 3,
   "id": "7149befb",
   "metadata": {},
   "outputs": [
    {
     "name": "stdout",
     "output_type": "stream",
     "text": [
      "[]\n"
     ]
    }
   ],
   "source": [
    "# negative slicing\n",
    "l = [\"hii\",2,2+3j,True,1.0]\n",
    "print(l[-1:-3])"
   ]
  },
  {
   "cell_type": "code",
   "execution_count": 4,
   "id": "f9b13dc6",
   "metadata": {},
   "outputs": [
    {
     "name": "stdout",
     "output_type": "stream",
     "text": [
      "[2, (2+3j), True, 1.0]\n"
     ]
    }
   ],
   "source": [
    "l = [\"hii\",2,2+3j,True,1.0]\n",
    "print(l[-4:])"
   ]
  },
  {
   "cell_type": "code",
   "execution_count": 5,
   "id": "c38b2305",
   "metadata": {},
   "outputs": [
    {
     "name": "stdout",
     "output_type": "stream",
     "text": [
      "[1.0, True, (2+3j), 2]\n"
     ]
    }
   ],
   "source": [
    "l = [\"hii\",2,2+3j,True,1.0]\n",
    "print(l[-1:-5:-1])"
   ]
  },
  {
   "cell_type": "markdown",
   "id": "82acf543",
   "metadata": {},
   "source": [
    "### Methods in List"
   ]
  },
  {
   "cell_type": "code",
   "execution_count": 6,
   "id": "f6483a6a",
   "metadata": {},
   "outputs": [
    {
     "data": {
      "text/plain": [
       "['__add__',\n",
       " '__class__',\n",
       " '__class_getitem__',\n",
       " '__contains__',\n",
       " '__delattr__',\n",
       " '__delitem__',\n",
       " '__dir__',\n",
       " '__doc__',\n",
       " '__eq__',\n",
       " '__format__',\n",
       " '__ge__',\n",
       " '__getattribute__',\n",
       " '__getitem__',\n",
       " '__getstate__',\n",
       " '__gt__',\n",
       " '__hash__',\n",
       " '__iadd__',\n",
       " '__imul__',\n",
       " '__init__',\n",
       " '__init_subclass__',\n",
       " '__iter__',\n",
       " '__le__',\n",
       " '__len__',\n",
       " '__lt__',\n",
       " '__mul__',\n",
       " '__ne__',\n",
       " '__new__',\n",
       " '__reduce__',\n",
       " '__reduce_ex__',\n",
       " '__repr__',\n",
       " '__reversed__',\n",
       " '__rmul__',\n",
       " '__setattr__',\n",
       " '__setitem__',\n",
       " '__sizeof__',\n",
       " '__str__',\n",
       " '__subclasshook__',\n",
       " 'append',\n",
       " 'clear',\n",
       " 'copy',\n",
       " 'count',\n",
       " 'extend',\n",
       " 'index',\n",
       " 'insert',\n",
       " 'pop',\n",
       " 'remove',\n",
       " 'reverse',\n",
       " 'sort']"
      ]
     },
     "execution_count": 6,
     "metadata": {},
     "output_type": "execute_result"
    }
   ],
   "source": [
    "dir(list)"
   ]
  },
  {
   "cell_type": "markdown",
   "id": "4d92561e",
   "metadata": {},
   "source": [
    "    > append :- Add excatly one element at end of the index.\n",
    "    \n",
    "    > clear  :- It clear's the list's content's and return a empty list.\n",
    "    \n",
    "    > copy   :- create's a shallow copy of the list object.\n",
    "    \n",
    "    > count  :- same as a  string, it counts the number of time's on element has occured in the list.\n",
    "    \n",
    "    > extend :- Add or extend the list by two or multiple elements at a time.\n",
    "    \n",
    "    > insert :- insert a new element at  index position.\n",
    "    \n",
    "    > pop    :- put out the last element in list. it an index is given as input,it pop out the element at said index.\n",
    "    \n",
    "    > remove :- remove the said element.\n",
    "    \n",
    "    > reverse:- reverse the string.\n",
    "    \n",
    "    > sort   :- sort the string in ascending or descending order."
   ]
  },
  {
   "cell_type": "markdown",
   "id": "c2982da4",
   "metadata": {},
   "source": [
    "#### Append\n",
    "     * append :- Add excatly one element at end of the index.\n"
   ]
  },
  {
   "cell_type": "code",
   "execution_count": 6,
   "id": "bac0c2ea",
   "metadata": {},
   "outputs": [
    {
     "name": "stdout",
     "output_type": "stream",
     "text": [
      "Help on built-in function append:\n",
      "\n",
      "append(object, /) method of builtins.list instance\n",
      "    Append object to the end of the list.\n",
      "\n"
     ]
    }
   ],
   "source": [
    "help(l.append)"
   ]
  },
  {
   "cell_type": "code",
   "execution_count": 7,
   "id": "26f59c35",
   "metadata": {},
   "outputs": [
    {
     "name": "stdout",
     "output_type": "stream",
     "text": [
      "['kushi', 'sakhi', 'Orange', 'Na autobiography', 'prema', 'Orginal Gangstar']\n"
     ]
    }
   ],
   "source": [
    "m = [\"kushi\",\"sakhi\",\"Orange\",\"Na autobiography\",\"prema\"]\n",
    "m.append(\"Orginal Gangstar\")\n",
    "print(m)"
   ]
  },
  {
   "cell_type": "markdown",
   "id": "cf927ce0",
   "metadata": {},
   "source": [
    "#### Extend\n",
    "extend :- Add or extend the list by two or multiple elements at a time.\n"
   ]
  },
  {
   "cell_type": "code",
   "execution_count": 7,
   "id": "cf9456dd",
   "metadata": {},
   "outputs": [
    {
     "name": "stdout",
     "output_type": "stream",
     "text": [
      "Help on built-in function extend:\n",
      "\n",
      "extend(iterable, /) method of builtins.list instance\n",
      "    Extend list by appending elements from the iterable.\n",
      "\n"
     ]
    }
   ],
   "source": [
    "help(l.extend)"
   ]
  },
  {
   "cell_type": "code",
   "execution_count": 9,
   "id": "d3801e6c",
   "metadata": {},
   "outputs": [
    {
     "name": "stdout",
     "output_type": "stream",
     "text": [
      "['kushi', 'sakhi', 'Orange', 'Na autobiography', 'prema', 'OG', 'Tholiprema']\n"
     ]
    }
   ],
   "source": [
    "m = [\"kushi\",\"sakhi\",\"Orange\",\"Na autobiography\",\"prema\"]\n",
    "m.extend([\"OG\",\"Tholiprema\"])\n",
    "print(m)"
   ]
  },
  {
   "cell_type": "markdown",
   "id": "d24e4eb1",
   "metadata": {},
   "source": [
    "#### insert \n",
    "    * insert a new element at  index position."
   ]
  },
  {
   "cell_type": "code",
   "execution_count": 8,
   "id": "63375205",
   "metadata": {},
   "outputs": [
    {
     "name": "stdout",
     "output_type": "stream",
     "text": [
      "Help on built-in function insert:\n",
      "\n",
      "insert(index, object, /) method of builtins.list instance\n",
      "    Insert object before index.\n",
      "\n"
     ]
    }
   ],
   "source": [
    "help(l.insert)"
   ]
  },
  {
   "cell_type": "code",
   "execution_count": 11,
   "id": "e599fa5f",
   "metadata": {},
   "outputs": [
    {
     "name": "stdout",
     "output_type": "stream",
     "text": [
      "['kushi', 'pothuraju', 'sakhi', 'Orange', 'Na autobiography', 'prema', 'OG', 'Tholiprema']\n"
     ]
    }
   ],
   "source": [
    "m = ['kushi', 'sakhi', 'Orange', 'Na autobiography', 'prema', 'OG', 'Tholiprema']\n",
    "m.insert(1,\"pothuraju\")\n",
    "print(m)"
   ]
  },
  {
   "cell_type": "markdown",
   "id": "f0075340",
   "metadata": {},
   "source": [
    "#### pop\n",
    "    * put out the last element in list. it an index is given as input,it pop out the element at said index."
   ]
  },
  {
   "cell_type": "code",
   "execution_count": 9,
   "id": "44b0480a",
   "metadata": {},
   "outputs": [
    {
     "name": "stdout",
     "output_type": "stream",
     "text": [
      "Help on built-in function pop:\n",
      "\n",
      "pop(index=-1, /) method of builtins.list instance\n",
      "    Remove and return item at index (default last).\n",
      "    \n",
      "    Raises IndexError if list is empty or index is out of range.\n",
      "\n"
     ]
    }
   ],
   "source": [
    "help(l.pop)"
   ]
  },
  {
   "cell_type": "code",
   "execution_count": 12,
   "id": "8988e2b4",
   "metadata": {},
   "outputs": [
    {
     "name": "stdout",
     "output_type": "stream",
     "text": [
      "['kushi', 'pothuraju', 'sakhi', 'Orange', 'Na autobiography', 'prema', 'OG']\n"
     ]
    }
   ],
   "source": [
    "m = ['kushi', 'pothuraju', 'sakhi', 'Orange', 'Na autobiography', 'prema', 'OG', 'Tholiprema']\n",
    "m.pop() # it will pop at end of the index \n",
    "print(m)"
   ]
  },
  {
   "cell_type": "code",
   "execution_count": 13,
   "id": "0b6e839e",
   "metadata": {},
   "outputs": [
    {
     "name": "stdout",
     "output_type": "stream",
     "text": [
      "['kushi', 'pothuraju', 'sakhi', 'Na autobiography', 'prema', 'OG']\n"
     ]
    }
   ],
   "source": [
    "m = ['kushi', 'pothuraju', 'sakhi', 'Orange', 'Na autobiography', 'prema', 'OG']\n",
    "m.pop(3) \n",
    "print(m)"
   ]
  },
  {
   "cell_type": "markdown",
   "id": "bbdb2bed",
   "metadata": {},
   "source": [
    "#### remove \n",
    "    * remove the said element."
   ]
  },
  {
   "cell_type": "code",
   "execution_count": 10,
   "id": "d51dc8e6",
   "metadata": {},
   "outputs": [
    {
     "name": "stdout",
     "output_type": "stream",
     "text": [
      "Help on built-in function remove:\n",
      "\n",
      "remove(value, /) method of builtins.list instance\n",
      "    Remove first occurrence of value.\n",
      "    \n",
      "    Raises ValueError if the value is not present.\n",
      "\n"
     ]
    }
   ],
   "source": [
    "help(l.remove)"
   ]
  },
  {
   "cell_type": "code",
   "execution_count": 14,
   "id": "9fe78547",
   "metadata": {},
   "outputs": [
    {
     "name": "stdout",
     "output_type": "stream",
     "text": [
      "['kushi', 'pothuraju', 'sakhi', 'Na autobiography', 'prema', 'OG']\n",
      "['kushi', 'pothuraju', 'Na autobiography', 'prema', 'OG']\n"
     ]
    }
   ],
   "source": [
    "print(m)\n",
    "m.remove(\"sakhi\")\n",
    "print(m)"
   ]
  },
  {
   "cell_type": "markdown",
   "id": "317bd8c4",
   "metadata": {},
   "source": [
    "#### reverse\n",
    "    * reverse the string.\n"
   ]
  },
  {
   "cell_type": "code",
   "execution_count": 11,
   "id": "37d0471a",
   "metadata": {},
   "outputs": [
    {
     "name": "stdout",
     "output_type": "stream",
     "text": [
      "Help on built-in function reverse:\n",
      "\n",
      "reverse() method of builtins.list instance\n",
      "    Reverse *IN PLACE*.\n",
      "\n"
     ]
    }
   ],
   "source": [
    "help(l.reverse)"
   ]
  },
  {
   "cell_type": "code",
   "execution_count": 15,
   "id": "6dafa3ad",
   "metadata": {},
   "outputs": [
    {
     "name": "stdout",
     "output_type": "stream",
     "text": [
      "['kushi', 'pothuraju', 'Na autobiography', 'prema', 'OG']\n",
      "['OG', 'prema', 'Na autobiography', 'pothuraju', 'kushi']\n"
     ]
    }
   ],
   "source": [
    "print(m)\n",
    "m.reverse()\n",
    "print(m)"
   ]
  },
  {
   "cell_type": "markdown",
   "id": "89d09b1c",
   "metadata": {},
   "source": [
    "#### sort\n",
    "    * sort the string in ascending or descending order."
   ]
  },
  {
   "cell_type": "code",
   "execution_count": 12,
   "id": "818bb110",
   "metadata": {},
   "outputs": [
    {
     "name": "stdout",
     "output_type": "stream",
     "text": [
      "Help on built-in function sort:\n",
      "\n",
      "sort(*, key=None, reverse=False) method of builtins.list instance\n",
      "    Sort the list in ascending order and return None.\n",
      "    \n",
      "    The sort is in-place (i.e. the list itself is modified) and stable (i.e. the\n",
      "    order of two equal elements is maintained).\n",
      "    \n",
      "    If a key function is given, apply it once to each list item and sort them,\n",
      "    ascending or descending, according to their function values.\n",
      "    \n",
      "    The reverse flag can be set to sort in descending order.\n",
      "\n"
     ]
    }
   ],
   "source": [
    "help(l.sort)"
   ]
  },
  {
   "cell_type": "code",
   "execution_count": 16,
   "id": "dd6eadeb",
   "metadata": {},
   "outputs": [
    {
     "name": "stdout",
     "output_type": "stream",
     "text": [
      "['OG', 'prema', 'Na autobiography', 'pothuraju', 'kushi']\n",
      "['Na autobiography', 'OG', 'kushi', 'pothuraju', 'prema']\n"
     ]
    }
   ],
   "source": [
    "print(m)\n",
    "m.sort()\n",
    "print(m)"
   ]
  },
  {
   "cell_type": "code",
   "execution_count": 20,
   "id": "df8861b4",
   "metadata": {},
   "outputs": [
    {
     "name": "stdout",
     "output_type": "stream",
     "text": [
      "[-74, -50, -10.1, -0.99, -0.86, 0.56, 1.89, 4, 10, 23]\n",
      "['Deepthi', 'Vengal', 'shravani', 'venu']\n"
     ]
    }
   ],
   "source": [
    "a = [-50,-74,4,10,23] # only integers\n",
    "b = [0.56, 1.89, -0.86, -0.99, -10.10] # only flaot values\n",
    "c = a + b # int & flaots\n",
    "d = [1+1j, 2-2j, 10+10j] # complex\n",
    "e = ['venu', 'Vengal', 'Deepthi', 'shravani'] # strings\n",
    "f = c + d\n",
    "g = f + e\n",
    "c.sort()\n",
    "print(c)\n",
    "e.sort()\n",
    "print(e)"
   ]
  },
  {
   "cell_type": "code",
   "execution_count": 18,
   "id": "b4b37682",
   "metadata": {},
   "outputs": [
    {
     "ename": "TypeError",
     "evalue": "'<' not supported between instances of 'complex' and 'float'",
     "output_type": "error",
     "traceback": [
      "\u001b[1;31m---------------------------------------------------------------------------\u001b[0m",
      "\u001b[1;31mTypeError\u001b[0m                                 Traceback (most recent call last)",
      "Cell \u001b[1;32mIn[18], line 1\u001b[0m\n\u001b[1;32m----> 1\u001b[0m f\u001b[38;5;241m.\u001b[39msort()\n\u001b[0;32m      2\u001b[0m \u001b[38;5;28mprint\u001b[39m(f)\n",
      "\u001b[1;31mTypeError\u001b[0m: '<' not supported between instances of 'complex' and 'float'"
     ]
    }
   ],
   "source": [
    "f.sort()\n",
    "print(f)"
   ]
  },
  {
   "cell_type": "code",
   "execution_count": 19,
   "id": "5b8db5fc",
   "metadata": {},
   "outputs": [
    {
     "ename": "TypeError",
     "evalue": "'<' not supported between instances of 'complex' and 'float'",
     "output_type": "error",
     "traceback": [
      "\u001b[1;31m---------------------------------------------------------------------------\u001b[0m",
      "\u001b[1;31mTypeError\u001b[0m                                 Traceback (most recent call last)",
      "Cell \u001b[1;32mIn[19], line 1\u001b[0m\n\u001b[1;32m----> 1\u001b[0m g\u001b[38;5;241m.\u001b[39msort()\n\u001b[0;32m      2\u001b[0m \u001b[38;5;28mprint\u001b[39m(g)\n",
      "\u001b[1;31mTypeError\u001b[0m: '<' not supported between instances of 'complex' and 'float'"
     ]
    }
   ],
   "source": [
    "g.sort()\n",
    "print(g)"
   ]
  },
  {
   "cell_type": "markdown",
   "id": "c5010e26",
   "metadata": {},
   "source": [
    "### count\n",
    "    * same as a  string, it counts the number of time's on element has occured in the list.\n"
   ]
  },
  {
   "cell_type": "code",
   "execution_count": 13,
   "id": "e20a87fe",
   "metadata": {},
   "outputs": [
    {
     "name": "stdout",
     "output_type": "stream",
     "text": [
      "Help on built-in function count:\n",
      "\n",
      "count(value, /) method of builtins.list instance\n",
      "    Return number of occurrences of value.\n",
      "\n"
     ]
    }
   ],
   "source": [
    "help(l.count)"
   ]
  },
  {
   "cell_type": "code",
   "execution_count": 21,
   "id": "f7e10cf9",
   "metadata": {},
   "outputs": [
    {
     "data": {
      "text/plain": [
       "2"
      ]
     },
     "execution_count": 21,
     "metadata": {},
     "output_type": "execute_result"
    }
   ],
   "source": [
    "m = ['OG', 'prema',\"prema\", 'Na autobiography', 'pothuraju', 'kushi']\n",
    "m.count(\"prema\")"
   ]
  },
  {
   "cell_type": "code",
   "execution_count": 22,
   "id": "45f46c4a",
   "metadata": {},
   "outputs": [
    {
     "data": {
      "text/plain": [
       "(2, 3)"
      ]
     },
     "execution_count": 22,
     "metadata": {},
     "output_type": "execute_result"
    }
   ],
   "source": [
    "l = [1,2,3,1,2,3]\n",
    "l.count(1),l.index(1,1)"
   ]
  },
  {
   "cell_type": "markdown",
   "id": "772b0c7b",
   "metadata": {},
   "source": [
    "#### copy  \n",
    "    * create's a shallow copy of the list object.\n"
   ]
  },
  {
   "cell_type": "code",
   "execution_count": 14,
   "id": "f62b7eec",
   "metadata": {},
   "outputs": [
    {
     "name": "stdout",
     "output_type": "stream",
     "text": [
      "Help on built-in function copy:\n",
      "\n",
      "copy() method of builtins.list instance\n",
      "    Return a shallow copy of the list.\n",
      "\n"
     ]
    }
   ],
   "source": [
    "help(l.copy)"
   ]
  },
  {
   "cell_type": "code",
   "execution_count": 23,
   "id": "c70ede50",
   "metadata": {},
   "outputs": [
    {
     "name": "stdout",
     "output_type": "stream",
     "text": [
      "['one', 'two', 'three']\n",
      "['one', 'two', 'three']\n"
     ]
    }
   ],
   "source": [
    "a = ['one', 'two', 'three']\n",
    "b = a\n",
    "print(a, b, sep = '\\n')"
   ]
  },
  {
   "cell_type": "code",
   "execution_count": 24,
   "id": "b258b40e",
   "metadata": {},
   "outputs": [
    {
     "name": "stdout",
     "output_type": "stream",
     "text": [
      "['one', 'two', 'three', 4, 5, 6]\n",
      "['one', 'two', 'three', 4, 5, 6]\n"
     ]
    }
   ],
   "source": [
    "a.extend([4,5,6])\n",
    "print(a, b, sep = '\\n')"
   ]
  },
  {
   "cell_type": "code",
   "execution_count": 25,
   "id": "083527f7",
   "metadata": {},
   "outputs": [
    {
     "name": "stdout",
     "output_type": "stream",
     "text": [
      "['one', 'two', 'three', 4, 5, 6] 2219705541184\n",
      "['one', 'two', 'three', 4, 5, 6] 2219705541184\n"
     ]
    }
   ],
   "source": [
    "print(a, id(a))\n",
    "print(b, id(b))"
   ]
  },
  {
   "cell_type": "code",
   "execution_count": 26,
   "id": "fe18779e",
   "metadata": {},
   "outputs": [
    {
     "name": "stdout",
     "output_type": "stream",
     "text": [
      "[6, 5, 4, 'three', 'two', 'one'] 2219705541184\n",
      "['one', 'two', 'three', 4, 5, 6] 2219692023104\n"
     ]
    }
   ],
   "source": [
    "# copy()\n",
    "\n",
    "c = a.copy()\n",
    "\n",
    "a.reverse()\n",
    "print(a, id(a))\n",
    "print(c, id(c))"
   ]
  },
  {
   "cell_type": "code",
   "execution_count": 27,
   "id": "6a64e8e7",
   "metadata": {},
   "outputs": [
    {
     "name": "stdout",
     "output_type": "stream",
     "text": [
      "[111, 222, 333, ['one', 'two', 'three']] 2219705546112\n",
      "[111, 222, 333, ['one', 'two', 'three']] 2219705539968\n"
     ]
    }
   ],
   "source": [
    "d = [111, 222, 333, ['one', 'two', 'three']]\n",
    "e = d.copy()\n",
    "print(d, id(d))\n",
    "print(e, id(e))"
   ]
  },
  {
   "cell_type": "code",
   "execution_count": 28,
   "id": "6a5923f2",
   "metadata": {},
   "outputs": [
    {
     "data": {
      "text/plain": [
       "'two'"
      ]
     },
     "execution_count": 28,
     "metadata": {},
     "output_type": "execute_result"
    }
   ],
   "source": [
    "d[3][1]"
   ]
  },
  {
   "cell_type": "code",
   "execution_count": 29,
   "id": "10afb3a3",
   "metadata": {},
   "outputs": [
    {
     "name": "stdout",
     "output_type": "stream",
     "text": [
      "['zzz', 222, 333, ['one', 2, 'three', 'z']]\n"
     ]
    }
   ],
   "source": [
    "d[0] = 'zzz'\n",
    "d[3][1] = 2\n",
    "d[3].append('z')\n",
    "print(d)"
   ]
  },
  {
   "cell_type": "code",
   "execution_count": 30,
   "id": "9594b5e7",
   "metadata": {},
   "outputs": [
    {
     "name": "stdout",
     "output_type": "stream",
     "text": [
      "[111, 222, 333, ['one', 2, 'three', 'z']]\n"
     ]
    }
   ],
   "source": [
    "print(e)"
   ]
  },
  {
   "cell_type": "code",
   "execution_count": 31,
   "id": "5a01f5e3",
   "metadata": {},
   "outputs": [
    {
     "data": {
      "text/plain": [
       "False"
      ]
     },
     "execution_count": 31,
     "metadata": {},
     "output_type": "execute_result"
    }
   ],
   "source": [
    "\n",
    "d is e"
   ]
  },
  {
   "cell_type": "code",
   "execution_count": 32,
   "id": "8d8b8cf7",
   "metadata": {},
   "outputs": [
    {
     "data": {
      "text/plain": [
       "True"
      ]
     },
     "execution_count": 32,
     "metadata": {},
     "output_type": "execute_result"
    }
   ],
   "source": [
    "d[3] is e[3]"
   ]
  },
  {
   "cell_type": "code",
   "execution_count": 33,
   "id": "af555fcb",
   "metadata": {},
   "outputs": [
    {
     "name": "stdout",
     "output_type": "stream",
     "text": [
      "['one', 2, 'three', 'z'] 2219704536576\n",
      "['one', 2, 'three', 'z'] 2219704536576\n"
     ]
    }
   ],
   "source": [
    "print(d[3], id(d[3]))\n",
    "print(e[3], id(e[3]))"
   ]
  },
  {
   "cell_type": "markdown",
   "id": "e72be1a3",
   "metadata": {},
   "source": [
    "#### deepcopy\n",
    "    * "
   ]
  },
  {
   "cell_type": "code",
   "execution_count": 34,
   "id": "711ac91c",
   "metadata": {},
   "outputs": [],
   "source": [
    "import copy\n",
    "from copy import deepcopy"
   ]
  },
  {
   "cell_type": "code",
   "execution_count": 35,
   "id": "d533bd45",
   "metadata": {},
   "outputs": [
    {
     "name": "stdout",
     "output_type": "stream",
     "text": [
      "[111, 222, 333, ['one', 2, 'three', 'z']] 2219705580992\n",
      "[111, 222, 333, ['one', 2, 'three', 'z']] 2219705539968\n"
     ]
    }
   ],
   "source": [
    "f = deepcopy(e)\n",
    "print(f, id(f))\n",
    "print(e, id(e))"
   ]
  },
  {
   "cell_type": "code",
   "execution_count": 36,
   "id": "22033710",
   "metadata": {},
   "outputs": [
    {
     "name": "stdout",
     "output_type": "stream",
     "text": [
      "['zzz', 222, 333, ['one', 2.2, 'three', 'z', 'z']]\n"
     ]
    }
   ],
   "source": [
    "e[0] = 'zzz'\n",
    "e[3][1] = 2.2\n",
    "e[3].append('z')\n",
    "print(e)"
   ]
  },
  {
   "cell_type": "code",
   "execution_count": 37,
   "id": "730df15f",
   "metadata": {},
   "outputs": [
    {
     "data": {
      "text/plain": [
       "[111, 222, 333, ['one', 2, 'three', 'z']]"
      ]
     },
     "execution_count": 37,
     "metadata": {},
     "output_type": "execute_result"
    }
   ],
   "source": [
    "f"
   ]
  },
  {
   "cell_type": "code",
   "execution_count": 38,
   "id": "821acaf1",
   "metadata": {},
   "outputs": [
    {
     "data": {
      "text/plain": [
       "True"
      ]
     },
     "execution_count": 38,
     "metadata": {},
     "output_type": "execute_result"
    }
   ],
   "source": [
    "f[3] is not e[3]"
   ]
  },
  {
   "cell_type": "code",
   "execution_count": 39,
   "id": "6eee3433",
   "metadata": {},
   "outputs": [
    {
     "name": "stdout",
     "output_type": "stream",
     "text": [
      "['one', 2, 'three', 'z'] 2219691417216\n",
      "['one', 2.2, 'three', 'z', 'z'] 2219704536576\n"
     ]
    }
   ],
   "source": [
    "print(f[3], id(f[3]))\n",
    "print(e[3], id(e[3]))"
   ]
  },
  {
   "cell_type": "code",
   "execution_count": 40,
   "id": "dba5d5c0",
   "metadata": {},
   "outputs": [
    {
     "data": {
      "text/plain": [
       "['zzz', 222, 333, ['one', 2.2, 'three', 'z', 'z']]"
      ]
     },
     "execution_count": 40,
     "metadata": {},
     "output_type": "execute_result"
    }
   ],
   "source": [
    "e"
   ]
  },
  {
   "cell_type": "markdown",
   "id": "d1c68e37",
   "metadata": {},
   "source": [
    "#### clear\n",
    "    * It clear's the list's content's and return a empty list."
   ]
  },
  {
   "cell_type": "code",
   "execution_count": 15,
   "id": "2ec9e506",
   "metadata": {},
   "outputs": [
    {
     "name": "stdout",
     "output_type": "stream",
     "text": [
      "Help on built-in function clear:\n",
      "\n",
      "clear() method of builtins.list instance\n",
      "    Remove all items from list.\n",
      "\n"
     ]
    }
   ],
   "source": [
    "help(l.clear)"
   ]
  },
  {
   "cell_type": "code",
   "execution_count": 5,
   "id": "e375c966",
   "metadata": {},
   "outputs": [
    {
     "data": {
      "text/plain": [
       "[]"
      ]
     },
     "execution_count": 5,
     "metadata": {},
     "output_type": "execute_result"
    }
   ],
   "source": [
    "l = [1,2,3,1,2,3]\n",
    "l.clear()\n",
    "l"
   ]
  },
  {
   "cell_type": "markdown",
   "id": "59cc42b5",
   "metadata": {},
   "source": [
    "### Range()\n",
    "    * Range object can be directly and as an iterator\n",
    "    * \n",
    "    * range(start,end,step)"
   ]
  },
  {
   "cell_type": "code",
   "execution_count": 18,
   "id": "bcc7112b",
   "metadata": {},
   "outputs": [
    {
     "data": {
      "text/plain": [
       "range(0, 5)"
      ]
     },
     "execution_count": 18,
     "metadata": {},
     "output_type": "execute_result"
    }
   ],
   "source": [
    "range(5)"
   ]
  },
  {
   "cell_type": "code",
   "execution_count": 19,
   "id": "2d715630",
   "metadata": {},
   "outputs": [
    {
     "data": {
      "text/plain": [
       "[0, 1, 2, 3, 4, 5, 6, 7, 8, 9]"
      ]
     },
     "execution_count": 19,
     "metadata": {},
     "output_type": "execute_result"
    }
   ],
   "source": [
    "list(range(10))"
   ]
  },
  {
   "cell_type": "code",
   "execution_count": 20,
   "id": "ce7e5ffa",
   "metadata": {},
   "outputs": [
    {
     "data": {
      "text/plain": [
       "[-1, -2, -3, -4, -5, -6, -7, -8, -9, -10, -11]"
      ]
     },
     "execution_count": 20,
     "metadata": {},
     "output_type": "execute_result"
    }
   ],
   "source": [
    "list(range(-1,-12,-1))"
   ]
  },
  {
   "cell_type": "code",
   "execution_count": 21,
   "id": "e8d0d889",
   "metadata": {},
   "outputs": [
    {
     "data": {
      "text/plain": [
       "[-11, -10, -9, -8, -7, -6, -5, -4, -3, -2, -1]"
      ]
     },
     "execution_count": 21,
     "metadata": {},
     "output_type": "execute_result"
    }
   ],
   "source": [
    "list(range(-11,0,1))"
   ]
  },
  {
   "cell_type": "markdown",
   "id": "db66694e",
   "metadata": {},
   "source": [
    "## Tuple\n",
    "    * Tuple is a Hetrogeneous.\n",
    "    * It allow duplicate value's in tuple.\n",
    "    * It is a immutable.\n",
    "    * Element of lists are enclosed within('')."
   ]
  },
  {
   "cell_type": "code",
   "execution_count": 23,
   "id": "581a01cb",
   "metadata": {},
   "outputs": [
    {
     "name": "stdout",
     "output_type": "stream",
     "text": [
      "('hii', 2, (2+3j), True, 1.0)\n",
      "<class 'tuple'>\n"
     ]
    }
   ],
   "source": [
    "t = (\"hii\",2,2+3j,True,1.0)\n",
    "print(t,type(t),sep=\"\\n\")"
   ]
  },
  {
   "cell_type": "markdown",
   "id": "bd503f75",
   "metadata": {},
   "source": [
    "### slicing in Tuple\n",
    "     * postive and negative slicing in tuple."
   ]
  },
  {
   "cell_type": "code",
   "execution_count": 25,
   "id": "1f1ffc02",
   "metadata": {},
   "outputs": [
    {
     "name": "stdout",
     "output_type": "stream",
     "text": [
      "('hii', 2, (2+3j), True, 1.0)\n"
     ]
    }
   ],
   "source": [
    "# postive slicing\n",
    "\n",
    "t = (\"hii\",2,2+3j,True,1.0)\n",
    "print(t[0:5])"
   ]
  },
  {
   "cell_type": "code",
   "execution_count": 26,
   "id": "76ac0ba9",
   "metadata": {},
   "outputs": [
    {
     "name": "stdout",
     "output_type": "stream",
     "text": [
      "()\n"
     ]
    }
   ],
   "source": [
    "# negative slicing\n",
    "\n",
    "t = (\"hii\",2,2+3j,True,1.0)\n",
    "print(t[-1:-3])"
   ]
  },
  {
   "cell_type": "code",
   "execution_count": 27,
   "id": "dd5b4424",
   "metadata": {},
   "outputs": [
    {
     "name": "stdout",
     "output_type": "stream",
     "text": [
      "(2, (2+3j), True, 1.0)\n"
     ]
    }
   ],
   "source": [
    "t = (\"hii\",2,2+3j,True,1.0)\n",
    "print(t[-4:])"
   ]
  },
  {
   "cell_type": "code",
   "execution_count": 28,
   "id": "0d86449a",
   "metadata": {},
   "outputs": [
    {
     "name": "stdout",
     "output_type": "stream",
     "text": [
      "(1.0, True, (2+3j), 2)\n"
     ]
    }
   ],
   "source": [
    "t = (\"hii\",2,2+3j,True,1.0)\n",
    "print(t[-1:-5:-1])"
   ]
  },
  {
   "cell_type": "markdown",
   "id": "8063437e",
   "metadata": {},
   "source": [
    "### Methods in Tuple"
   ]
  },
  {
   "cell_type": "code",
   "execution_count": 29,
   "id": "9cd0d4e9",
   "metadata": {},
   "outputs": [
    {
     "data": {
      "text/plain": [
       "['__add__',\n",
       " '__class__',\n",
       " '__class_getitem__',\n",
       " '__contains__',\n",
       " '__delattr__',\n",
       " '__dir__',\n",
       " '__doc__',\n",
       " '__eq__',\n",
       " '__format__',\n",
       " '__ge__',\n",
       " '__getattribute__',\n",
       " '__getitem__',\n",
       " '__getnewargs__',\n",
       " '__getstate__',\n",
       " '__gt__',\n",
       " '__hash__',\n",
       " '__init__',\n",
       " '__init_subclass__',\n",
       " '__iter__',\n",
       " '__le__',\n",
       " '__len__',\n",
       " '__lt__',\n",
       " '__mul__',\n",
       " '__ne__',\n",
       " '__new__',\n",
       " '__reduce__',\n",
       " '__reduce_ex__',\n",
       " '__repr__',\n",
       " '__rmul__',\n",
       " '__setattr__',\n",
       " '__sizeof__',\n",
       " '__str__',\n",
       " '__subclasshook__',\n",
       " 'count',\n",
       " 'index']"
      ]
     },
     "execution_count": 29,
     "metadata": {},
     "output_type": "execute_result"
    }
   ],
   "source": [
    "dir(tuple)"
   ]
  },
  {
   "cell_type": "markdown",
   "id": "7f77a1e7",
   "metadata": {},
   "source": [
    "    > count  :- same as a  string & List, it counts the number of time's on element has occured in the list.\n",
    "        \n",
    "    > index  :- the index value of the first occurrence of the specified element in the tuple.\n"
   ]
  },
  {
   "cell_type": "markdown",
   "id": "c44d2ca5",
   "metadata": {},
   "source": [
    "#### count\n",
    "       * same as a  string & List, it counts the number of time's on element has occured in the list.\n"
   ]
  },
  {
   "cell_type": "code",
   "execution_count": 30,
   "id": "68de4693",
   "metadata": {},
   "outputs": [
    {
     "name": "stdout",
     "output_type": "stream",
     "text": [
      "Help on built-in function count:\n",
      "\n",
      "count(value, /) method of builtins.tuple instance\n",
      "    Return number of occurrences of value.\n",
      "\n"
     ]
    }
   ],
   "source": [
    "help(t.count)"
   ]
  },
  {
   "cell_type": "code",
   "execution_count": 31,
   "id": "eff51fe9",
   "metadata": {},
   "outputs": [
    {
     "data": {
      "text/plain": [
       "2"
      ]
     },
     "execution_count": 31,
     "metadata": {},
     "output_type": "execute_result"
    }
   ],
   "source": [
    "t = (\"Ratan Tata\",\"Nikola Tesla\",\"Warren Buffett\",\"Jack Ma\",\"Swami Vivekananda\",\"Jack Ma\")\n",
    "t.count(\"Jack Ma\")"
   ]
  },
  {
   "cell_type": "markdown",
   "id": "eb166dc7",
   "metadata": {},
   "source": [
    "#### Index\n",
    "    > the index value of the first occurrence of the specified element in the tuple."
   ]
  },
  {
   "cell_type": "code",
   "execution_count": 32,
   "id": "d9464a25",
   "metadata": {},
   "outputs": [
    {
     "name": "stdout",
     "output_type": "stream",
     "text": [
      "Help on built-in function index:\n",
      "\n",
      "index(value, start=0, stop=9223372036854775807, /) method of builtins.tuple instance\n",
      "    Return first index of value.\n",
      "    \n",
      "    Raises ValueError if the value is not present.\n",
      "\n"
     ]
    }
   ],
   "source": [
    "help(t.index)"
   ]
  },
  {
   "cell_type": "code",
   "execution_count": 33,
   "id": "afd1c056",
   "metadata": {},
   "outputs": [
    {
     "data": {
      "text/plain": [
       "0"
      ]
     },
     "execution_count": 33,
     "metadata": {},
     "output_type": "execute_result"
    }
   ],
   "source": [
    "t = (\"Ratan Tata\",\"Nikola Tesla\",\"Warren Buffett\",\"Jack Ma\",\"Swami Vivekananda\",\"Jack Ma\")\n",
    "t.index(\"Ratan Tata\")"
   ]
  },
  {
   "cell_type": "markdown",
   "id": "827df2b9",
   "metadata": {},
   "source": [
    "## Set\n",
    "    * set are unorder,clusters.\n",
    "    * Element of lists are enclosed within {''}.\n",
    "    * set's are mutable.\n",
    "    * It will not allow duplicate value's in set's. \n"
   ]
  },
  {
   "cell_type": "code",
   "execution_count": 34,
   "id": "8b4f459f",
   "metadata": {},
   "outputs": [
    {
     "name": "stdout",
     "output_type": "stream",
     "text": [
      "{True, 2, 'hii', (2+3j)}\n",
      "<class 'set'>\n"
     ]
    }
   ],
   "source": [
    "s = {\"hii\",2,2+3j,True,1.0}\n",
    "print(s,type(s),sep=\"\\n\")"
   ]
  },
  {
   "cell_type": "markdown",
   "id": "f6e96039",
   "metadata": {},
   "source": [
    "### Methods in Set"
   ]
  },
  {
   "cell_type": "code",
   "execution_count": 35,
   "id": "eb33786b",
   "metadata": {},
   "outputs": [
    {
     "data": {
      "text/plain": [
       "['__and__',\n",
       " '__class__',\n",
       " '__class_getitem__',\n",
       " '__contains__',\n",
       " '__delattr__',\n",
       " '__dir__',\n",
       " '__doc__',\n",
       " '__eq__',\n",
       " '__format__',\n",
       " '__ge__',\n",
       " '__getattribute__',\n",
       " '__getstate__',\n",
       " '__gt__',\n",
       " '__hash__',\n",
       " '__iand__',\n",
       " '__init__',\n",
       " '__init_subclass__',\n",
       " '__ior__',\n",
       " '__isub__',\n",
       " '__iter__',\n",
       " '__ixor__',\n",
       " '__le__',\n",
       " '__len__',\n",
       " '__lt__',\n",
       " '__ne__',\n",
       " '__new__',\n",
       " '__or__',\n",
       " '__rand__',\n",
       " '__reduce__',\n",
       " '__reduce_ex__',\n",
       " '__repr__',\n",
       " '__ror__',\n",
       " '__rsub__',\n",
       " '__rxor__',\n",
       " '__setattr__',\n",
       " '__sizeof__',\n",
       " '__str__',\n",
       " '__sub__',\n",
       " '__subclasshook__',\n",
       " '__xor__',\n",
       " 'add',\n",
       " 'clear',\n",
       " 'copy',\n",
       " 'difference',\n",
       " 'difference_update',\n",
       " 'discard',\n",
       " 'intersection',\n",
       " 'intersection_update',\n",
       " 'isdisjoint',\n",
       " 'issubset',\n",
       " 'issuperset',\n",
       " 'pop',\n",
       " 'remove',\n",
       " 'symmetric_difference',\n",
       " 'symmetric_difference_update',\n",
       " 'union',\n",
       " 'update']"
      ]
     },
     "execution_count": 35,
     "metadata": {},
     "output_type": "execute_result"
    }
   ],
   "source": [
    "dir(set)"
   ]
  },
  {
   "cell_type": "markdown",
   "id": "69b8b853",
   "metadata": {},
   "source": [
    "    > add     :- Adds an element to the set.\n",
    "    \n",
    "    > update  :- Update the set with another set, or any other iterable.\n",
    "    \n",
    "    > pop     :- Removes an element from the set.\n",
    "    \n",
    "    > copy    :- Returns a copy of the set.\n",
    "    \n",
    "    > remove  :- Removes the specified element.\n",
    "    \n",
    "    > clear   :- Removes all the elements from the set.\n",
    "    \n",
    "    > discard :- Remove the specified item.\n"
   ]
  },
  {
   "cell_type": "markdown",
   "id": "020fbb85",
   "metadata": {},
   "source": [
    "### Add\n",
    "    * Adds an element to the set.\n"
   ]
  },
  {
   "cell_type": "code",
   "execution_count": 56,
   "id": "de9d6537",
   "metadata": {},
   "outputs": [
    {
     "name": "stdout",
     "output_type": "stream",
     "text": [
      "Help on built-in function add:\n",
      "\n",
      "add(...) method of builtins.set instance\n",
      "    Add an element to a set.\n",
      "    \n",
      "    This has no effect if the element is already present.\n",
      "\n"
     ]
    }
   ],
   "source": [
    "help(s.add)"
   ]
  },
  {
   "cell_type": "code",
   "execution_count": 36,
   "id": "8d212154",
   "metadata": {},
   "outputs": [
    {
     "data": {
      "text/plain": [
       "{'david', 'dhoni', 'gambhir', 'nehra', 'sachin', 'yuvraj'}"
      ]
     },
     "execution_count": 36,
     "metadata": {},
     "output_type": "execute_result"
    }
   ],
   "source": [
    "s = {\"sachin\",\"gambhir\",\"nehra\",'dhoni','david'}\n",
    "s.add(\"yuvraj\")\n",
    "s"
   ]
  },
  {
   "cell_type": "markdown",
   "id": "31f92d77",
   "metadata": {},
   "source": [
    "### Update\n",
    "    * Update the set with another set, or any other iterable."
   ]
  },
  {
   "cell_type": "code",
   "execution_count": 57,
   "id": "12236d6a",
   "metadata": {},
   "outputs": [
    {
     "name": "stdout",
     "output_type": "stream",
     "text": [
      "Help on built-in function update:\n",
      "\n",
      "update(...) method of builtins.set instance\n",
      "    Update a set with the union of itself and others.\n",
      "\n"
     ]
    }
   ],
   "source": [
    "help(s.update)"
   ]
  },
  {
   "cell_type": "code",
   "execution_count": 37,
   "id": "fee6cfd9",
   "metadata": {},
   "outputs": [
    {
     "data": {
      "text/plain": [
       "{'david',\n",
       " 'dhoni',\n",
       " 'gambhir',\n",
       " 'ganguly',\n",
       " 'harbhajan',\n",
       " 'nehra',\n",
       " 'sachin',\n",
       " 'yuvraj'}"
      ]
     },
     "execution_count": 37,
     "metadata": {},
     "output_type": "execute_result"
    }
   ],
   "source": [
    "s = {\"sachin\",\"gambhir\",\"nehra\",'dhoni','david','yuvraj'}\n",
    "s.update(['ganguly','harbhajan'])\n",
    "s"
   ]
  },
  {
   "cell_type": "markdown",
   "id": "dbf1d1de",
   "metadata": {},
   "source": [
    "### pop\n",
    "    * Removes an element from the set.\n"
   ]
  },
  {
   "cell_type": "code",
   "execution_count": 58,
   "id": "94e4ef7d",
   "metadata": {},
   "outputs": [
    {
     "name": "stdout",
     "output_type": "stream",
     "text": [
      "Help on built-in function pop:\n",
      "\n",
      "pop(...) method of builtins.set instance\n",
      "    Remove and return an arbitrary set element.\n",
      "    Raises KeyError if the set is empty.\n",
      "\n"
     ]
    }
   ],
   "source": [
    "help(s.pop)"
   ]
  },
  {
   "cell_type": "code",
   "execution_count": 40,
   "id": "a2000eb7",
   "metadata": {},
   "outputs": [
    {
     "data": {
      "text/plain": [
       "({'david', 'dhoni', 'ganguly', 'harbhajan', 'nehra', 'sachin', 'yuvraj'},\n",
       " 'gambhir')"
      ]
     },
     "execution_count": 40,
     "metadata": {},
     "output_type": "execute_result"
    }
   ],
   "source": [
    "s = {\"sachin\",\"gambhir\",\"nehra\",'dhoni','david','yuvraj','ganguly','harbhajan'}\n",
    "c = s.pop()\n",
    "s,c"
   ]
  },
  {
   "cell_type": "code",
   "execution_count": 41,
   "id": "a7caa3f0",
   "metadata": {},
   "outputs": [
    {
     "data": {
      "text/plain": [
       "1"
      ]
     },
     "execution_count": 41,
     "metadata": {},
     "output_type": "execute_result"
    }
   ],
   "source": [
    "s = {1,2,3,4}\n",
    "x=s.pop()\n",
    "x"
   ]
  },
  {
   "cell_type": "code",
   "execution_count": 42,
   "id": "e4e366f3",
   "metadata": {},
   "outputs": [
    {
     "data": {
      "text/plain": [
       "({2, 3, 4, 5}, 1)"
      ]
     },
     "execution_count": 42,
     "metadata": {},
     "output_type": "execute_result"
    }
   ],
   "source": [
    "a = {1,2,3,4,5}\n",
    "x=a.pop()\n",
    "a,x"
   ]
  },
  {
   "cell_type": "markdown",
   "id": "8e0ecd49",
   "metadata": {},
   "source": [
    "### copy\n",
    "    * Returns a copy of the set."
   ]
  },
  {
   "cell_type": "code",
   "execution_count": 59,
   "id": "c6dee9a2",
   "metadata": {},
   "outputs": [
    {
     "name": "stdout",
     "output_type": "stream",
     "text": [
      "Help on built-in function copy:\n",
      "\n",
      "copy(...) method of builtins.set instance\n",
      "    Return a shallow copy of a set.\n",
      "\n"
     ]
    }
   ],
   "source": [
    "help(s.copy)"
   ]
  },
  {
   "cell_type": "code",
   "execution_count": 44,
   "id": "fd389ada",
   "metadata": {},
   "outputs": [
    {
     "name": "stdout",
     "output_type": "stream",
     "text": [
      "{1, 2, 3}\n",
      "{1, 2, 3}\n",
      "{1, 2, 3} 1836125386816\n",
      "{1, 2, 3} 1836125385248\n"
     ]
    }
   ],
   "source": [
    "a ={1,2,3}\n",
    "b = a\n",
    "b=a.copy()\n",
    "print(a,b,sep=\"\\n\")\n",
    "print(a, id(a))\n",
    "print(b, id(b))"
   ]
  },
  {
   "cell_type": "markdown",
   "id": "825f8ffa",
   "metadata": {},
   "source": [
    "### remove  \n",
    "    * Removes the specified element."
   ]
  },
  {
   "cell_type": "code",
   "execution_count": 60,
   "id": "a86dbcb8",
   "metadata": {},
   "outputs": [
    {
     "name": "stdout",
     "output_type": "stream",
     "text": [
      "Help on built-in function remove:\n",
      "\n",
      "remove(...) method of builtins.set instance\n",
      "    Remove an element from a set; it must be a member.\n",
      "    \n",
      "    If the element is not a member, raise a KeyError.\n",
      "\n"
     ]
    }
   ],
   "source": [
    "help(s.remove)"
   ]
  },
  {
   "cell_type": "code",
   "execution_count": 45,
   "id": "5f828ec4",
   "metadata": {},
   "outputs": [
    {
     "data": {
      "text/plain": [
       "{'david', 'dhoni', 'gambhir', 'ganguly', 'nehra', 'sachin', 'yuvraj'}"
      ]
     },
     "execution_count": 45,
     "metadata": {},
     "output_type": "execute_result"
    }
   ],
   "source": [
    "s = {\"sachin\",\"gambhir\",\"nehra\",'dhoni','david','yuvraj','ganguly','harbhajan'}\n",
    "s.remove(\"harbhajan\")\n",
    "s"
   ]
  },
  {
   "cell_type": "code",
   "execution_count": 46,
   "id": "92b6849f",
   "metadata": {},
   "outputs": [
    {
     "ename": "KeyError",
     "evalue": "'4'",
     "output_type": "error",
     "traceback": [
      "\u001b[1;31m---------------------------------------------------------------------------\u001b[0m",
      "\u001b[1;31mKeyError\u001b[0m                                  Traceback (most recent call last)",
      "Cell \u001b[1;32mIn[46], line 2\u001b[0m\n\u001b[0;32m      1\u001b[0m s \u001b[38;5;241m=\u001b[39m {\u001b[38;5;241m1\u001b[39m,\u001b[38;5;241m2\u001b[39m,\u001b[38;5;241m3\u001b[39m,\u001b[38;5;241m4\u001b[39m}\n\u001b[1;32m----> 2\u001b[0m s\u001b[38;5;241m.\u001b[39mremove(\u001b[38;5;124m'\u001b[39m\u001b[38;5;124m4\u001b[39m\u001b[38;5;124m'\u001b[39m)\n\u001b[0;32m      3\u001b[0m s\n",
      "\u001b[1;31mKeyError\u001b[0m: '4'"
     ]
    }
   ],
   "source": [
    "s = {1,2,3,4}\n",
    "s.remove('4')\n",
    "s"
   ]
  },
  {
   "cell_type": "markdown",
   "id": "863cd1c4",
   "metadata": {},
   "source": [
    "### discard\n",
    "    * discard :- Remove the specified item."
   ]
  },
  {
   "cell_type": "code",
   "execution_count": 61,
   "id": "0515764d",
   "metadata": {},
   "outputs": [
    {
     "name": "stdout",
     "output_type": "stream",
     "text": [
      "Help on built-in function discard:\n",
      "\n",
      "discard(...) method of builtins.set instance\n",
      "    Remove an element from a set if it is a member.\n",
      "    \n",
      "    Unlike set.remove(), the discard() method does not raise\n",
      "    an exception when an element is missing from the set.\n",
      "\n"
     ]
    }
   ],
   "source": [
    "help(s.discard)"
   ]
  },
  {
   "cell_type": "code",
   "execution_count": 47,
   "id": "f56f3678",
   "metadata": {},
   "outputs": [
    {
     "data": {
      "text/plain": [
       "{'david', 'dhoni', 'gambhir', 'nehra', 'sachin', 'yuvraj'}"
      ]
     },
     "execution_count": 47,
     "metadata": {},
     "output_type": "execute_result"
    }
   ],
   "source": [
    "s = {\"sachin\",\"gambhir\",\"nehra\",'dhoni','david','yuvraj','ganguly'}\n",
    "s.discard(\"ganguly\")\n",
    "s"
   ]
  },
  {
   "cell_type": "code",
   "execution_count": 49,
   "id": "2a16bebe",
   "metadata": {},
   "outputs": [
    {
     "data": {
      "text/plain": [
       "{1, 3}"
      ]
     },
     "execution_count": 49,
     "metadata": {},
     "output_type": "execute_result"
    }
   ],
   "source": [
    "s = {1,2,3}\n",
    "s.remove(2)\n",
    "s"
   ]
  },
  {
   "cell_type": "markdown",
   "id": "e48ace6e",
   "metadata": {},
   "source": [
    "### clear \n",
    "    * Removes all the elements from the set.\n"
   ]
  },
  {
   "cell_type": "code",
   "execution_count": 62,
   "id": "6ec063e3",
   "metadata": {},
   "outputs": [
    {
     "name": "stdout",
     "output_type": "stream",
     "text": [
      "Help on built-in function clear:\n",
      "\n",
      "clear(...) method of builtins.set instance\n",
      "    Remove all elements from this set.\n",
      "\n"
     ]
    }
   ],
   "source": [
    "help(s.clear)"
   ]
  },
  {
   "cell_type": "code",
   "execution_count": 54,
   "id": "4fb4095f",
   "metadata": {},
   "outputs": [
    {
     "name": "stdout",
     "output_type": "stream",
     "text": [
      "set()\n"
     ]
    }
   ],
   "source": [
    "s = {\"sachin\",\"gambhir\",\"nehra\",'dhoni','david','yuvraj','ganguly','harbhajan'}\n",
    "s.clear()\n",
    "print(s)"
   ]
  },
  {
   "cell_type": "code",
   "execution_count": 55,
   "id": "3aaa68e1",
   "metadata": {},
   "outputs": [
    {
     "data": {
      "text/plain": [
       "0"
      ]
     },
     "execution_count": 55,
     "metadata": {},
     "output_type": "execute_result"
    }
   ],
   "source": [
    "len(s)"
   ]
  }
 ],
 "metadata": {
  "kernelspec": {
   "display_name": "Python 3 (ipykernel)",
   "language": "python",
   "name": "python3"
  },
  "language_info": {
   "codemirror_mode": {
    "name": "ipython",
    "version": 3
   },
   "file_extension": ".py",
   "mimetype": "text/x-python",
   "name": "python",
   "nbconvert_exporter": "python",
   "pygments_lexer": "ipython3",
   "version": "3.11.3"
  }
 },
 "nbformat": 4,
 "nbformat_minor": 5
}
