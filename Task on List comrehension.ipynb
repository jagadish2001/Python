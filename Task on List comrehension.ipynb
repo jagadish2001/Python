{
 "cells": [
  {
   "cell_type": "markdown",
   "id": "ada19ddb",
   "metadata": {},
   "source": [
    "## List Comprehension:\n",
    "1.Easy:- Create a list comprehension that generates a list of squares of numbers from 1 to 10.\n",
    "#### Output:- [1, 4, 9, 16, 25, 36, 49, 64, 81, 100]"
   ]
  },
  {
   "cell_type": "code",
   "execution_count": 2,
   "id": "8f44be44",
   "metadata": {},
   "outputs": [
    {
     "name": "stdout",
     "output_type": "stream",
     "text": [
      "1\n",
      "10\n"
     ]
    },
    {
     "data": {
      "text/plain": [
       "[1, 4, 9, 16, 25, 36, 49, 64, 81, 100]"
      ]
     },
     "execution_count": 2,
     "metadata": {},
     "output_type": "execute_result"
    }
   ],
   "source": [
    "# List Comprehension\n",
    "# 1.Create a list comprehension that generates a list of squares of numbers from 1 to 10.\n",
    "\n",
    "a=int(input())\n",
    "b=int(input())\n",
    "c=[i**2 for i in range(a,b+1)]\n",
    "c"
   ]
  },
  {
   "cell_type": "markdown",
   "id": "9bd3687e",
   "metadata": {},
   "source": [
    "2. Medium: Given a list of words, create a list comprehension to filter out words that are longer than 5 characters.\n",
    "    #### Input: ['apple', 'banana', 'cherry', 'date', 'elderberry']\n",
    "    #### Output: ['apple', 'cherry', 'date']"
   ]
  },
  {
   "cell_type": "code",
   "execution_count": 19,
   "id": "7d62c907",
   "metadata": {},
   "outputs": [
    {
     "data": {
      "text/plain": [
       "['apple', 'date']"
      ]
     },
     "execution_count": 19,
     "metadata": {},
     "output_type": "execute_result"
    }
   ],
   "source": [
    "list =  ['apple', 'banana', 'cherry', 'date', 'elderberry']\n",
    "l=[i for i in list if len(i)<=5]\n",
    "l"
   ]
  },
  {
   "cell_type": "markdown",
   "id": "9a6ddadd",
   "metadata": {},
   "source": [
    "## Lists:\n",
    "1.Easy: Create a list containing the numbers 1 to 5 and then append the number 6 to it.\n",
    "#### Output: [1, 2, 3, 4, 5, 6]\n"
   ]
  },
  {
   "cell_type": "code",
   "execution_count": 9,
   "id": "7620718d",
   "metadata": {},
   "outputs": [
    {
     "data": {
      "text/plain": [
       "[1, 2, 3, 4, 5, 6]"
      ]
     },
     "execution_count": 9,
     "metadata": {},
     "output_type": "execute_result"
    }
   ],
   "source": [
    "a=[1,2,3,4,5]\n",
    "b=[i for i in a]\n",
    "b.append(6)\n",
    "b"
   ]
  },
  {
   "cell_type": "markdown",
   "id": "3ed75f1a",
   "metadata": {},
   "source": [
    "2.Medium: Given two lists, merge them into a single list without duplicates.\n",
    "Input:\n",
    "#### List 1: [1, 2, 3, 4]\n",
    "#### List 2: [3, 4, 5, 6]\n",
    "#### Output: [1, 2, 3, 4, 5, 6]\n"
   ]
  },
  {
   "cell_type": "code",
   "execution_count": 3,
   "id": "bd35336d",
   "metadata": {},
   "outputs": [
    {
     "name": "stdout",
     "output_type": "stream",
     "text": [
      "[1, 2, 3, 4, 5, 6]\n"
     ]
    }
   ],
   "source": [
    "list1 = [1,2,3,4]\n",
    "list2 = [3,4,5,6]\n",
    "list3 = set(list1+list2)\n",
    "print(list(list3))"
   ]
  },
  {
   "cell_type": "markdown",
   "id": "7f7fc2fe",
   "metadata": {},
   "source": [
    "### Map"
   ]
  },
  {
   "cell_type": "markdown",
   "id": "3553fc21",
   "metadata": {},
   "source": [
    "1. Easy: Use the map function to double each element in a list.\n",
    "#### Input: [1, 2, 3, 4, 5]\n",
    "#### Output: [2, 4, 6, 8, 10]"
   ]
  },
  {
   "cell_type": "code",
   "execution_count": 13,
   "id": "f66a961a",
   "metadata": {},
   "outputs": [
    {
     "data": {
      "text/plain": [
       "[2, 4, 6, 8, 10]"
      ]
     },
     "execution_count": 13,
     "metadata": {},
     "output_type": "execute_result"
    }
   ],
   "source": [
    "l = lambda x: x + x\n",
    "r = map(l,range(1,6))\n",
    "r=list(r)\n",
    "r"
   ]
  },
  {
   "cell_type": "markdown",
   "id": "e36b5b47",
   "metadata": {},
   "source": [
    "2.Medium: Use the map function to convert a list of strings to uppercase.\n",
    "#### Input: ['apple', 'banana', 'cherry']\n",
    "#### Output: ['APPLE', 'BANANA', 'CHERRY']"
   ]
  },
  {
   "cell_type": "code",
   "execution_count": 3,
   "id": "03810aa1",
   "metadata": {},
   "outputs": [
    {
     "name": "stdout",
     "output_type": "stream",
     "text": [
      "['APPLE', 'BANANA', 'CHERRY']\n"
     ]
    }
   ],
   "source": [
    "x = ['apple','banana','cherry']\n",
    "y = lambda x:x.upper()\n",
    "z = map(r,l)\n",
    "print(list(z))"
   ]
  },
  {
   "cell_type": "markdown",
   "id": "3eb3f154",
   "metadata": {},
   "source": [
    "### Filter"
   ]
  },
  {
   "cell_type": "markdown",
   "id": "f9ea6eae",
   "metadata": {},
   "source": [
    "1. Easy: Use the filter function to get all even numbers from a list.\n",
    "#### Input: [1, 2, 3, 4, 5, 6]\n",
    "#### Output: [2, 4, 6]\n"
   ]
  },
  {
   "cell_type": "code",
   "execution_count": 5,
   "id": "4514dbe3",
   "metadata": {},
   "outputs": [
    {
     "name": "stdout",
     "output_type": "stream",
     "text": [
      "[2, 4, 6]\n"
     ]
    }
   ],
   "source": [
    "x = [1,2,3,4,5,6]\n",
    "y = lambda x:x%2==0\n",
    "z = filter(y,x)\n",
    "print(list(z))"
   ]
  },
  {
   "cell_type": "markdown",
   "id": "93331075",
   "metadata": {},
   "source": [
    "2. Medium: Use the filter function to get all words from a list that start with the letter 'b'.\n",
    "#### Input: ['apple', 'banana', 'cherry', 'blueberry', 'date']\n",
    "#### Output: ['banana', 'blueberry']\n"
   ]
  },
  {
   "cell_type": "code",
   "execution_count": 6,
   "id": "94a78e55",
   "metadata": {},
   "outputs": [
    {
     "name": "stdout",
     "output_type": "stream",
     "text": [
      "['banana', 'blueberry']\n"
     ]
    }
   ],
   "source": [
    "l = ['apple','banana','cherry','blueberry','date']\n",
    "y = lambda x:x.startswith('b')\n",
    "z = filter(y,l)\n",
    "print(list(z))"
   ]
  },
  {
   "cell_type": "markdown",
   "id": "d0c7336e",
   "metadata": {},
   "source": [
    "### Function"
   ]
  },
  {
   "cell_type": "markdown",
   "id": "fb1dfcbd",
   "metadata": {},
   "source": [
    "1. Easy: Write a function called add that takes two numbers as input and returns their sum.\n",
    "#### Input: add(3, 4)\n",
    "#### Output: 7"
   ]
  },
  {
   "cell_type": "code",
   "execution_count": 1,
   "id": "e7cd4fbf",
   "metadata": {},
   "outputs": [
    {
     "name": "stdout",
     "output_type": "stream",
     "text": [
      "7\n"
     ]
    }
   ],
   "source": [
    "def add(a,b):\n",
    "    \n",
    "    print(a + b)\n",
    "    \n",
    "add(3,4)"
   ]
  },
  {
   "cell_type": "markdown",
   "id": "1cc9601e",
   "metadata": {},
   "source": [
    "2.Medium: Write a function called calculate_average that takes a list of numbers as input and returns the average (mean) of those numbers.\n",
    "#### Input: calculate_average([1, 2, 3, 4, 5])\n",
    "#### Output: 3.0"
   ]
  },
  {
   "cell_type": "code",
   "execution_count": 11,
   "id": "9c420626",
   "metadata": {},
   "outputs": [
    {
     "name": "stdout",
     "output_type": "stream",
     "text": [
      "3.0\n"
     ]
    }
   ],
   "source": [
    "def cal_avg(a):\n",
    "    x = sum(a)/len(a)\n",
    "    print(x)\n",
    "    \n",
    "cal_avg([1,2,3,4,5])"
   ]
  },
  {
   "cell_type": "code",
   "execution_count": null,
   "id": "ec3858a6",
   "metadata": {},
   "outputs": [],
   "source": []
  }
 ],
 "metadata": {
  "kernelspec": {
   "display_name": "Python 3 (ipykernel)",
   "language": "python",
   "name": "python3"
  },
  "language_info": {
   "codemirror_mode": {
    "name": "ipython",
    "version": 3
   },
   "file_extension": ".py",
   "mimetype": "text/x-python",
   "name": "python",
   "nbconvert_exporter": "python",
   "pygments_lexer": "ipython3",
   "version": "3.11.3"
  }
 },
 "nbformat": 4,
 "nbformat_minor": 5
}
