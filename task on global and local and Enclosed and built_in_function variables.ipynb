{
 "cells": [
  {
   "cell_type": "markdown",
   "id": "0e9a45fe",
   "metadata": {},
   "source": [
    "![](https://miro.medium.com/v2/resize:fit:640/format:webp/1*wGUTYH3Bv2LJ9_bEIACffw.jpeg)"
   ]
  },
  {
   "cell_type": "markdown",
   "id": "96f78ac5",
   "metadata": {},
   "source": [
    "## Local variable\n",
    "    * In Python, a local variable is a variable that is defined within a specific function or code block and is only accessible within that function or block. \n",
    "    \n",
    "    * Local variables have a limited scope, and they are created when the function or code block is executed and destroyed when it exits.\n",
    "\n"
   ]
  },
  {
   "cell_type": "code",
   "execution_count": 1,
   "id": "1dc43cff",
   "metadata": {},
   "outputs": [],
   "source": [
    "def add():\n",
    "    l=[] \n",
    "    sum = 0\n",
    "    for i in range(1,5):\n",
    "        l.append(i)\n",
    "        sum+=i\n",
    "    print(sum)"
   ]
  },
  {
   "cell_type": "code",
   "execution_count": 2,
   "id": "82135903",
   "metadata": {},
   "outputs": [
    {
     "name": "stdout",
     "output_type": "stream",
     "text": [
      "10\n"
     ]
    }
   ],
   "source": [
    "add()"
   ]
  },
  {
   "cell_type": "markdown",
   "id": "e196dd39",
   "metadata": {},
   "source": [
    "## Enclosed variable\n",
    "    * Enclosed variables in Python are variables that are defined in an outer or enclosing function and can be accessed and used by an inner function.\n",
    "    \n",
    "    * This scope contains the names that you define in the enclosing function.\n",
    "\n",
    "\n"
   ]
  },
  {
   "cell_type": "code",
   "execution_count": 15,
   "id": "1789464b",
   "metadata": {},
   "outputs": [
    {
     "name": "stdout",
     "output_type": "stream",
     "text": [
      "nazriya\n",
      "kiran\n"
     ]
    }
   ],
   "source": [
    "def parent():\n",
    "    parent_name = \"nazriya\" # enclosed\n",
    "    def child():\n",
    "        child_name = \"kiran\"  # local    \n",
    "        print(f'{parent_name}')\n",
    "        print(f'{child_name}')\n",
    "    child()\n",
    "parent()  "
   ]
  },
  {
   "cell_type": "markdown",
   "id": "22baa217",
   "metadata": {},
   "source": [
    "## Global Variable\n",
    "    * A global variable in Python is often declared as the top of the program.\n",
    "    \n",
    "    * In other words, variables that are declared outside of a function are known as global variables.\n",
    "    \n",
    "    * You can access global variables in Python both inside and outside the function."
   ]
  },
  {
   "cell_type": "code",
   "execution_count": 16,
   "id": "2786f11d",
   "metadata": {},
   "outputs": [
    {
     "name": "stdout",
     "output_type": "stream",
     "text": [
      "value of x within the fun is [1, 2, 3, 4, 5]\n"
     ]
    }
   ],
   "source": [
    "x = [1,2,3] # global\n",
    "def foo():\n",
    "    x.extend([4,5])\n",
    "    print(f'value of x within the fun is {x}')\n",
    "    \n",
    "foo()\n",
    "#print(x)"
   ]
  },
  {
   "cell_type": "code",
   "execution_count": 17,
   "id": "6b456b4e",
   "metadata": {},
   "outputs": [
    {
     "data": {
      "text/plain": [
       "[1, 2, 3, 4, 5]"
      ]
     },
     "execution_count": 17,
     "metadata": {},
     "output_type": "execute_result"
    }
   ],
   "source": [
    "x"
   ]
  },
  {
   "cell_type": "markdown",
   "id": "72641d55",
   "metadata": {},
   "source": [
    "## Built in Function\n",
    "\n",
    "        * When the variable or object is not found in local, global or enclosing scope, then Python starts looking for it in the built-in scope.\n",
    "    \n",
    "    "
   ]
  },
  {
   "cell_type": "code",
   "execution_count": 20,
   "id": "f8e0a360",
   "metadata": {},
   "outputs": [
    {
     "name": "stdout",
     "output_type": "stream",
     "text": [
      "<class 'int'>\n"
     ]
    }
   ],
   "source": [
    "def built_in():\n",
    "    x = int\n",
    "    print(f'{x}') # built in\n",
    "    \n",
    "built_in()"
   ]
  },
  {
   "cell_type": "markdown",
   "id": "3fad1aba",
   "metadata": {},
   "source": [
    "## All are in One function\n"
   ]
  },
  {
   "cell_type": "code",
   "execution_count": 25,
   "id": "642e381f",
   "metadata": {},
   "outputs": [],
   "source": [
    "first_name = 'jagadish'    #global\n",
    "def var():\n",
    "    last_name = 'vungarala'   #enclosed\n",
    "    def va():\n",
    "        wish = 'Holla'  #local\n",
    "        print(f'{wish} is taken from the local first')\n",
    "    va()\n",
    "    print(f'{last_name} is taken from the enclosed second')\n",
    "    print(str) #builti"
   ]
  },
  {
   "cell_type": "code",
   "execution_count": 26,
   "id": "c3a61eff",
   "metadata": {},
   "outputs": [
    {
     "name": "stdout",
     "output_type": "stream",
     "text": [
      "Holla is taken from the local first\n",
      "vungarala is taken from the enclosed second\n",
      "<class 'str'>\n"
     ]
    }
   ],
   "source": [
    "var()"
   ]
  },
  {
   "cell_type": "code",
   "execution_count": 27,
   "id": "20a84275",
   "metadata": {},
   "outputs": [
    {
     "name": "stdout",
     "output_type": "stream",
     "text": [
      "jagadish is taken from the global\n"
     ]
    }
   ],
   "source": [
    "print(f'{first_name} is taken from the global')\n"
   ]
  },
  {
   "cell_type": "code",
   "execution_count": null,
   "id": "702cd429",
   "metadata": {},
   "outputs": [],
   "source": []
  }
 ],
 "metadata": {
  "kernelspec": {
   "display_name": "Python 3 (ipykernel)",
   "language": "python",
   "name": "python3"
  },
  "language_info": {
   "codemirror_mode": {
    "name": "ipython",
    "version": 3
   },
   "file_extension": ".py",
   "mimetype": "text/x-python",
   "name": "python",
   "nbconvert_exporter": "python",
   "pygments_lexer": "ipython3",
   "version": "3.11.3"
  }
 },
 "nbformat": 4,
 "nbformat_minor": 5
}
