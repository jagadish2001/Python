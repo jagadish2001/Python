{
 "cells": [
  {
   "cell_type": "markdown",
   "id": "29fab263",
   "metadata": {},
   "source": [
    "# Strings\n",
    "\n",
    "    . String is a sequential data type.\n",
    "\n",
    "    . Strings are surrounded by either single qoutes, double qoutes, triple double qoutes.\n",
    "\n",
    "    . String is an immutable data type, meaning that once you have created a string, you cannot change it.\n",
    "\n"
   ]
  },
  {
   "cell_type": "code",
   "execution_count": 2,
   "id": "9b717266",
   "metadata": {},
   "outputs": [
    {
     "name": "stdout",
     "output_type": "stream",
     "text": [
      "this is a string enclosed in a single qoute\n",
      "this is a string enclosed in a double qoute\n",
      "this is a multi-line string, enclosed in a triple single qoute\n"
     ]
    }
   ],
   "source": [
    "s1='this is a string enclosed in a single qoute'\n",
    "s2=\"this is a string enclosed in a double qoute\"\n",
    "s3='''this is a multi-line string, enclosed in a triple single qoute'''\n",
    "print(s1,s2,s3,sep='\\n')"
   ]
  },
  {
   "cell_type": "markdown",
   "id": "193413d3",
   "metadata": {},
   "source": [
    "## Methods in String"
   ]
  },
  {
   "cell_type": "markdown",
   "id": "30d6d8f0",
   "metadata": {},
   "source": [
    "### Uppercase() \n",
    "    . uppercase method is return a copy of the string and converted to uppercase\n"
   ]
  },
  {
   "cell_type": "code",
   "execution_count": 1,
   "id": "ae80353e",
   "metadata": {},
   "outputs": [
    {
     "name": "stdout",
     "output_type": "stream",
     "text": [
      "Im An Indian\n",
      "IM AN INDIAN\n"
     ]
    }
   ],
   "source": [
    "str1 = \"Im An Indian\"\n",
    "\n",
    "str2 = \"Im An Indian\"\n",
    "print(str1,str2.upper(),sep=\"\\n\")"
   ]
  },
  {
   "cell_type": "code",
   "execution_count": 2,
   "id": "16e70b53",
   "metadata": {},
   "outputs": [
    {
     "name": "stdout",
     "output_type": "stream",
     "text": [
      "Help on built-in function upper:\n",
      "\n",
      "upper() method of builtins.str instance\n",
      "    Return a copy of the string converted to uppercase.\n",
      "\n"
     ]
    }
   ],
   "source": [
    "help(str1.upper)"
   ]
  },
  {
   "cell_type": "markdown",
   "id": "7dba42a0",
   "metadata": {},
   "source": [
    "### lowercase() \n",
    "     . lowercase method is return a copy of the string and converted to uppercase\n"
   ]
  },
  {
   "cell_type": "code",
   "execution_count": 3,
   "id": "b30a2e5e",
   "metadata": {},
   "outputs": [
    {
     "name": "stdout",
     "output_type": "stream",
     "text": [
      "Im An Indian\n",
      "im an indian\n"
     ]
    }
   ],
   "source": [
    "str1 = \"Im An Indian\"\n",
    "\n",
    "str2 = \"Im An Indian\"\n",
    "print(str1,str2.lower(),sep=\"\\n\")"
   ]
  },
  {
   "cell_type": "code",
   "execution_count": 4,
   "id": "29520f94",
   "metadata": {},
   "outputs": [
    {
     "name": "stdout",
     "output_type": "stream",
     "text": [
      "Help on built-in function lower:\n",
      "\n",
      "lower() method of builtins.str instance\n",
      "    Return a copy of the string converted to lowercase.\n",
      "\n"
     ]
    }
   ],
   "source": [
    "help(str1.lower)"
   ]
  },
  {
   "cell_type": "markdown",
   "id": "79cbc74d",
   "metadata": {},
   "source": [
    "### Title() \n",
    "    . words start with uppercased characters and all remaining cased characters have lower case.\n"
   ]
  },
  {
   "cell_type": "code",
   "execution_count": 5,
   "id": "020c520c",
   "metadata": {},
   "outputs": [
    {
     "name": "stdout",
     "output_type": "stream",
     "text": [
      "im an indian\n",
      "Im An Indian\n"
     ]
    }
   ],
   "source": [
    "str1 = \"im an indian\"\n",
    "\n",
    "str2 = \"Im An Indian\"\n",
    "print(str1,str2.title(),sep=\"\\n\")"
   ]
  },
  {
   "cell_type": "code",
   "execution_count": 6,
   "id": "ea744f95",
   "metadata": {},
   "outputs": [
    {
     "name": "stdout",
     "output_type": "stream",
     "text": [
      "Help on built-in function title:\n",
      "\n",
      "title() method of builtins.str instance\n",
      "    Return a version of the string where each word is titlecased.\n",
      "    \n",
      "    More specifically, words start with uppercased characters and all remaining\n",
      "    cased characters have lower case.\n",
      "\n"
     ]
    }
   ],
   "source": [
    "help(str1.title)"
   ]
  },
  {
   "cell_type": "markdown",
   "id": "f004bca7",
   "metadata": {},
   "source": [
    "### Capitalize() \n",
    "    . the first character have upper case and the rest lowercase\n"
   ]
  },
  {
   "cell_type": "code",
   "execution_count": 7,
   "id": "ee7c5966",
   "metadata": {},
   "outputs": [
    {
     "name": "stdout",
     "output_type": "stream",
     "text": [
      "Im An Indian\n",
      "Im an indian\n"
     ]
    }
   ],
   "source": [
    "str1 = \"Im An Indian\"\n",
    "\n",
    "str2 = \"Im An Indian\"\n",
    "print(str1,str2.capitalize(),sep=\"\\n\")"
   ]
  },
  {
   "cell_type": "code",
   "execution_count": 8,
   "id": "e4fbc60e",
   "metadata": {},
   "outputs": [
    {
     "name": "stdout",
     "output_type": "stream",
     "text": [
      "Help on built-in function capitalize:\n",
      "\n",
      "capitalize() method of builtins.str instance\n",
      "    Return a capitalized version of the string.\n",
      "    \n",
      "    More specifically, make the first character have upper case and the rest lower\n",
      "    case.\n",
      "\n"
     ]
    }
   ],
   "source": [
    "help(str1.capitalize)"
   ]
  },
  {
   "cell_type": "markdown",
   "id": "3f24bc50",
   "metadata": {},
   "source": [
    "### Swapcase() \n",
    "    . Convert uppercase characters to lowercase and lowercase characters to uppercase."
   ]
  },
  {
   "cell_type": "code",
   "execution_count": 9,
   "id": "3fd64481",
   "metadata": {},
   "outputs": [
    {
     "name": "stdout",
     "output_type": "stream",
     "text": [
      "Im An Indian\n",
      "iM aN iNDIAN\n"
     ]
    }
   ],
   "source": [
    "str1 = \"Im An Indian\"\n",
    "\n",
    "str2 = \"Im An Indian\"\n",
    "print(str1,str2.swapcase(),sep=\"\\n\")"
   ]
  },
  {
   "cell_type": "code",
   "execution_count": 10,
   "id": "fe9746f0",
   "metadata": {},
   "outputs": [
    {
     "name": "stdout",
     "output_type": "stream",
     "text": [
      "Help on built-in function swapcase:\n",
      "\n",
      "swapcase() method of builtins.str instance\n",
      "    Convert uppercase characters to lowercase and lowercase characters to uppercase.\n",
      "\n"
     ]
    }
   ],
   "source": [
    "help(str1.swapcase)"
   ]
  },
  {
   "cell_type": "markdown",
   "id": "62430966",
   "metadata": {},
   "source": [
    "### Casefold() \n",
    "    . Return a version of the string suitable for caseless comparisons."
   ]
  },
  {
   "cell_type": "code",
   "execution_count": 11,
   "id": "d8308d9a",
   "metadata": {},
   "outputs": [
    {
     "name": "stdout",
     "output_type": "stream",
     "text": [
      "Im An Indian\n",
      "ss im an indian\n"
     ]
    }
   ],
   "source": [
    "str1 = \"Im An Indian\"\n",
    "\n",
    "str2 = \"ß Im An Indian\"\n",
    "print(str1,str2.casefold(),sep=\"\\n\")"
   ]
  },
  {
   "cell_type": "code",
   "execution_count": 12,
   "id": "1420f769",
   "metadata": {},
   "outputs": [
    {
     "name": "stdout",
     "output_type": "stream",
     "text": [
      "Help on built-in function casefold:\n",
      "\n",
      "casefold() method of builtins.str instance\n",
      "    Return a version of the string suitable for caseless comparisons.\n",
      "\n"
     ]
    }
   ],
   "source": [
    "help(str1.casefold)"
   ]
  },
  {
   "cell_type": "markdown",
   "id": "ec252822",
   "metadata": {},
   "source": [
    "### Find()  \n",
    "    . The find method finds the first occurence of the specified value.\n",
    "    . if the value is not found it returns -1"
   ]
  },
  {
   "cell_type": "code",
   "execution_count": 15,
   "id": "baed3da6",
   "metadata": {},
   "outputs": [
    {
     "data": {
      "text/plain": [
       "4"
      ]
     },
     "execution_count": 15,
     "metadata": {},
     "output_type": "execute_result"
    }
   ],
   "source": [
    "mess = \"All I want is a proper cup of coffee.Made in a proper copper coffee pot.You can believe it or not\"\n",
    "mess.find(\"I\")"
   ]
  },
  {
   "cell_type": "code",
   "execution_count": 17,
   "id": "ca8c7aca",
   "metadata": {},
   "outputs": [
    {
     "data": {
      "text/plain": [
       "76"
      ]
     },
     "execution_count": 17,
     "metadata": {},
     "output_type": "execute_result"
    }
   ],
   "source": [
    "mess = \"All I want is a proper cup of coffee.Made in a proper copper coffee pot.You can believe it or not\"\n",
    "mess.rfind(\"can\")"
   ]
  },
  {
   "cell_type": "code",
   "execution_count": 18,
   "id": "541be4c9",
   "metadata": {},
   "outputs": [
    {
     "name": "stdout",
     "output_type": "stream",
     "text": [
      "Help on built-in function find:\n",
      "\n",
      "find(...) method of builtins.str instance\n",
      "    S.find(sub[, start[, end]]) -> int\n",
      "    \n",
      "    Return the lowest index in S where substring sub is found,\n",
      "    such that sub is contained within S[start:end].  Optional\n",
      "    arguments start and end are interpreted as in slice notation.\n",
      "    \n",
      "    Return -1 on failure.\n",
      "\n"
     ]
    }
   ],
   "source": [
    "help(mess.find)"
   ]
  },
  {
   "cell_type": "markdown",
   "id": "5109d5f4",
   "metadata": {},
   "source": [
    "### index() \n",
    "    . The index method finds the first occurence of the specified value.\n",
    "    . if the value is not found it returns -1"
   ]
  },
  {
   "cell_type": "code",
   "execution_count": 19,
   "id": "a6a881fe",
   "metadata": {},
   "outputs": [
    {
     "data": {
      "text/plain": [
       "7"
      ]
     },
     "execution_count": 19,
     "metadata": {},
     "output_type": "execute_result"
    }
   ],
   "source": [
    "mess = \"All I want is a proper cup of coffee.Made in a proper copper coffee pot.You can believe it or not\"\n",
    "mess.index(\"a\")"
   ]
  },
  {
   "cell_type": "code",
   "execution_count": 20,
   "id": "67d99687",
   "metadata": {},
   "outputs": [
    {
     "data": {
      "text/plain": [
       "77"
      ]
     },
     "execution_count": 20,
     "metadata": {},
     "output_type": "execute_result"
    }
   ],
   "source": [
    "mess = \"All I want is a proper cup of coffee.Made in a proper copper coffee pot.You can believe it or not\"\n",
    "mess.rindex(\"a\")"
   ]
  },
  {
   "cell_type": "code",
   "execution_count": 21,
   "id": "9f7fb3fc",
   "metadata": {},
   "outputs": [
    {
     "name": "stdout",
     "output_type": "stream",
     "text": [
      "Help on built-in function index:\n",
      "\n",
      "index(...) method of builtins.str instance\n",
      "    S.index(sub[, start[, end]]) -> int\n",
      "    \n",
      "    Return the lowest index in S where substring sub is found,\n",
      "    such that sub is contained within S[start:end].  Optional\n",
      "    arguments start and end are interpreted as in slice notation.\n",
      "    \n",
      "    Raises ValueError when the substring is not found.\n",
      "\n"
     ]
    }
   ],
   "source": [
    "help(mess.index)"
   ]
  },
  {
   "cell_type": "markdown",
   "id": "36c30e91",
   "metadata": {},
   "source": [
    "### Replace() \n",
    "    . The replace method replaces a specified phrase with another specified pharse.\n"
   ]
  },
  {
   "cell_type": "code",
   "execution_count": 22,
   "id": "3aa95e5e",
   "metadata": {},
   "outputs": [
    {
     "name": "stdout",
     "output_type": "stream",
     "text": [
      "orange,interstellar,sakhi\n"
     ]
    }
   ],
   "source": [
    "mess = \"orange,kushi,sakhi\"\n",
    "print(mess.replace(\"kushi\", \"interstellar\"))"
   ]
  },
  {
   "cell_type": "code",
   "execution_count": 23,
   "id": "f0c7f222",
   "metadata": {},
   "outputs": [
    {
     "name": "stdout",
     "output_type": "stream",
     "text": [
      "Help on built-in function replace:\n",
      "\n",
      "replace(old, new, count=-1, /) method of builtins.str instance\n",
      "    Return a copy with all occurrences of substring old replaced by new.\n",
      "    \n",
      "      count\n",
      "        Maximum number of occurrences to replace.\n",
      "        -1 (the default value) means replace all occurrences.\n",
      "    \n",
      "    If the optional argument count is given, only the first count occurrences are\n",
      "    replaced.\n",
      "\n"
     ]
    }
   ],
   "source": [
    "help(mess.replace)"
   ]
  },
  {
   "cell_type": "markdown",
   "id": "f791deee",
   "metadata": {},
   "source": [
    "### Splitlines()\n",
    "    . str instance Return a list of the lines in the string, breaking at line boundaries.\n",
    "    . Return a list of the lines in the string, breaking at line boundaries"
   ]
  },
  {
   "cell_type": "code",
   "execution_count": 17,
   "id": "255a682b",
   "metadata": {},
   "outputs": [
    {
     "data": {
      "text/plain": [
       "['jaga vungarala']"
      ]
     },
     "execution_count": 17,
     "metadata": {},
     "output_type": "execute_result"
    }
   ],
   "source": [
    "mess = \"jaga vungarala\"\n",
    "mess.splitlines()"
   ]
  },
  {
   "cell_type": "code",
   "execution_count": 15,
   "id": "3c2aa641",
   "metadata": {},
   "outputs": [
    {
     "name": "stdout",
     "output_type": "stream",
     "text": [
      "Help on built-in function splitlines:\n",
      "\n",
      "splitlines(keepends=False) method of builtins.str instance\n",
      "    Return a list of the lines in the string, breaking at line boundaries.\n",
      "    \n",
      "    Line breaks are not included in the resulting list unless keepends is given and\n",
      "    true.\n",
      "\n"
     ]
    }
   ],
   "source": [
    "help(mess.splitlines)"
   ]
  },
  {
   "cell_type": "markdown",
   "id": "22b6e8ca",
   "metadata": {},
   "source": [
    "### Split() \n",
    "    . split() method splits a string into a list"
   ]
  },
  {
   "cell_type": "code",
   "execution_count": 24,
   "id": "d1ba6deb",
   "metadata": {},
   "outputs": [
    {
     "name": "stdout",
     "output_type": "stream",
     "text": [
      "['All I want is a proper cup of coffee', ' Made in a proper copper coffee pot', ' You can believe it or not']\n"
     ]
    }
   ],
   "source": [
    "mess = \"All I want is a proper cup of coffee, Made in a proper copper coffee pot, You can believe it or not\"\n",
    "y = mess.split(\",\")\n",
    "print(y)"
   ]
  },
  {
   "cell_type": "code",
   "execution_count": 25,
   "id": "4997ceaf",
   "metadata": {},
   "outputs": [
    {
     "name": "stdout",
     "output_type": "stream",
     "text": [
      "Help on built-in function split:\n",
      "\n",
      "split(sep=None, maxsplit=-1) method of builtins.str instance\n",
      "    Return a list of the substrings in the string, using sep as the separator string.\n",
      "    \n",
      "      sep\n",
      "        The separator used to split the string.\n",
      "    \n",
      "        When set to None (the default value), will split on any whitespace\n",
      "        character (including \\\\n \\\\r \\\\t \\\\f and spaces) and will discard\n",
      "        empty strings from the result.\n",
      "      maxsplit\n",
      "        Maximum number of splits (starting from the left).\n",
      "        -1 (the default value) means no limit.\n",
      "    \n",
      "    Note, str.split() is mainly useful for data that has been intentionally\n",
      "    delimited.  With natural text that includes punctuation, consider using\n",
      "    the regular expression module.\n",
      "\n"
     ]
    }
   ],
   "source": [
    "help(mess.split)"
   ]
  },
  {
   "cell_type": "markdown",
   "id": "37e54329",
   "metadata": {},
   "source": [
    "### partition() \n",
    "    .The partition() method searches for a specified string, and splits the string into a tuple containing three elements.\n"
   ]
  },
  {
   "cell_type": "code",
   "execution_count": 26,
   "id": "17b1600d",
   "metadata": {},
   "outputs": [
    {
     "data": {
      "text/plain": [
       "('When I wakeup ', 'I eat bannanas', ' Daily')"
      ]
     },
     "execution_count": 26,
     "metadata": {},
     "output_type": "execute_result"
    }
   ],
   "source": [
    "mess = \"When I wakeup I eat bannanas Daily\"\n",
    "mess.partition(\"I eat bannanas\")"
   ]
  },
  {
   "cell_type": "code",
   "execution_count": 27,
   "id": "90c74c98",
   "metadata": {},
   "outputs": [
    {
     "data": {
      "text/plain": [
       "('When I wakeup I eat bannanas Daily', '', '')"
      ]
     },
     "execution_count": 27,
     "metadata": {},
     "output_type": "execute_result"
    }
   ],
   "source": [
    "mess = \"When I wakeup I eat bannanas Daily\"\n",
    "mess.partition(\"I eat Apple\")"
   ]
  },
  {
   "cell_type": "code",
   "execution_count": 19,
   "id": "85aae0cf",
   "metadata": {},
   "outputs": [
    {
     "name": "stdout",
     "output_type": "stream",
     "text": [
      "Help on built-in function partition:\n",
      "\n",
      "partition(sep, /) method of builtins.str instance\n",
      "    Partition the string into three parts using the given separator.\n",
      "    \n",
      "    This will search for the separator in the string.  If the separator is found,\n",
      "    returns a 3-tuple containing the part before the separator, the separator\n",
      "    itself, and the part after it.\n",
      "    \n",
      "    If the separator is not found, returns a 3-tuple containing the original string\n",
      "    and two empty strings.\n",
      "\n"
     ]
    }
   ],
   "source": [
    "help(mess.partition)"
   ]
  },
  {
   "cell_type": "markdown",
   "id": "d50ffa2c",
   "metadata": {},
   "source": [
    "### isalnum()\n",
    "    . if the string is alphabet and number came only, it will show true, otherwise false "
   ]
  },
  {
   "cell_type": "code",
   "execution_count": 3,
   "id": "df68909b",
   "metadata": {},
   "outputs": [
    {
     "data": {
      "text/plain": [
       "True"
      ]
     },
     "execution_count": 3,
     "metadata": {},
     "output_type": "execute_result"
    }
   ],
   "source": [
    "mess = \"123\"\n",
    "mess.isalnum()"
   ]
  },
  {
   "cell_type": "code",
   "execution_count": 2,
   "id": "793ec34c",
   "metadata": {},
   "outputs": [
    {
     "data": {
      "text/plain": [
       "True"
      ]
     },
     "execution_count": 2,
     "metadata": {},
     "output_type": "execute_result"
    }
   ],
   "source": [
    "mess = \"jagadish123\"\n",
    "mess.isalnum()"
   ]
  },
  {
   "cell_type": "code",
   "execution_count": 3,
   "id": "b5d495de",
   "metadata": {},
   "outputs": [
    {
     "data": {
      "text/plain": [
       "False"
      ]
     },
     "execution_count": 3,
     "metadata": {},
     "output_type": "execute_result"
    }
   ],
   "source": [
    "mess = \"@$\"\n",
    "mess.isalnum()"
   ]
  },
  {
   "cell_type": "code",
   "execution_count": 4,
   "id": "23a93f36",
   "metadata": {},
   "outputs": [
    {
     "name": "stdout",
     "output_type": "stream",
     "text": [
      "Help on built-in function isalnum:\n",
      "\n",
      "isalnum() method of builtins.str instance\n",
      "    Return True if the string is an alpha-numeric string, False otherwise.\n",
      "    \n",
      "    A string is alpha-numeric if all characters in the string are alpha-numeric and\n",
      "    there is at least one character in the string.\n",
      "\n"
     ]
    }
   ],
   "source": [
    "help(mess.isalnum)"
   ]
  },
  {
   "cell_type": "markdown",
   "id": "1da738b6",
   "metadata": {},
   "source": [
    "### isalpha()\n",
    "    . if the string is alphabet only came, and it will show true, otherwise false "
   ]
  },
  {
   "cell_type": "code",
   "execution_count": 5,
   "id": "7f1835e3",
   "metadata": {},
   "outputs": [
    {
     "data": {
      "text/plain": [
       "True"
      ]
     },
     "execution_count": 5,
     "metadata": {},
     "output_type": "execute_result"
    }
   ],
   "source": [
    "mess = \"jaga\"\n",
    "mess.isalpha()"
   ]
  },
  {
   "cell_type": "code",
   "execution_count": 4,
   "id": "09c32023",
   "metadata": {},
   "outputs": [
    {
     "data": {
      "text/plain": [
       "False"
      ]
     },
     "execution_count": 4,
     "metadata": {},
     "output_type": "execute_result"
    }
   ],
   "source": [
    "mess = \"54\"\n",
    "mess.isalpha()"
   ]
  },
  {
   "cell_type": "code",
   "execution_count": 6,
   "id": "77ad767e",
   "metadata": {},
   "outputs": [
    {
     "name": "stdout",
     "output_type": "stream",
     "text": [
      "Help on built-in function isalpha:\n",
      "\n",
      "isalpha() method of builtins.str instance\n",
      "    Return True if the string is an alphabetic string, False otherwise.\n",
      "    \n",
      "    A string is alphabetic if all characters in the string are alphabetic and there\n",
      "    is at least one character in the string.\n",
      "\n"
     ]
    }
   ],
   "source": [
    "help(mess.isalpha)"
   ]
  },
  {
   "cell_type": "markdown",
   "id": "adaa0cb1",
   "metadata": {},
   "source": [
    "### isascii() \n",
    "    . if the string is ascii values only came, and it will show true, otherwise false "
   ]
  },
  {
   "cell_type": "code",
   "execution_count": 12,
   "id": "772872ae",
   "metadata": {},
   "outputs": [
    {
     "name": "stdout",
     "output_type": "stream",
     "text": [
      "True\n",
      "True\n",
      "True\n",
      "False\n"
     ]
    }
   ],
   "source": [
    "mess = \"a\"\n",
    "print(mess.isascii())\n",
    "\n",
    "mess = \"A\"\n",
    "print(mess.isascii())\n",
    "\n",
    "mess = \"123\"\n",
    "print(mess.isascii())\n",
    "\n",
    "mess = \"ß\"\n",
    "print(mess.isascii())"
   ]
  },
  {
   "cell_type": "code",
   "execution_count": 14,
   "id": "a7337b82",
   "metadata": {},
   "outputs": [
    {
     "name": "stdout",
     "output_type": "stream",
     "text": [
      "Help on built-in function isascii:\n",
      "\n",
      "isascii() method of builtins.str instance\n",
      "    Return True if all characters in the string are ASCII, False otherwise.\n",
      "    \n",
      "    ASCII characters have code points in the range U+0000-U+007F.\n",
      "    Empty string is ASCII too.\n",
      "\n"
     ]
    }
   ],
   "source": [
    "help(mess.isascii)"
   ]
  },
  {
   "cell_type": "markdown",
   "id": "84f6cead",
   "metadata": {},
   "source": [
    "### Isdecimal()\n",
    "    . The isdecimal() method returns True if all the characters are decimals (0-9).\n"
   ]
  },
  {
   "cell_type": "code",
   "execution_count": 21,
   "id": "eedae48a",
   "metadata": {},
   "outputs": [
    {
     "data": {
      "text/plain": [
       "True"
      ]
     },
     "execution_count": 21,
     "metadata": {},
     "output_type": "execute_result"
    }
   ],
   "source": [
    "n = \"1\"\n",
    "n.isdecimal()"
   ]
  },
  {
   "cell_type": "code",
   "execution_count": 22,
   "id": "85413c67",
   "metadata": {},
   "outputs": [
    {
     "data": {
      "text/plain": [
       "False"
      ]
     },
     "execution_count": 22,
     "metadata": {},
     "output_type": "execute_result"
    }
   ],
   "source": [
    "n = \"a\"\n",
    "n.isdecimal()"
   ]
  },
  {
   "cell_type": "code",
   "execution_count": 24,
   "id": "e5a02fa6",
   "metadata": {},
   "outputs": [
    {
     "data": {
      "text/plain": [
       "True"
      ]
     },
     "execution_count": 24,
     "metadata": {},
     "output_type": "execute_result"
    }
   ],
   "source": [
    "n = \"1852\"\n",
    "n.isdecimal()"
   ]
  },
  {
   "cell_type": "code",
   "execution_count": 26,
   "id": "7216005a",
   "metadata": {},
   "outputs": [
    {
     "name": "stdout",
     "output_type": "stream",
     "text": [
      "Help on built-in function isdecimal:\n",
      "\n",
      "isdecimal() method of builtins.str instance\n",
      "    Return True if the string is a decimal string, False otherwise.\n",
      "    \n",
      "    A string is a decimal string if all characters in the string are decimal and\n",
      "    there is at least one character in the string.\n",
      "\n"
     ]
    }
   ],
   "source": [
    "help(n.isdecimal)"
   ]
  },
  {
   "cell_type": "markdown",
   "id": "82c3b7fd",
   "metadata": {},
   "source": [
    "### isdigit()\n",
    "    . isdigit() method returns True if all characters in a string are digits. If not, it returns False.\n"
   ]
  },
  {
   "cell_type": "code",
   "execution_count": 28,
   "id": "e03b5780",
   "metadata": {},
   "outputs": [
    {
     "name": "stdout",
     "output_type": "stream",
     "text": [
      "True\n"
     ]
    }
   ],
   "source": [
    "num = \"563\"\n",
    "num1 = num.isdigit()\n",
    "print(num1)"
   ]
  },
  {
   "cell_type": "code",
   "execution_count": 29,
   "id": "494e3e2d",
   "metadata": {},
   "outputs": [
    {
     "name": "stdout",
     "output_type": "stream",
     "text": [
      "False\n"
     ]
    }
   ],
   "source": [
    "num = \"def\"\n",
    "num1 = num.isdigit()\n",
    "print(num1)"
   ]
  },
  {
   "cell_type": "code",
   "execution_count": 30,
   "id": "8f039f8b",
   "metadata": {},
   "outputs": [
    {
     "name": "stdout",
     "output_type": "stream",
     "text": [
      "Help on built-in function isdigit:\n",
      "\n",
      "isdigit() method of builtins.str instance\n",
      "    Return True if the string is a digit string, False otherwise.\n",
      "    \n",
      "    A string is a digit string if all characters in the string are digits and there\n",
      "    is at least one character in the string.\n",
      "\n"
     ]
    }
   ],
   "source": [
    "help(num.isdigit)"
   ]
  },
  {
   "cell_type": "markdown",
   "id": "46ccf504",
   "metadata": {},
   "source": [
    "### isidentifier()\n",
    "    . The isidentifier() method returns True if the string is a valid identifier, otherwise False.\n",
    "\n"
   ]
  },
  {
   "cell_type": "code",
   "execution_count": 31,
   "id": "fa5b7358",
   "metadata": {},
   "outputs": [
    {
     "data": {
      "text/plain": [
       "True"
      ]
     },
     "execution_count": 31,
     "metadata": {},
     "output_type": "execute_result"
    }
   ],
   "source": [
    "s = \"class\"\n",
    "s.isidentifier()"
   ]
  },
  {
   "cell_type": "code",
   "execution_count": 32,
   "id": "30417020",
   "metadata": {},
   "outputs": [
    {
     "name": "stdout",
     "output_type": "stream",
     "text": [
      "Help on built-in function isidentifier:\n",
      "\n",
      "isidentifier() method of builtins.str instance\n",
      "    Return True if the string is a valid Python identifier, False otherwise.\n",
      "    \n",
      "    Call keyword.iskeyword(s) to test whether string s is a reserved identifier,\n",
      "    such as \"def\" or \"class\".\n",
      "\n"
     ]
    }
   ],
   "source": [
    "help(s.isidentifier)"
   ]
  },
  {
   "cell_type": "markdown",
   "id": "a7e120ab",
   "metadata": {},
   "source": [
    "### islower()\n",
    "    . The islower() method returns True if all the characters are in lower case, otherwise False.\n",
    "\n"
   ]
  },
  {
   "cell_type": "code",
   "execution_count": 34,
   "id": "630ec62a",
   "metadata": {},
   "outputs": [
    {
     "name": "stdout",
     "output_type": "stream",
     "text": [
      "False\n",
      "True\n"
     ]
    }
   ],
   "source": [
    "char1 = 'Vungarala Jagadeesh'\n",
    "char2 = 'vungarala jagadeesh'\n",
    "print(char1.islower())\n",
    "print(char2.islower())"
   ]
  },
  {
   "cell_type": "code",
   "execution_count": 35,
   "id": "b7193491",
   "metadata": {},
   "outputs": [
    {
     "name": "stdout",
     "output_type": "stream",
     "text": [
      "Help on built-in function islower:\n",
      "\n",
      "islower() method of builtins.str instance\n",
      "    Return True if the string is a lowercase string, False otherwise.\n",
      "    \n",
      "    A string is lowercase if all cased characters in the string are lowercase and\n",
      "    there is at least one cased character in the string.\n",
      "\n"
     ]
    }
   ],
   "source": [
    "help(char1.islower)"
   ]
  },
  {
   "cell_type": "markdown",
   "id": "346ee4d3",
   "metadata": {},
   "source": [
    "### isupper()\n",
    "    . The isupper() method returns True if all the characters are in upper case, otherwise False.\n"
   ]
  },
  {
   "cell_type": "code",
   "execution_count": 38,
   "id": "ba7c55f0",
   "metadata": {},
   "outputs": [
    {
     "name": "stdout",
     "output_type": "stream",
     "text": [
      "True\n"
     ]
    }
   ],
   "source": [
    "char='VUNGARALA JAGADEESH'\n",
    "char1=char.isupper()\n",
    "print(char1)"
   ]
  },
  {
   "cell_type": "code",
   "execution_count": 39,
   "id": "8f93af0f",
   "metadata": {},
   "outputs": [
    {
     "name": "stdout",
     "output_type": "stream",
     "text": [
      "Help on built-in function isupper:\n",
      "\n",
      "isupper() method of builtins.str instance\n",
      "    Return True if the string is an uppercase string, False otherwise.\n",
      "    \n",
      "    A string is uppercase if all cased characters in the string are uppercase and\n",
      "    there is at least one cased character in the string.\n",
      "\n"
     ]
    }
   ],
   "source": [
    "help(char.isupper)"
   ]
  },
  {
   "cell_type": "markdown",
   "id": "a1a0905e",
   "metadata": {},
   "source": [
    "### istitle()\n",
    "    . The istitle() method returns True if all words in a text start with a upper case letter, AND the rest of the word are lower case letters, otherwise False.\n"
   ]
  },
  {
   "cell_type": "code",
   "execution_count": 40,
   "id": "f1f05983",
   "metadata": {},
   "outputs": [
    {
     "data": {
      "text/plain": [
       "True"
      ]
     },
     "execution_count": 40,
     "metadata": {},
     "output_type": "execute_result"
    }
   ],
   "source": [
    "a = \"Stranger Things\"\n",
    "a.istitle()"
   ]
  },
  {
   "cell_type": "code",
   "execution_count": 42,
   "id": "57c00a8e",
   "metadata": {},
   "outputs": [
    {
     "data": {
      "text/plain": [
       "False"
      ]
     },
     "execution_count": 42,
     "metadata": {},
     "output_type": "execute_result"
    }
   ],
   "source": [
    "a = \"heros\"\n",
    "a.istitle()"
   ]
  },
  {
   "cell_type": "code",
   "execution_count": 43,
   "id": "93128d42",
   "metadata": {},
   "outputs": [
    {
     "name": "stdout",
     "output_type": "stream",
     "text": [
      "Help on built-in function istitle:\n",
      "\n",
      "istitle() method of builtins.str instance\n",
      "    Return True if the string is a title-cased string, False otherwise.\n",
      "    \n",
      "    In a title-cased string, upper- and title-case characters may only\n",
      "    follow uncased characters and lowercase characters only cased ones.\n",
      "\n"
     ]
    }
   ],
   "source": [
    "help(a.istitle)"
   ]
  },
  {
   "cell_type": "markdown",
   "id": "f0a166e5",
   "metadata": {},
   "source": [
    "### isspace()\n",
    "    . The isspace() method returns True if all the characters in a string are whitespaces, otherwise False.\n"
   ]
  },
  {
   "cell_type": "code",
   "execution_count": 46,
   "id": "4eb6821e",
   "metadata": {},
   "outputs": [
    {
     "data": {
      "text/plain": [
       "False"
      ]
     },
     "execution_count": 46,
     "metadata": {},
     "output_type": "execute_result"
    }
   ],
   "source": [
    "a = \"jaga vung\"\n",
    "a.isspace()"
   ]
  },
  {
   "cell_type": "code",
   "execution_count": 48,
   "id": "1475ae98",
   "metadata": {},
   "outputs": [
    {
     "data": {
      "text/plain": [
       "True"
      ]
     },
     "execution_count": 48,
     "metadata": {},
     "output_type": "execute_result"
    }
   ],
   "source": [
    "a = \" \"\n",
    "a.isspace()"
   ]
  },
  {
   "cell_type": "code",
   "execution_count": 44,
   "id": "58a0580e",
   "metadata": {},
   "outputs": [
    {
     "name": "stdout",
     "output_type": "stream",
     "text": [
      "Help on built-in function isspace:\n",
      "\n",
      "isspace() method of builtins.str instance\n",
      "    Return True if the string is a whitespace string, False otherwise.\n",
      "    \n",
      "    A string is whitespace if all characters in the string are whitespace and there\n",
      "    is at least one character in the string.\n",
      "\n"
     ]
    }
   ],
   "source": [
    "help(a.isspace)"
   ]
  },
  {
   "cell_type": "code",
   "execution_count": null,
   "id": "17c13be6",
   "metadata": {},
   "outputs": [],
   "source": []
  }
 ],
 "metadata": {
  "kernelspec": {
   "display_name": "Python 3 (ipykernel)",
   "language": "python",
   "name": "python3"
  },
  "language_info": {
   "codemirror_mode": {
    "name": "ipython",
    "version": 3
   },
   "file_extension": ".py",
   "mimetype": "text/x-python",
   "name": "python",
   "nbconvert_exporter": "python",
   "pygments_lexer": "ipython3",
   "version": "3.11.3"
  }
 },
 "nbformat": 4,
 "nbformat_minor": 5
}
