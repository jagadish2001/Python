{
 "cells": [
  {
   "cell_type": "code",
   "execution_count": 1,
   "id": "28839f79",
   "metadata": {},
   "outputs": [
    {
     "name": "stdout",
     "output_type": "stream",
     "text": [
      "1.0 <class 'float'>\n",
      "4.0 <class 'float'>\n"
     ]
    }
   ],
   "source": [
    "# Type casting ---> changing the values type\n",
    "\n",
    "x = 1.0\n",
    "print(x,type(x))\n",
    "\n",
    "int(x)\n",
    "\n",
    "x=\"4\"\n",
    "x = float(x)\n",
    "print(x,type(x))"
   ]
  },
  {
   "cell_type": "code",
   "execution_count": 2,
   "id": "f10cc251",
   "metadata": {},
   "outputs": [
    {
     "name": "stdout",
     "output_type": "stream",
     "text": [
      "(2+3j) <class 'complex'>\n"
     ]
    },
    {
     "data": {
      "text/plain": [
       "(2.0, 3.0)"
      ]
     },
     "execution_count": 2,
     "metadata": {},
     "output_type": "execute_result"
    }
   ],
   "source": [
    "x = 2+3j\n",
    "print(x,type(x))\n",
    "\n",
    "# x = int(x) #uncomment to see the code\n",
    "\n",
    "x.real,x.imag"
   ]
  },
  {
   "cell_type": "code",
   "execution_count": 3,
   "id": "6be11c39",
   "metadata": {},
   "outputs": [
    {
     "name": "stdout",
     "output_type": "stream",
     "text": [
      "5 <class 'int'>\n",
      "0b101 <class 'str'>\n",
      "5 <class 'int'>\n",
      "0o5 <class 'str'>\n",
      "5 <class 'int'>\n",
      "0x5 <class 'str'>\n"
     ]
    }
   ],
   "source": [
    "# bin(),oct(),hex()\n",
    "\n",
    "x = 5\n",
    "print(x,type(x))\n",
    "\n",
    "x = bin(x)\n",
    "print(x,type(x))\n",
    "\n",
    "x = 5\n",
    "print(x,type(x))\n",
    "\n",
    "x = oct(x)\n",
    "print(x,type(x))\n",
    "\n",
    "x = 5\n",
    "print(x,type(x))\n",
    "\n",
    "x = hex(x)\n",
    "print(x,type(x))"
   ]
  },
  {
   "cell_type": "markdown",
   "id": "7d00f961",
   "metadata": {},
   "source": [
    "\"\"\"\"\n",
    "x = \"5\"\n",
    "x = bin(x)\n",
    "print(x,type(x))\n",
    "\"\"\"\" \n",
    "    #uncomment see the error"
   ]
  },
  {
   "cell_type": "code",
   "execution_count": 4,
   "id": "b39c0213",
   "metadata": {},
   "outputs": [
    {
     "name": "stdout",
     "output_type": "stream",
     "text": [
      "5 <class 'int'>\n",
      "0o5 <class 'str'>\n"
     ]
    }
   ],
   "source": [
    "x = 5\n",
    "print(x,type(x))\n",
    "\n",
    "x = oct(x)\n",
    "print(x,type(x))"
   ]
  },
  {
   "cell_type": "code",
   "execution_count": 5,
   "id": "c3ca096a",
   "metadata": {},
   "outputs": [
    {
     "name": "stdout",
     "output_type": "stream",
     "text": [
      "0b1010 <class 'str'>\n",
      "10 10\n"
     ]
    }
   ],
   "source": [
    "a = 10\n",
    "a = bin(a)\n",
    "print(a,type(a))\n",
    "print(int('0b1010',0),int('01010',2))"
   ]
  },
  {
   "cell_type": "code",
   "execution_count": 6,
   "id": "3719ab85",
   "metadata": {},
   "outputs": [
    {
     "name": "stdout",
     "output_type": "stream",
     "text": [
      "0o4 <class 'str'>\n",
      "4 4\n"
     ]
    }
   ],
   "source": [
    "a = 4\n",
    "a = oct(a)\n",
    "print(a,type(a))\n",
    "print(int('0o4',0),int('04',8))"
   ]
  },
  {
   "cell_type": "code",
   "execution_count": 7,
   "id": "e3181cf9",
   "metadata": {},
   "outputs": [
    {
     "name": "stdout",
     "output_type": "stream",
     "text": [
      "0x4\n"
     ]
    }
   ],
   "source": [
    "a = 4\n",
    "a = hex(a)\n",
    "print(a)\n",
    "#print(int('0x4',0),int('04',18))"
   ]
  },
  {
   "cell_type": "code",
   "execution_count": 8,
   "id": "170c50fb",
   "metadata": {},
   "outputs": [
    {
     "name": "stdout",
     "output_type": "stream",
     "text": [
      "Hi\n"
     ]
    }
   ],
   "source": [
    "# Slicing \n",
    "# x[starting_index : ending_index : step]\n",
    "# positive slicing\n",
    "\n",
    "Text = \"Hie\"\n",
    "print(Text[0:2])"
   ]
  },
  {
   "cell_type": "code",
   "execution_count": 9,
   "id": "667535f3",
   "metadata": {},
   "outputs": [
    {
     "name": "stdout",
     "output_type": "stream",
     "text": [
      "Jagadeesh\n",
      "<class 'str'>\n"
     ]
    },
    {
     "data": {
      "text/plain": [
       "19"
      ]
     },
     "execution_count": 9,
     "metadata": {},
     "output_type": "execute_result"
    }
   ],
   "source": [
    "Name = \"Vungarala Jagadeesh\"\n",
    "\n",
    "print(Name[10: :1])\n",
    "\n",
    "print(type(Name))\n",
    "\n",
    "len(Name)"
   ]
  },
  {
   "cell_type": "code",
   "execution_count": 10,
   "id": "79e74e23",
   "metadata": {},
   "outputs": [
    {
     "name": "stdout",
     "output_type": "stream",
     "text": [
      "rala\n",
      "<class 'str'>\n"
     ]
    },
    {
     "data": {
      "text/plain": [
       "10"
      ]
     },
     "execution_count": 10,
     "metadata": {},
     "output_type": "execute_result"
    }
   ],
   "source": [
    "# Negative Slicing\n",
    "\n",
    "Name = \"Vungarala!\"\n",
    "\n",
    "print(Name[-5:-1])\n",
    "\n",
    "print(type(Name))\n",
    "\n",
    "len(Name)"
   ]
  },
  {
   "cell_type": "code",
   "execution_count": 11,
   "id": "cdb6f96b",
   "metadata": {},
   "outputs": [
    {
     "name": "stdout",
     "output_type": "stream",
     "text": [
      "[1, 2, 3, 4]\n"
     ]
    }
   ],
   "source": [
    "# List\n",
    "l=[1,2,3]\n",
    "l.append(4)\n",
    "print(l)"
   ]
  },
  {
   "cell_type": "code",
   "execution_count": 12,
   "id": "7b579b6c",
   "metadata": {},
   "outputs": [
    {
     "name": "stdout",
     "output_type": "stream",
     "text": [
      "['apple', 'banna']\n",
      "['apple', 'banna', 'orange'] 3\n",
      "<class 'list'>\n"
     ]
    }
   ],
   "source": [
    "l=[\"apple\",\"banna\"]\n",
    "l.append(\"orange\")\n",
    "print(l[0:2])\n",
    "print(l,len(l))\n",
    "print(type(l))"
   ]
  },
  {
   "cell_type": "code",
   "execution_count": null,
   "id": "85a79f43",
   "metadata": {},
   "outputs": [],
   "source": []
  }
 ],
 "metadata": {
  "kernelspec": {
   "display_name": "Python 3 (ipykernel)",
   "language": "python",
   "name": "python3"
  },
  "language_info": {
   "codemirror_mode": {
    "name": "ipython",
    "version": 3
   },
   "file_extension": ".py",
   "mimetype": "text/x-python",
   "name": "python",
   "nbconvert_exporter": "python",
   "pygments_lexer": "ipython3",
   "version": "3.11.3"
  }
 },
 "nbformat": 4,
 "nbformat_minor": 5
}
