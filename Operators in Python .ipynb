{
 "cells": [
  {
   "cell_type": "code",
   "execution_count": null,
   "id": "8e354d6f",
   "metadata": {},
   "outputs": [],
   "source": [
    "\"\"\" Operators in python\n",
    "    They have Seven Types of Operators in Python\n",
    "    1.Arithmetic operators\n",
    "    2.Assignment operators\n",
    "    3.Comparison operators\n",
    "    4.Logical operators\n",
    "    5.Identity operators\n",
    "    6.Membership operators\n",
    "    7.Bitwise operators\n",
    "\"\"\""
   ]
  },
  {
   "cell_type": "code",
   "execution_count": 80,
   "id": "ddc81708",
   "metadata": {},
   "outputs": [
    {
     "name": "stdout",
     "output_type": "stream",
     "text": [
      "This is add 6\n",
      "This is sub 2\n",
      "This is mul 8\n",
      "This is div 2.0\n",
      "This is floor div 2\n",
      "This is modules 16\n",
      "This is percentage 0\n"
     ]
    }
   ],
   "source": [
    "# 1.Arithmetic operators\n",
    "\n",
    "# \"+\",\"-\",\"*\",\"/\",\"//\",\"**\",\"%\"\n",
    "\n",
    "a = 4\n",
    "b = 2\n",
    "print(\"This is add\",a+b)\n",
    "print(\"This is sub\",a-b)\n",
    "print(\"This is mul\",a*b)\n",
    "print(\"This is div\",a/b)\n",
    "print(\"This is floor div\",a//b)\n",
    "print(\"This is modules\",a**b)\n",
    "print(\"This is percentage\",a%b)  "
   ]
  },
  {
   "cell_type": "code",
   "execution_count": 20,
   "id": "f3a6d47c",
   "metadata": {},
   "outputs": [
    {
     "name": "stdout",
     "output_type": "stream",
     "text": [
      "False\n"
     ]
    }
   ],
   "source": [
    "# 2.Assignment operators\n",
    "\n",
    "# \"==\",\"+=\",\"-=\",\"/=\",\"%=\",\"//=\",\"*=\"\n",
    "\n",
    "a = 2\n",
    "b = 4\n",
    "print(a==b)"
   ]
  },
  {
   "cell_type": "code",
   "execution_count": 22,
   "id": "b827f993",
   "metadata": {},
   "outputs": [
    {
     "name": "stdout",
     "output_type": "stream",
     "text": [
      "6\n"
     ]
    }
   ],
   "source": [
    "a = 2\n",
    "a += 4\n",
    "print(a)"
   ]
  },
  {
   "cell_type": "code",
   "execution_count": 23,
   "id": "4491f0ac",
   "metadata": {},
   "outputs": [
    {
     "name": "stdout",
     "output_type": "stream",
     "text": [
      "-2\n"
     ]
    }
   ],
   "source": [
    "a = 2\n",
    "a -= 4\n",
    "print(a)"
   ]
  },
  {
   "cell_type": "code",
   "execution_count": 24,
   "id": "b733b293",
   "metadata": {},
   "outputs": [
    {
     "name": "stdout",
     "output_type": "stream",
     "text": [
      "8\n"
     ]
    }
   ],
   "source": [
    "a = 2\n",
    "a *= 4\n",
    "print(a)"
   ]
  },
  {
   "cell_type": "code",
   "execution_count": 25,
   "id": "e52363a2",
   "metadata": {},
   "outputs": [
    {
     "name": "stdout",
     "output_type": "stream",
     "text": [
      "0.5\n"
     ]
    }
   ],
   "source": [
    "a = 2\n",
    "a /= 4\n",
    "print(a)"
   ]
  },
  {
   "cell_type": "code",
   "execution_count": 26,
   "id": "f17078d5",
   "metadata": {},
   "outputs": [
    {
     "name": "stdout",
     "output_type": "stream",
     "text": [
      "0\n"
     ]
    }
   ],
   "source": [
    "a = 2\n",
    "a //= 4\n",
    "print(a)"
   ]
  },
  {
   "cell_type": "code",
   "execution_count": 27,
   "id": "fe63a021",
   "metadata": {},
   "outputs": [
    {
     "name": "stdout",
     "output_type": "stream",
     "text": [
      "2\n"
     ]
    }
   ],
   "source": [
    "a = 2\n",
    "a %= 4\n",
    "print(a)"
   ]
  },
  {
   "cell_type": "code",
   "execution_count": 29,
   "id": "6501b580",
   "metadata": {},
   "outputs": [
    {
     "name": "stdout",
     "output_type": "stream",
     "text": [
      "False\n",
      "True\n",
      "False\n",
      "True\n",
      "False\n",
      "True\n"
     ]
    }
   ],
   "source": [
    "# 3.Comparison operators\n",
    "\n",
    "# \"==\",\"!=\",\">\",\"<\",\">=\",\"<=\"\n",
    "\n",
    "a = 2\n",
    "b = 4\n",
    "print(a==b)\n",
    "print(a!=b)\n",
    "print(a>b)\n",
    "print(a<b)\n",
    "print(a>=b)\n",
    "print(a<=b)"
   ]
  },
  {
   "cell_type": "code",
   "execution_count": 42,
   "id": "49e9a3c8",
   "metadata": {},
   "outputs": [
    {
     "name": "stdout",
     "output_type": "stream",
     "text": [
      "True\n"
     ]
    }
   ],
   "source": [
    "# 4.Logical operators\n",
    "\n",
    "# \"And\",\"Or\",\"Not\"\n",
    "\n",
    "a = 2\n",
    "b = 4\n",
    "if a!=b:\n",
    "    c = (a<b and a<b) #Returns True if both statements are true\n",
    "    print(c)\n",
    "else:\n",
    "    print(\"no\")\n"
   ]
  },
  {
   "cell_type": "code",
   "execution_count": 54,
   "id": "28600203",
   "metadata": {},
   "outputs": [
    {
     "name": "stdout",
     "output_type": "stream",
     "text": [
      "True\n"
     ]
    }
   ],
   "source": [
    "a = 5\n",
    "print(a > 3 or a < 4) #Returns True if one of the statements is true"
   ]
  },
  {
   "cell_type": "code",
   "execution_count": 62,
   "id": "7535dc90",
   "metadata": {},
   "outputs": [
    {
     "name": "stdout",
     "output_type": "stream",
     "text": [
      "True\n"
     ]
    }
   ],
   "source": [
    "a = 5\n",
    "print(not(a > 3 and a < 4)) #Reverse the result, returns False if the result is true"
   ]
  },
  {
   "cell_type": "code",
   "execution_count": 67,
   "id": "e0978364",
   "metadata": {},
   "outputs": [
    {
     "name": "stdout",
     "output_type": "stream",
     "text": [
      "True\n",
      "False\n"
     ]
    }
   ],
   "source": [
    "# 5.Identity operators\n",
    "\n",
    "#\"is\",\"is not\"\n",
    "\n",
    "a = 2\n",
    "b = 2\n",
    "print(a is b)\n",
    "print(a is not b)"
   ]
  },
  {
   "cell_type": "code",
   "execution_count": 73,
   "id": "fa661133",
   "metadata": {},
   "outputs": [
    {
     "name": "stdout",
     "output_type": "stream",
     "text": [
      "True\n",
      "False\n"
     ]
    }
   ],
   "source": [
    "# 6.Membership operators\n",
    "\n",
    "# \"in\",\"not in\"\n",
    "\n",
    "a = [\"apple\",\"orange\",\"guva\"]\n",
    "print(\"apple\" in a)\n",
    "print(\"orange\" not in a)"
   ]
  },
  {
   "cell_type": "code",
   "execution_count": 78,
   "id": "7ca12e0a",
   "metadata": {},
   "outputs": [
    {
     "name": "stdout",
     "output_type": "stream",
     "text": [
      "0\n",
      "6\n",
      "6\n",
      "32\n",
      "0\n"
     ]
    }
   ],
   "source": [
    "# 7.Bitwise operators\n",
    "\n",
    "# \"&\",\"|\",\"^\",\"<<\",\">>\"\n",
    "\n",
    "a = 2\n",
    "b = 4\n",
    "print(a & b)\n",
    "print(a | b)\n",
    "print(a ^ b)\n",
    "print(a << b)\n",
    "print(a >> b)"
   ]
  },
  {
   "cell_type": "code",
   "execution_count": null,
   "id": "e841dbb8",
   "metadata": {},
   "outputs": [],
   "source": []
  }
 ],
 "metadata": {
  "kernelspec": {
   "display_name": "Python 3 (ipykernel)",
   "language": "python",
   "name": "python3"
  },
  "language_info": {
   "codemirror_mode": {
    "name": "ipython",
    "version": 3
   },
   "file_extension": ".py",
   "mimetype": "text/x-python",
   "name": "python",
   "nbconvert_exporter": "python",
   "pygments_lexer": "ipython3",
   "version": "3.11.3"
  }
 },
 "nbformat": 4,
 "nbformat_minor": 5
}
